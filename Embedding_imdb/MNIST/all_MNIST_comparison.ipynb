{
 "cells": [
  {
   "cell_type": "code",
   "execution_count": 1,
   "id": "facial-vanilla",
   "metadata": {},
   "outputs": [],
   "source": [
    "import numpy as np\n",
    "import matplotlib.pyplot as plt\n",
    "from matplotlib.lines import Line2D"
   ]
  },
  {
   "cell_type": "code",
   "execution_count": 2,
   "id": "c3f7b1b2-ff9f-4be5-9094-281189dfca2d",
   "metadata": {},
   "outputs": [],
   "source": [
    "import sys\n",
    "sys.path.append('../')\n",
    "\n",
    "from TSNE_code.TSNE_utils import TSNE\n",
    "from sklearn.manifold import TSNE as sk_TSNE"
   ]
  },
  {
   "cell_type": "markdown",
   "id": "23ef7698-9cce-4165-9e85-2c1515767221",
   "metadata": {},
   "source": [
    "# Comparison of Scikit-Learn and Custom t-SNE on MNIST faces"
   ]
  },
  {
   "cell_type": "code",
   "execution_count": 3,
   "id": "0a844bfe-a305-4bbd-b956-60802bd01c34",
   "metadata": {
    "tags": []
   },
   "outputs": [],
   "source": [
    "path_to_mnist_dataset = \"digits.npz\""
   ]
  },
  {
   "cell_type": "code",
   "execution_count": 4,
   "id": "041c715a-ce17-4ad7-9d5a-62c9b613f123",
   "metadata": {
    "tags": []
   },
   "outputs": [],
   "source": [
    "mnist_loader = np.load(path_to_mnist_dataset)\n",
    "mnist_matrices = mnist_loader[\"x\"] / 255\n",
    "labels = mnist_loader[\"y\"]\n",
    "mnist_loader.close()"
   ]
  },
  {
   "cell_type": "code",
   "execution_count": 5,
   "id": "0e8e7fdb-ce46-4c03-a6ed-86a6fd5b94bf",
   "metadata": {
    "tags": []
   },
   "outputs": [],
   "source": [
    "def plot_digit(ax, digit_vector, title=None, color=\"red\"):\n",
    "    digit = digit_vector.reshape(28, 28)\n",
    "    ax.imshow(digit, cmap=\"gray\")\n",
    "    ax.set_xticks([])\n",
    "    ax.set_yticks([])\n",
    "    if title is not None:\n",
    "        ax.set_title(title, color=\"red\" if color is None else color)"
   ]
  },
  {
   "cell_type": "code",
   "execution_count": 6,
   "id": "6f3ef369-48a3-4c41-b37f-88f518a2df34",
   "metadata": {
    "tags": []
   },
   "outputs": [
    {
     "data": {
      "image/png": "[encoded data removed]",
      "text/plain": [
       "<Figure size 1200x600 with 18 Axes>"
      ]
     },
     "metadata": {},
     "output_type": "display_data"
    }
   ],
   "source": [
    "nrows, ncols = 3, 6\n",
    "to_display = np.random.choice(range(len(mnist_matrices)), size=nrows*ncols)\n",
    "\n",
    "fig, axs = plt.subplots(nrows, ncols, figsize=(2*ncols, 2*nrows))\n",
    "cur_display = 0\n",
    "for i in range(nrows):\n",
    "    for j in range(ncols):\n",
    "        digit_vector = mnist_matrices[to_display[cur_display]]\n",
    "        plot_digit(axs[i][j], digit_vector, title=f\"digit {labels[to_display[cur_display], 0]}\")\n",
    "        cur_display += 1"
   ]
  },
  {
   "cell_type": "markdown",
   "id": "fba7e672-80fe-4eaa-8ace-db0f9af7b147",
   "metadata": {},
   "source": [
    "## t-SNE on MNIST data"
   ]
  },
  {
   "cell_type": "code",
   "execution_count": 7,
   "id": "a47e7b81-3a3c-47dc-b7be-319b46e8a8c2",
   "metadata": {
    "tags": []
   },
   "outputs": [],
   "source": [
    "def sklearn_tsne(X, n_components, perplexity):\n",
    "    sk_tsne = sk_TSNE(n_components=n_components, learning_rate='auto', perplexity=perplexity, init='random')\n",
    "    sk_embedding = sk_tsne.fit_transform(X)\n",
    "    return sk_tsne, sk_embedding"
   ]
  },
  {
   "cell_type": "code",
   "execution_count": 8,
   "id": "6ec28f50-d82a-494d-8f41-62fd61a1f538",
   "metadata": {
    "tags": []
   },
   "outputs": [],
   "source": [
    "def custom_tsne(X, n_components, perplexity, adaptive_lr, reference_kl_divergence=None):\n",
    "    custom_tsne = TSNE(n_components=n_components, perplexity=perplexity, adaptive_learning_rate=adaptive_lr, patience=50, n_iter=1000)\n",
    "    custom_embedding = custom_tsne.fit_transform(X, reference_kl_divergence=reference_kl_divergence,\n",
    "                                                   title='Sk-learn KL divergence' if reference_kl_divergence is not None else '', verbose=0)\n",
    "    return custom_tsne, custom_embedding"
   ]
  },
  {
   "cell_type": "code",
   "execution_count": 9,
   "id": "59b8499d-23e2-43cb-a10d-b7fc089d3e8d",
   "metadata": {
    "tags": []
   },
   "outputs": [],
   "source": [
    "def compare_(X, n_components, perplexity):\n",
    "    sk_tsne, sk_embedding = sklearn_tsne(X, n_components, perplexity)\n",
    "    tsne_no_adpt_lr, custom_embedding_no_adpt_lr = custom_tsne(X, n_components, perplexity, adaptive_lr=False, reference_kl_divergence=sk_tsne.kl_divergence_)\n",
    "    tsne_adpt_lr, custom_embedding_adpt_lr = custom_tsne(X, n_components, perplexity, adaptive_lr=True, reference_kl_divergence=sk_tsne.kl_divergence_)\n",
    "    return sk_tsne, tsne_no_adpt_lr, tsne_adpt_lr, sk_embedding, custom_embedding_no_adpt_lr, custom_embedding_adpt_lr"
   ]
  },
  {
   "cell_type": "code",
   "execution_count": 10,
   "id": "ca3dc0fd-1134-4b81-b4f5-ec47ad48a76e",
   "metadata": {
    "tags": []
   },
   "outputs": [],
   "source": [
    "def plot_scatter(X, ax, label='', title=''):\n",
    "    ax.scatter(X[:, 0], X[:, 1], c=labels, label=label)\n",
    "    ax.set_title(title)\n",
    "    if label != '':\n",
    "        ax.legend()\n",
    "    \n",
    "def plot_comparison(perplexity, sk_tsne, tsne_no_adpt_lr, tsne_adpt_lr, sk_embedding, custom_embedding_no_adpt_lr, custom_embedding_adpt_lr):\n",
    "    fig, axs = plt.subplots(1, 3, figsize=(15, 4))\n",
    "    plot_scatter(sk_embedding, axs[0], label=f'KL div = {round(sk_tsne.kl_divergence_, 4)}', title='Scikit-learn')\n",
    "    plot_scatter(custom_embedding_no_adpt_lr, axs[1], label=f'KL div = {round(tsne_no_adpt_lr.kl_divergence[-1], 4)}', title='Custom t-SNE')\n",
    "    plot_scatter(custom_embedding_adpt_lr, axs[2], label=f'KL div = {round(tsne_adpt_lr.kl_divergence[-1], 4)}', title='Custom t-SNE + adaptive lr')\n",
    "    plt.suptitle(f'Perplexity: {perplexity}')\n",
    "    plt.show()"
   ]
  },
  {
   "cell_type": "markdown",
   "id": "7e8c05a3-734e-4bbf-9101-b0e0d4d69a13",
   "metadata": {},
   "source": [
    "## Run comparisons"
   ]
  },
  {
   "cell_type": "code",
   "execution_count": 11,
   "id": "810366fd-d71d-4cc6-8a3b-4d9add1eab7b",
   "metadata": {
    "tags": []
   },
   "outputs": [],
   "source": [
    "def compare_and_plot(X, n_components, perplexity):\n",
    "    sk_tsne, tsne_no_adpt_lr, tsne_adpt_lr, sk_embedding, custom_embedding_no_adpt_lr, custom_embedding_adpt_lr = compare_(X, n_components, perplexity)\n",
    "    plot_comparison(perplexity, sk_tsne, tsne_no_adpt_lr, tsne_adpt_lr, sk_embedding, custom_embedding_no_adpt_lr, custom_embedding_adpt_lr)\n",
    "    return sk_tsne, tsne_no_adpt_lr, tsne_adpt_lr"
   ]
  },
  {
   "cell_type": "code",
   "execution_count": 12,
   "id": "2eebc24f-3b88-4507-bcd6-e0bcec4dd5c4",
   "metadata": {
    "tags": []
   },
   "outputs": [],
   "source": [
    "perplexities = range(5, 60, 5)"
   ]
  },
  {
   "cell_type": "code",
   "execution_count": null,
   "id": "88d4bbb2-0fb8-4bd0-bd7c-15c718623378",
   "metadata": {
    "tags": []
   },
   "outputs": [],
   "source": [
    "sk_kl = []\n",
    "no_adpt_lr_kl = []\n",
    "adpt_lr_kl = []\n",
    "\n",
    "for perplexity in perplexities:\n",
    "    sk_tsne, tsne_no_adpt_lr, tsne_adpt_lr = compare_and_plot(mnist_matrices, 2, perplexity)\n",
    "    sk_kl.append(sk_tsne.kl_divergence_)\n",
    "    no_adpt_lr_kl.append(tsne_no_adpt_lr.kl_divergence[-1])\n",
    "    adpt_lr_kl.append(tsne_adpt_lr.kl_divergence[-1])"
   ]
  },
  {
   "cell_type": "code",
   "execution_count": null,
   "id": "75b87ae0-8242-4d9b-a0c1-bfd3ce5890f2",
   "metadata": {},
   "outputs": [],
   "source": [
    "fig, axs = plt.subplots(1, 3, figsize=(8, 4))\n",
    "\n",
    "axs[0].plot(perplexities, sk_kl)\n",
    "axs[0].set_title('Scikit-Learn')\n",
    "\n",
    "axs[1].plot(perplexities, no_adpt_lr_kl)\n",
    "axs[1].set_title('Custom t-SNE')\n",
    "\n",
    "axs[2].plot(perplexities, adpt_lr_kl)\n",
    "axs[2].set_title('Custom t-SNE + adaptive lr')\n",
    "\n",
    "plt.suptitle('Evolution of KL divergence wrt perplexity \\n MNIST dataset');"
   ]
  },
  {
   "cell_type": "code",
   "execution_count": null,
   "id": "e008e654-8f8a-45d1-8d05-9c25b84c8956",
   "metadata": {},
   "outputs": [],
   "source": []
  }
 ],
 "metadata": {
  "kernelspec": {
   "display_name": "Python 3 (ipykernel)",
   "language": "python",
   "name": "python3"
  },
  "language_info": {
   "codemirror_mode": {
    "name": "ipython",
    "version": 3
   },
   "file_extension": ".py",
   "mimetype": "text/x-python",
   "name": "python",
   "nbconvert_exporter": "python",
   "pygments_lexer": "ipython3",
   "version": "3.11.5"
  }
 },
 "nbformat": 4,
 "nbformat_minor": 5
}
