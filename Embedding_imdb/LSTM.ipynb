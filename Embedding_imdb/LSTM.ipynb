{
 "cells": [
  {
   "cell_type": "code",
   "execution_count": 1,
   "id": "therapeutic-planet",
   "metadata": {
    "tags": []
   },
   "outputs": [],
   "source": [
    "%%capture capt\n",
    "import numpy as np\n",
    "import tensorflow as tf\n",
    "from tensorflow.keras.datasets import imdb\n",
    "# from numba import njit, prange"
   ]
  },
  {
   "cell_type": "markdown",
   "id": "suburban-powell",
   "metadata": {},
   "source": [
    "## Import IMDB dataset"
   ]
  },
  {
   "cell_type": "code",
   "execution_count": 2,
   "id": "weighted-sucking",
   "metadata": {},
   "outputs": [],
   "source": [
    "INDEX_FROM = 3\n",
    "top_words = 5000\n",
    "(X_train, y_train), (X_test, y_test) = imdb.load_data(num_words=top_words, index_from=INDEX_FROM)"
   ]
  },
  {
   "cell_type": "code",
   "execution_count": 3,
   "id": "incorporated-volleyball",
   "metadata": {},
   "outputs": [],
   "source": [
    "word_to_id = imdb.get_word_index()\n",
    "word_to_id = {k:(v+INDEX_FROM) for k,v in word_to_id.items()}\n",
    "word_to_id[\"<PAD>\"] = 0\n",
    "word_to_id[\"<START>\"] = 1\n",
    "word_to_id[\"<UNK>\"] = 2\n",
    "\n",
    "id_to_word = {value:key for key,value in word_to_id.items()}"
   ]
  },
  {
   "cell_type": "code",
   "execution_count": 4,
   "id": "gentle-syndication",
   "metadata": {},
   "outputs": [
    {
     "name": "stdout",
     "output_type": "stream",
     "text": [
      "<START> this film was just brilliant casting location scenery story direction everyone's really suited the part they played and you could just imagine being there robert <UNK> is an amazing actor and now the same being director <UNK> father came from the same scottish island as myself so i loved the fact there was a real connection with this film the witty remarks throughout the film were great it was just brilliant so much that i bought the film as soon as it was released for <UNK> and would recommend it to everyone to watch and the fly <UNK> was amazing really cried at the end it was so sad and you know what they say if you cry at a film it must have been good and this definitely was also <UNK> to the two little <UNK> that played the <UNK> of norman and paul they were just brilliant children are often left out of the <UNK> list i think because the stars that play them all grown up are such a big <UNK> for the whole film but these children are amazing and should be <UNK> for what they have done don't you think the whole story was so lovely because it was true and was someone's life after all that was <UNK> with us all\n"
     ]
    }
   ],
   "source": [
    "# print first sentence in X_train\n",
    "sentence = [id_to_word[word] for word in X_train[0]]\n",
    "print(' '.join(sentence))"
   ]
  },
  {
   "cell_type": "markdown",
   "id": "static-february",
   "metadata": {},
   "source": [
    "## Pre-processing"
   ]
  },
  {
   "cell_type": "code",
   "execution_count": 5,
   "id": "corporate-young",
   "metadata": {},
   "outputs": [],
   "source": [
    "from tensorflow.keras.preprocessing import sequence"
   ]
  },
  {
   "cell_type": "code",
   "execution_count": 6,
   "id": "dependent-ferry",
   "metadata": {},
   "outputs": [
    {
     "name": "stdout",
     "output_type": "stream",
     "text": [
      "Longest sequence is 238\n"
     ]
    }
   ],
   "source": [
    "mean_review_length = int(np.mean([len(x) for x in X_train]))\n",
    "max_review_length = mean_review_length\n",
    "print(f\"Longest sequence is {max_review_length}\")"
   ]
  },
  {
   "cell_type": "code",
   "execution_count": 7,
   "id": "naval-commons",
   "metadata": {},
   "outputs": [],
   "source": [
    "X_train = sequence.pad_sequences(X_train, padding='post', maxlen=max_review_length)\n",
    "X_test = sequence.pad_sequences(X_test, padding='post', maxlen=max_review_length)"
   ]
  },
  {
   "cell_type": "markdown",
   "id": "usual-antigua",
   "metadata": {},
   "source": [
    "## LSTM model"
   ]
  },
  {
   "cell_type": "code",
   "execution_count": 8,
   "id": "analyzed-validation",
   "metadata": {},
   "outputs": [],
   "source": [
    "from tensorflow.keras.models import Sequential\n",
    "from tensorflow.keras.layers import Dense, Embedding, Dropout, Input, LSTM, Reshape, Lambda, RepeatVector\n",
    "from tensorflow.keras.callbacks import EarlyStopping, ModelCheckpoint"
   ]
  },
  {
   "cell_type": "code",
   "execution_count": 9,
   "id": "fifth-birthday",
   "metadata": {},
   "outputs": [],
   "source": [
    "nb_words = max([max(x) for x in X_train]) + 1\n",
    "embedding_vector_length = 256"
   ]
  },
  {
   "cell_type": "code",
   "execution_count": 10,
   "id": "exposed-bibliography",
   "metadata": {},
   "outputs": [],
   "source": [
    "model = Sequential()\n",
    "model.add(Embedding(nb_words, embedding_vector_length))\n",
    "\n",
    "model.add(LSTM(units=128, return_sequences=True))\n",
    "model.add(Dropout(0.5))\n",
    "model.add(LSTM(units=64))\n",
    "model.add(Dropout(0.4))\n",
    "\n",
    "model.add(Dense(64, activation='relu'))\n",
    "model.add(Dropout(0.4))\n",
    "\n",
    "model.add(Dense(1, activation='sigmoid'))"
   ]
  },
  {
   "cell_type": "code",
   "execution_count": 11,
   "id": "everyday-trade",
   "metadata": {},
   "outputs": [
    {
     "name": "stdout",
     "output_type": "stream",
     "text": [
      "Model: \"sequential\"\n",
      "_________________________________________________________________\n",
      " Layer (type)                Output Shape              Param #   \n",
      "=================================================================\n",
      " embedding (Embedding)       (None, None, 256)         1280000   \n",
      "                                                                 \n",
      " lstm (LSTM)                 (None, None, 128)         197120    \n",
      "                                                                 \n",
      " dropout (Dropout)           (None, None, 128)         0         \n",
      "                                                                 \n",
      " lstm_1 (LSTM)               (None, 64)                49408     \n",
      "                                                                 \n",
      " dropout_1 (Dropout)         (None, 64)                0         \n",
      "                                                                 \n",
      " dense (Dense)               (None, 64)                4160      \n",
      "                                                                 \n",
      " dropout_2 (Dropout)         (None, 64)                0         \n",
      "                                                                 \n",
      " dense_1 (Dense)             (None, 1)                 65        \n",
      "                                                                 \n",
      "=================================================================\n",
      "Total params: 1,530,753\n",
      "Trainable params: 1,530,753\n",
      "Non-trainable params: 0\n",
      "_________________________________________________________________\n"
     ]
    }
   ],
   "source": [
    "model.summary()"
   ]
  },
  {
   "cell_type": "code",
   "execution_count": 12,
   "id": "important-letters",
   "metadata": {},
   "outputs": [],
   "source": [
    "model.compile(loss='binary_crossentropy', \n",
    "              optimizer=tf.keras.optimizers.Adam(learning_rate = 1e-4), \n",
    "              metrics=['accuracy'])"
   ]
  },
  {
   "cell_type": "code",
   "execution_count": 13,
   "id": "variable-teddy",
   "metadata": {},
   "outputs": [],
   "source": [
    "filepath = 'model.h5'\n",
    "checkpoint = ModelCheckpoint(filepath=filepath, \n",
    "                             monitor='val_loss',\n",
    "                             verbose=1, \n",
    "                             save_best_only=True,\n",
    "                             mode='min')\n",
    "\n",
    "es = EarlyStopping(monitor='val_loss', patience=5, verbose=1)\n",
    "\n",
    "callbacks = [checkpoint, \n",
    "             es\n",
    "            ]"
   ]
  },
  {
   "cell_type": "code",
   "execution_count": 14,
   "id": "sized-software",
   "metadata": {},
   "outputs": [
    {
     "name": "stdout",
     "output_type": "stream",
     "text": [
      "Epoch 1/1000\n",
      "195/196 [============================>.] - ETA: 0s - loss: 0.6930 - accuracy: 0.5118\n",
      "Epoch 1: val_loss improved from inf to 0.69252, saving model to model.h5\n",
      "196/196 [==============================] - 22s 89ms/step - loss: 0.6930 - accuracy: 0.5118 - val_loss: 0.6925 - val_accuracy: 0.5021\n",
      "Epoch 2/1000\n",
      "195/196 [============================>.] - ETA: 0s - loss: 0.6726 - accuracy: 0.5661\n",
      "Epoch 2: val_loss improved from 0.69252 to 0.58209, saving model to model.h5\n",
      "196/196 [==============================] - 16s 83ms/step - loss: 0.6724 - accuracy: 0.5663 - val_loss: 0.5821 - val_accuracy: 0.7089\n",
      "Epoch 3/1000\n",
      "196/196 [==============================] - ETA: 0s - loss: 0.4577 - accuracy: 0.8126\n",
      "Epoch 3: val_loss improved from 0.58209 to 0.36773, saving model to model.h5\n",
      "196/196 [==============================] - 17s 84ms/step - loss: 0.4577 - accuracy: 0.8126 - val_loss: 0.3677 - val_accuracy: 0.8470\n",
      "Epoch 4/1000\n",
      "195/196 [============================>.] - ETA: 0s - loss: 0.3200 - accuracy: 0.8776\n",
      "Epoch 4: val_loss improved from 0.36773 to 0.33463, saving model to model.h5\n",
      "196/196 [==============================] - 16s 83ms/step - loss: 0.3200 - accuracy: 0.8776 - val_loss: 0.3346 - val_accuracy: 0.8602\n",
      "Epoch 5/1000\n",
      "196/196 [==============================] - ETA: 0s - loss: 0.2610 - accuracy: 0.9026\n",
      "Epoch 5: val_loss did not improve from 0.33463\n",
      "196/196 [==============================] - 16s 83ms/step - loss: 0.2610 - accuracy: 0.9026 - val_loss: 0.3373 - val_accuracy: 0.8711\n",
      "Epoch 6/1000\n",
      "195/196 [============================>.] - ETA: 0s - loss: 0.2347 - accuracy: 0.9136\n",
      "Epoch 6: val_loss did not improve from 0.33463\n",
      "196/196 [==============================] - 16s 83ms/step - loss: 0.2347 - accuracy: 0.9136 - val_loss: 0.3919 - val_accuracy: 0.8513\n",
      "Epoch 7/1000\n",
      "195/196 [============================>.] - ETA: 0s - loss: 0.2238 - accuracy: 0.9181\n",
      "Epoch 7: val_loss improved from 0.33463 to 0.33038, saving model to model.h5\n",
      "196/196 [==============================] - 16s 83ms/step - loss: 0.2238 - accuracy: 0.9181 - val_loss: 0.3304 - val_accuracy: 0.8620\n",
      "Epoch 8/1000\n",
      "195/196 [============================>.] - ETA: 0s - loss: 0.2067 - accuracy: 0.9256\n",
      "Epoch 8: val_loss did not improve from 0.33038\n",
      "196/196 [==============================] - 16s 82ms/step - loss: 0.2066 - accuracy: 0.9256 - val_loss: 0.3637 - val_accuracy: 0.8658\n",
      "Epoch 9/1000\n",
      "195/196 [============================>.] - ETA: 0s - loss: 0.1985 - accuracy: 0.9291\n",
      "Epoch 9: val_loss did not improve from 0.33038\n",
      "196/196 [==============================] - 16s 83ms/step - loss: 0.1984 - accuracy: 0.9291 - val_loss: 0.3376 - val_accuracy: 0.8610\n",
      "Epoch 10/1000\n",
      "195/196 [============================>.] - ETA: 0s - loss: 0.1882 - accuracy: 0.9341\n",
      "Epoch 10: val_loss did not improve from 0.33038\n",
      "196/196 [==============================] - 17s 84ms/step - loss: 0.1882 - accuracy: 0.9341 - val_loss: 0.3645 - val_accuracy: 0.8554\n",
      "Epoch 11/1000\n",
      "195/196 [============================>.] - ETA: 0s - loss: 0.1863 - accuracy: 0.9354\n",
      "Epoch 11: val_loss did not improve from 0.33038\n",
      "196/196 [==============================] - 18s 91ms/step - loss: 0.1862 - accuracy: 0.9354 - val_loss: 0.3577 - val_accuracy: 0.8617\n",
      "Epoch 12/1000\n",
      "196/196 [==============================] - ETA: 0s - loss: 0.1711 - accuracy: 0.9418\n",
      "Epoch 12: val_loss did not improve from 0.33038\n",
      "196/196 [==============================] - 16s 84ms/step - loss: 0.1711 - accuracy: 0.9418 - val_loss: 0.3926 - val_accuracy: 0.8618\n",
      "Epoch 12: early stopping\n"
     ]
    },
    {
     "data": {
      "text/plain": [
       "<keras.callbacks.History at 0x144a2b5ff40>"
      ]
     },
     "execution_count": 14,
     "metadata": {},
     "output_type": "execute_result"
    }
   ],
   "source": [
    "model.fit(X_train, y_train, epochs=1000, batch_size=128, validation_data=(X_test, y_test), callbacks=callbacks)"
   ]
  },
  {
   "cell_type": "markdown",
   "id": "946be7dc-0d1f-4ce4-907b-0878ff71a3a3",
   "metadata": {},
   "source": [
    "## Visualisation semantic"
   ]
  },
  {
   "cell_type": "code",
   "execution_count": 117,
   "id": "e4a82bf5-8de9-4e69-a4c1-22b11e5c25a1",
   "metadata": {},
   "outputs": [],
   "source": [
    "#Ouvre le fichier qui décrit les stopwords\n",
    "with open('stopwords_english.txt', 'r') as stop_words_file:\n",
    "    stop_words = stop_words_file.read().splitlines()"
   ]
  },
  {
   "cell_type": "code",
   "execution_count": 118,
   "id": "87319e87-5b86-450a-91bf-4918145d9999",
   "metadata": {},
   "outputs": [],
   "source": [
    "from keras.preprocessing.text import Tokenizer\n",
    "corpus=[]\n",
    "for i in range(X_train.shape[0]):\n",
    "    for word in X_train[i]:\n",
    "        if id_to_word[word] not in stop_words:\n",
    "            corpus.append([id_to_word[word]])\n",
    "\n",
    "min_word_frequency = 1 \n",
    "tokenizer = Tokenizer()\n",
    "tokenizer.fit_on_texts(corpus)\n",
    "\n",
    "# Filter out less frequent words\n",
    "word_counts = tokenizer.word_counts\n",
    "tokenizer.word_index = {word: index for word, index in tokenizer.word_index.items() if word_counts[word] >= min_word_frequency}\n",
    "tokenizer.word_index[tokenizer.oov_token] = len(tokenizer.word_index) + 1  # Add \"unknown\" token\n",
    "total_words = len(tokenizer.word_index) + 1"
   ]
  },
  {
   "cell_type": "code",
   "execution_count": 119,
   "id": "df2eab3c-d695-4e55-99ef-83237ec87657",
   "metadata": {},
   "outputs": [],
   "source": [
    "import numpy as np\n",
    "import tensorflow as tf\n",
    "import matplotlib.pyplot as plt\n",
    "from matplotlib.lines import Line2D"
   ]
  },
  {
   "cell_type": "code",
   "execution_count": 120,
   "id": "4249ed0c-15a8-40fc-8783-67dbf0b11bd2",
   "metadata": {},
   "outputs": [],
   "source": [
    "model = tf.keras.models.load_model('model.h5')"
   ]
  },
  {
   "cell_type": "code",
   "execution_count": 121,
   "id": "29295c70-2a2d-4110-8610-9a922135252d",
   "metadata": {},
   "outputs": [
    {
     "name": "stdout",
     "output_type": "stream",
     "text": [
      "['part', 'director', 'real', 'great', 'watch', 'know', 'little', 'think', 'big', 'life', 'bad', 'best', 'love', 'movies', 'seen', 'got', 'ever', 'plot', 'acting', 'funny', 'show', 'actually', 'scene', 'look', 'old', 'films', 'watching', 'first', 'going', \"can't\", 'man', 'way', 'better', 'actors', 'scenes', 'long', 'thought', 'nothing', 'cast', 'never', 'give', 'something', 'world', 'many', 'quite', 'interesting', 'character', 'work', 'comedy', 'new', 'want', 'pretty', 'role', 'take', 'around', 'series', 'action']\n"
     ]
    },
    {
     "data": {
      "image/png": "[encoded data removed]",
      "text/plain": [
       "<Figure size 864x720 with 1 Axes>"
      ]
     },
     "metadata": {
      "needs_background": "light"
     },
     "output_type": "display_data"
    }
   ],
   "source": [
    "import matplotlib.pyplot as plt\n",
    "# from TSNE_code.TSNE_utils import TSNE\n",
    "from sklearn.manifold import TSNE as sk_TSNE\n",
    "import numpy as np\n",
    "from sklearn.metrics import pairwise_distances\n",
    "\n",
    "#Filter words for plotting\n",
    "minimum = 2500\n",
    "maximum = 8000\n",
    "\n",
    "#Je récupère ma matrice d'embedding\n",
    "word_embeddings = model.layers[0].get_weights()[0]  # Your word embeddings matrix\n",
    "\n",
    "\n",
    "# Apply t-SNE to reduce dimensionality to 2D\n",
    "tsne = sk_TSNE(n_components=2, random_state=42, perplexity=30)\n",
    "embedded_words = tsne.fit_transform(word_embeddings)\n",
    "\n",
    "# tsne = TSNE(n_components=2, perplexity=30, adaptive_learning_rate=False, patience=50, n_iter=1000)\n",
    "# embedded_words = tsne.fit_transform(word_embeddings, reference_kl_divergence=tsne.kl_divergence_,\n",
    "#                                                    title='Sk-learn KL divergence', verbose=3)\n",
    "\n",
    "# Calculate pairwise distances between embedded words\n",
    "distances = pairwise_distances(embedded_words)\n",
    "\n",
    "# Plot the t-SNE visualization with labels for the top words\n",
    "plt.figure(figsize=(12, 10))\n",
    "\n",
    "selected_words = [word for word, count in tokenizer.word_counts.items() if  maximum > count > minimum]\n",
    "print(selected_words)\n",
    "\n",
    "# Define a colormap for the selected words based on distances\n",
    "# colors = plt.cm.rainbow(np.linspace(0, 1, len(selected_words)))\n",
    "\n",
    "for i, word in enumerate(selected_words):\n",
    "    index = tokenizer.word_index.get(word)\n",
    "    if index is not None:\n",
    "        x, y = embedded_words[index, :]\n",
    "        #color = colors[i]\n",
    "        plt.scatter(x, y, label=word, color='blue')\n",
    "        plt.text(x, y, word, fontsize=12, ha='right', va='bottom', color='black')\n",
    "\n",
    "plt.title(f't-SNE Visualization of Word Embeddings for Words Occurring > {minimum} Times')\n",
    "# plt.legend(title='Selected Words', loc='center right', bbox_to_anchor=(1, 0.5), fontsize='large')\n",
    "plt.show()\n"
   ]
  },
  {
   "cell_type": "code",
   "execution_count": 122,
   "id": "e878d216-794e-4a0a-a2ad-966eca99c12d",
   "metadata": {},
   "outputs": [
    {
     "name": "stdout",
     "output_type": "stream",
     "text": [
      "['part', 'director', 'real', 'great', 'watch', 'know', 'little', 'think', 'big', 'life', 'bad', 'best', 'love', 'movies', 'seen', 'got', 'ever', 'plot', 'acting', 'funny', 'show', 'actually', 'scene', 'look', 'old', 'films', 'watching', 'first', 'going', \"can't\", 'man', 'way', 'better', 'actors', 'scenes', 'long', 'thought', 'nothing', 'cast', 'never', 'give', 'something', 'world', 'many', 'quite', 'interesting', 'character', 'work', 'comedy', 'new', 'want', 'pretty', 'role', 'take', 'around', 'series', 'action']\n"
     ]
    },
    {
     "data": {
      "application/vnd.plotly.v1+json": {
       "config": {
        "plotlyServerURL": "https://plot.ly"
       },
       "data": [
        {
         "marker": {
          "color": [
           0.5,
           0,
           1,
           1
          ],
          "opacity": 0.8,
          "size": 8
         },
         "mode": "markers",
         "name": "part",
         "text": [
          "part"
         ],
         "type": "scatter3d",
         "x": [
          -28.56815528869629
         ],
         "y": [
          -16.619495391845703
         ],
         "z": [
          30.246511459350586
         ]
        },
        {
         "marker": {
          "color": [
           0.46862745098039216,
           0.04925994109281685,
           0.9996964519778716,
           1
          ],
          "opacity": 0.8,
          "size": 8
         },
         "mode": "markers",
         "name": "director",
         "text": [
          "director"
         ],
         "type": "scatter3d",
         "x": [
          -10.25604248046875
         ],
         "y": [
          1.7607041597366333
         ],
         "z": [
          9.085762977600098
         ]
        },
        {
         "marker": {
          "color": [
           0.4294117647058824,
           0.11065268189150083,
           0.9984636039674339,
           1
          ],
          "opacity": 0.8,
          "size": 8
         },
         "mode": "markers",
         "name": "real",
         "text": [
          "real"
         ],
         "type": "scatter3d",
         "x": [
          42.74824905395508
         ],
         "y": [
          12.590006828308105
         ],
         "z": [
          -12.069485664367676
         ]
        },
        {
         "marker": {
          "color": [
           0.39803921568627454,
           0.1594757912099808,
           0.9967953249171991,
           1
          ],
          "opacity": 0.8,
          "size": 8
         },
         "mode": "markers",
         "name": "great",
         "text": [
          "great"
         ],
         "type": "scatter3d",
         "x": [
          -24.203855514526367
         ],
         "y": [
          11.065475463867188
         ],
         "z": [
          10.632908821105957
         ]
        },
        {
         "marker": {
          "color": [
           0.3588235294117647,
           0.2199463578396686,
           0.9938591368952737,
           1
          ],
          "opacity": 0.8,
          "size": 8
         },
         "mode": "markers",
         "name": "watch",
         "text": [
          "watch"
         ],
         "type": "scatter3d",
         "x": [
          -2.909839630126953
         ],
         "y": [
          -0.797458827495575
         ],
         "z": [
          -2.8616409301757812
         ]
        },
        {
         "marker": {
          "color": [
           0.32745098039215687,
           0.2677330033224679,
           0.9908312530915603,
           1
          ],
          "opacity": 0.8,
          "size": 8
         },
         "mode": "markers",
         "name": "know",
         "text": [
          "know"
         ],
         "type": "scatter3d",
         "x": [
          -7.652898788452148
         ],
         "y": [
          -2.900538206100464
         ],
         "z": [
          46.1207389831543
         ]
        },
        {
         "marker": {
          "color": [
           0.28823529411764703,
           0.3265387128400833,
           0.9862007473534026,
           1
          ],
          "opacity": 0.8,
          "size": 8
         },
         "mode": "markers",
         "name": "little",
         "text": [
          "little"
         ],
         "type": "scatter3d",
         "x": [
          12.6240234375
         ],
         "y": [
          2.2021427154541016
         ],
         "z": [
          -7.177305221557617
         ]
        },
        {
         "marker": {
          "color": [
           0.24901960784313726,
           0.38410574917192586,
           0.9806347704689777,
           1
          ],
          "opacity": 0.8,
          "size": 8
         },
         "mode": "markers",
         "name": "think",
         "text": [
          "think"
         ],
         "type": "scatter3d",
         "x": [
          2.4369473457336426
         ],
         "y": [
          -18.793302536010742
         ],
         "z": [
          41.611141204833984
         ]
        },
        {
         "marker": {
          "color": [
           0.21764705882352942,
           0.42912060877260894,
           0.9755119679804366,
           1
          ],
          "opacity": 0.8,
          "size": 8
         },
         "mode": "markers",
         "name": "big",
         "text": [
          "big"
         ],
         "type": "scatter3d",
         "x": [
          10.911928176879883
         ],
         "y": [
          -13.449700355529785
         ],
         "z": [
          -5.421487331390381
         ]
        },
        {
         "marker": {
          "color": [
           0.17843137254901964,
           0.48391142410030147,
           0.9682760409157589,
           1
          ],
          "opacity": 0.8,
          "size": 8
         },
         "mode": "markers",
         "name": "life",
         "text": [
          "life"
         ],
         "type": "scatter3d",
         "x": [
          17.835901260375977
         ],
         "y": [
          -0.762499213218689
         ],
         "z": [
          17.872112274169922
         ]
        },
        {
         "marker": {
          "color": [
           0.1470588235294118,
           0.5264321628773557,
           0.961825643172819,
           1
          ],
          "opacity": 0.8,
          "size": 8
         },
         "mode": "markers",
         "name": "bad",
         "text": [
          "bad"
         ],
         "type": "scatter3d",
         "x": [
          17.107683181762695
         ],
         "y": [
          -1.8027172088623047
         ],
         "z": [
          -9.359817504882812
         ]
        },
        {
         "marker": {
          "color": [
           0.10784313725490197,
           0.5777738314082511,
           0.9529420004271566,
           1
          ],
          "opacity": 0.8,
          "size": 8
         },
         "mode": "markers",
         "name": "best",
         "text": [
          "best"
         ],
         "type": "scatter3d",
         "x": [
          47.44803237915039
         ],
         "y": [
          6.389963150024414
         ],
         "z": [
          5.64565896987915
         ]
        },
        {
         "marker": {
          "color": [
           0.07647058823529412,
           0.6172782212897929,
           0.9451838281608196,
           1
          ],
          "opacity": 0.8,
          "size": 8
         },
         "mode": "markers",
         "name": "love",
         "text": [
          "love"
         ],
         "type": "scatter3d",
         "x": [
          20.91879653930664
         ],
         "y": [
          17.945966720581055
         ],
         "z": [
          -38.47858810424805
         ]
        },
        {
         "marker": {
          "color": [
           0.03725490196078429,
           0.664540178707858,
           0.9346797673211106,
           1
          ],
          "opacity": 0.8,
          "size": 8
         },
         "mode": "markers",
         "name": "movies",
         "text": [
          "movies"
         ],
         "type": "scatter3d",
         "x": [
          -21.390798568725586
         ],
         "y": [
          -12.856474876403809
         ],
         "z": [
          30.06097984313965
         ]
        },
        {
         "marker": {
          "color": [
           0.0019607843137254832,
           0.7092813076058535,
           0.9232891061054894,
           1
          ],
          "opacity": 0.8,
          "size": 8
         },
         "mode": "markers",
         "name": "seen",
         "text": [
          "seen"
         ],
         "type": "scatter3d",
         "x": [
          -16.07408905029297
         ],
         "y": [
          6.884667873382568
         ],
         "z": [
          -25.06511878967285
         ]
        },
        {
         "marker": {
          "color": [
           0.033333333333333326,
           0.7431448254773941,
           0.9135454576426009,
           1
          ],
          "opacity": 0.8,
          "size": 8
         },
         "mode": "markers",
         "name": "got",
         "text": [
          "got"
         ],
         "type": "scatter3d",
         "x": [
          21.031614303588867
         ],
         "y": [
          5.771032333374023
         ],
         "z": [
          -20.845111846923828
         ]
        },
        {
         "marker": {
          "color": [
           0.0725490196078431,
           0.7829276104921027,
           0.9005867023006374,
           1
          ],
          "opacity": 0.8,
          "size": 8
         },
         "mode": "markers",
         "name": "ever",
         "text": [
          "ever"
         ],
         "type": "scatter3d",
         "x": [
          -15.145977973937988
         ],
         "y": [
          26.29071807861328
         ],
         "z": [
          6.085122108459473
         ]
        },
        {
         "marker": {
          "color": [
           0.10392156862745094,
           0.8126223709664456,
           0.8896040127307095,
           1
          ],
          "opacity": 0.8,
          "size": 8
         },
         "mode": "markers",
         "name": "plot",
         "text": [
          "plot"
         ],
         "type": "scatter3d",
         "x": [
          -5.40805196762085
         ],
         "y": [
          8.671343803405762
         ],
         "z": [
          -29.35674285888672
         ]
        },
        {
         "marker": {
          "color": [
           0.14313725490196072,
           0.846958210824467,
           0.8751169828229928,
           1
          ],
          "opacity": 0.8,
          "size": 8
         },
         "mode": "markers",
         "name": "acting",
         "text": [
          "acting"
         ],
         "type": "scatter3d",
         "x": [
          -4.976434230804443
         ],
         "y": [
          1.6842156648635864
         ],
         "z": [
          8.646562576293945
         ]
        },
        {
         "marker": {
          "color": [
           0.17450980392156867,
           0.8721195109836108,
           0.8629289996673897,
           1
          ],
          "opacity": 0.8,
          "size": 8
         },
         "mode": "markers",
         "name": "funny",
         "text": [
          "funny"
         ],
         "type": "scatter3d",
         "x": [
          13.142642974853516
         ],
         "y": [
          -13.563576698303223
         ],
         "z": [
          -18.63862419128418
         ]
        },
        {
         "marker": {
          "color": [
           0.21372549019607845,
           0.9005867023006374,
           0.8469582108244671,
           1
          ],
          "opacity": 0.8,
          "size": 8
         },
         "mode": "markers",
         "name": "show",
         "text": [
          "show"
         ],
         "type": "scatter3d",
         "x": [
          17.706697463989258
         ],
         "y": [
          -2.001713991165161
         ],
         "z": [
          -0.029972247779369354
         ]
        },
        {
         "marker": {
          "color": [
           0.2529411764705882,
           0.9256376597815562,
           0.8301840308155507,
           1
          ],
          "opacity": 0.8,
          "size": 8
         },
         "mode": "markers",
         "name": "actually",
         "text": [
          "actually"
         ],
         "type": "scatter3d",
         "x": [
          -40.72002029418945
         ],
         "y": [
          7.870062351226807
         ],
         "z": [
          11.20830249786377
         ]
        },
        {
         "marker": {
          "color": [
           0.28431372549019607,
           0.9431544344712774,
           0.8161969123562217,
           1
          ],
          "opacity": 0.8,
          "size": 8
         },
         "mode": "markers",
         "name": "scene",
         "text": [
          "scene"
         ],
         "type": "scatter3d",
         "x": [
          1.7569818496704102
         ],
         "y": [
          27.854969024658203
         ],
         "z": [
          -23.181921005249023
         ]
        },
        {
         "marker": {
          "color": [
           0.32352941176470584,
           0.961825643172819,
           0.7980172272802395,
           1
          ],
          "opacity": 0.8,
          "size": 8
         },
         "mode": "markers",
         "name": "look",
         "text": [
          "look"
         ],
         "type": "scatter3d",
         "x": [
          17.955808639526367
         ],
         "y": [
          29.21473503112793
         ],
         "z": [
          -11.013459205627441
         ]
        },
        {
         "marker": {
          "color": [
           0.3549019607843137,
           0.9741386021045101,
           0.7829276104921028,
           1
          ],
          "opacity": 0.8,
          "size": 8
         },
         "mode": "markers",
         "name": "old",
         "text": [
          "old"
         ],
         "type": "scatter3d",
         "x": [
          28.802066802978516
         ],
         "y": [
          -2.9465267658233643
         ],
         "z": [
          -26.43149757385254
         ]
        },
        {
         "marker": {
          "color": [
           0.39411764705882346,
           0.9862007473534026,
           0.763398282741103,
           1
          ],
          "opacity": 0.8,
          "size": 8
         },
         "mode": "markers",
         "name": "films",
         "text": [
          "films"
         ],
         "type": "scatter3d",
         "x": [
          16.319805145263672
         ],
         "y": [
          -0.7634882926940918
         ],
         "z": [
          -28.653697967529297
         ]
        },
        {
         "marker": {
          "color": [
           0.4254901960784314,
           0.9931586661366362,
           0.747252534878891,
           1
          ],
          "opacity": 0.8,
          "size": 8
         },
         "mode": "markers",
         "name": "watching",
         "text": [
          "watching"
         ],
         "type": "scatter3d",
         "x": [
          21.183856964111328
         ],
         "y": [
          -35.17039489746094
         ],
         "z": [
          -19.106794357299805
         ]
        },
        {
         "marker": {
          "color": [
           0.4647058823529412,
           0.9984636039674339,
           0.7264335740162242,
           1
          ],
          "opacity": 0.8,
          "size": 8
         },
         "mode": "markers",
         "name": "first",
         "text": [
          "first"
         ],
         "type": "scatter3d",
         "x": [
          -10.243252754211426
         ],
         "y": [
          30.510601043701172
         ],
         "z": [
          -33.00117111206055
         ]
        },
        {
         "marker": {
          "color": [
           0.503921568627451,
           0.9999810273487268,
           0.7049255469061472,
           1
          ],
          "opacity": 0.8,
          "size": 8
         },
         "mode": "markers",
         "name": "going",
         "text": [
          "going"
         ],
         "type": "scatter3d",
         "x": [
          34.71308517456055
         ],
         "y": [
          26.6295223236084
         ],
         "z": [
          -16.248748779296875
         ]
        },
        {
         "marker": {
          "color": [
           0.5352941176470587,
           0.9984636039674339,
           0.6872366859692628,
           1
          ],
          "opacity": 0.8,
          "size": 8
         },
         "mode": "markers",
         "name": "can't",
         "text": [
          "can't"
         ],
         "type": "scatter3d",
         "x": [
          -5.018606185913086
         ],
         "y": [
          -28.64645004272461
         ],
         "z": [
          16.804271697998047
         ]
        },
        {
         "marker": {
          "color": [
           0.5745098039215686,
           0.9931586661366362,
           0.6645401787078581,
           1
          ],
          "opacity": 0.8,
          "size": 8
         },
         "mode": "markers",
         "name": "man",
         "text": [
          "man"
         ],
         "type": "scatter3d",
         "x": [
          12.956704139709473
         ],
         "y": [
          30.63988494873047
         ],
         "z": [
          -19.981456756591797
         ]
        },
        {
         "marker": {
          "color": [
           0.6058823529411765,
           0.9862007473534026,
           0.6459280624867872,
           1
          ],
          "opacity": 0.8,
          "size": 8
         },
         "mode": "markers",
         "name": "way",
         "text": [
          "way"
         ],
         "type": "scatter3d",
         "x": [
          -26.786821365356445
         ],
         "y": [
          8.526291847229004
         ],
         "z": [
          -36.744869232177734
         ]
        },
        {
         "marker": {
          "color": [
           0.6450980392156862,
           0.9741386021045102,
           0.622112816721474,
           1
          ],
          "opacity": 0.8,
          "size": 8
         },
         "mode": "markers",
         "name": "better",
         "text": [
          "better"
         ],
         "type": "scatter3d",
         "x": [
          -24.95041275024414
         ],
         "y": [
          -10.840508460998535
         ],
         "z": [
          25.6881160736084
         ]
        },
        {
         "marker": {
          "color": [
           0.6764705882352942,
           0.961825643172819,
           0.6026346363792564,
           1
          ],
          "opacity": 0.8,
          "size": 8
         },
         "mode": "markers",
         "name": "actors",
         "text": [
          "actors"
         ],
         "type": "scatter3d",
         "x": [
          -18.239242553710938
         ],
         "y": [
          0.5576515793800354
         ],
         "z": [
          20.555347442626953
         ]
        },
        {
         "marker": {
          "color": [
           0.7156862745098038,
           0.9431544344712776,
           0.5777738314082511,
           1
          ],
          "opacity": 0.8,
          "size": 8
         },
         "mode": "markers",
         "name": "scenes",
         "text": [
          "scenes"
         ],
         "type": "scatter3d",
         "x": [
          -15.957585334777832
         ],
         "y": [
          -3.830538272857666
         ],
         "z": [
          46.45648956298828
         ]
        },
        {
         "marker": {
          "color": [
           0.7549019607843137,
           0.9209055179449537,
           0.5523649729605058,
           1
          ],
          "opacity": 0.8,
          "size": 8
         },
         "mode": "markers",
         "name": "long",
         "text": [
          "long"
         ],
         "type": "scatter3d",
         "x": [
          8.567239761352539
         ],
         "y": [
          14.08702564239502
         ],
         "z": [
          -34.54918670654297
         ]
        },
        {
         "marker": {
          "color": [
           0.7862745098039214,
           0.9005867023006376,
           0.5316594672504363,
           1
          ],
          "opacity": 0.8,
          "size": 8
         },
         "mode": "markers",
         "name": "thought",
         "text": [
          "thought"
         ],
         "type": "scatter3d",
         "x": [
          -19.79119300842285
         ],
         "y": [
          -21.17730712890625
         ],
         "z": [
          0.24268639087677002
         ]
        },
        {
         "marker": {
          "color": [
           0.8254901960784313,
           0.872119510983611,
           0.5053251839489481,
           1
          ],
          "opacity": 0.8,
          "size": 8
         },
         "mode": "markers",
         "name": "nothing",
         "text": [
          "nothing"
         ],
         "type": "scatter3d",
         "x": [
          0.2541934549808502
         ],
         "y": [
          -12.478482246398926
         ],
         "z": [
          -5.932931900024414
         ]
        },
        {
         "marker": {
          "color": [
           0.8568627450980393,
           0.8469582108244671,
           0.4839114241003015,
           1
          ],
          "opacity": 0.8,
          "size": 8
         },
         "mode": "markers",
         "name": "cast",
         "text": [
          "cast"
         ],
         "type": "scatter3d",
         "x": [
          6.2260308265686035
         ],
         "y": [
          -2.2599308490753174
         ],
         "z": [
          -3.571718215942383
         ]
        },
        {
         "marker": {
          "color": [
           0.896078431372549,
           0.8126223709664456,
           0.45673263572184064,
           1
          ],
          "opacity": 0.8,
          "size": 8
         },
         "mode": "markers",
         "name": "never",
         "text": [
          "never"
         ],
         "type": "scatter3d",
         "x": [
          -23.79242515563965
         ],
         "y": [
          2.604369640350342
         ],
         "z": [
          -1.170435905456543
         ]
        },
        {
         "marker": {
          "color": [
           0.9274509803921569,
           0.7829276104921029,
           0.43467642176596505,
           1
          ],
          "opacity": 0.8,
          "size": 8
         },
         "mode": "markers",
         "name": "give",
         "text": [
          "give"
         ],
         "type": "scatter3d",
         "x": [
          19.88562774658203
         ],
         "y": [
          20.59322166442871
         ],
         "z": [
          -17.232772827148438
         ]
        },
        {
         "marker": {
          "color": [
           0.9666666666666666,
           0.7431448254773945,
           0.4067366430758004,
           1
          ],
          "opacity": 0.8,
          "size": 8
         },
         "mode": "markers",
         "name": "something",
         "text": [
          "something"
         ],
         "type": "scatter3d",
         "x": [
          17.913564682006836
         ],
         "y": [
          -15.009466171264648
         ],
         "z": [
          4.944450855255127
         ]
        },
        {
         "marker": {
          "color": [
           1,
           0.7005430375932911,
           0.37841105004231035,
           1
          ],
          "opacity": 0.8,
          "size": 8
         },
         "mode": "markers",
         "name": "world",
         "text": [
          "world"
         ],
         "type": "scatter3d",
         "x": [
          15.69717025756836
         ],
         "y": [
          -9.49017333984375
         ],
         "z": [
          -0.6759087443351746
         ]
        },
        {
         "marker": {
          "color": [
           1,
           0.6645401787078582,
           0.35549083330031817,
           1
          ],
          "opacity": 0.8,
          "size": 8
         },
         "mode": "markers",
         "name": "many",
         "text": [
          "many"
         ],
         "type": "scatter3d",
         "x": [
          2.264625310897827
         ],
         "y": [
          0.6540887951850891
         ],
         "z": [
          -7.508667469024658
         ]
        },
        {
         "marker": {
          "color": [
           1,
           0.6172782212897929,
           0.3265387128400833,
           1
          ],
          "opacity": 0.8,
          "size": 8
         },
         "mode": "markers",
         "name": "quite",
         "text": [
          "quite"
         ],
         "type": "scatter3d",
         "x": [
          3.0308897495269775
         ],
         "y": [
          44.935546875
         ],
         "z": [
          6.78753137588501
         ]
        },
        {
         "marker": {
          "color": [
           1,
           0.5777738314082512,
           0.3031526741130436,
           1
          ],
          "opacity": 0.8,
          "size": 8
         },
         "mode": "markers",
         "name": "interesting",
         "text": [
          "interesting"
         ],
         "type": "scatter3d",
         "x": [
          0.4561290442943573
         ],
         "y": [
          -5.836971282958984
         ],
         "z": [
          11.961413383483887
         ]
        },
        {
         "marker": {
          "color": [
           1,
           0.5264321628773561,
           0.273662990072083,
           1
          ],
          "opacity": 0.8,
          "size": 8
         },
         "mode": "markers",
         "name": "character",
         "text": [
          "character"
         ],
         "type": "scatter3d",
         "x": [
          11.201887130737305
         ],
         "y": [
          -4.188009262084961
         ],
         "z": [
          -1.422042727470398
         ]
        },
        {
         "marker": {
          "color": [
           1,
           0.4839114241003016,
           0.24988298979423082,
           1
          ],
          "opacity": 0.8,
          "size": 8
         },
         "mode": "markers",
         "name": "work",
         "text": [
          "work"
         ],
         "type": "scatter3d",
         "x": [
          -30.199180603027344
         ],
         "y": [
          -4.949292182922363
         ],
         "z": [
          3.9022886753082275
         ]
        },
        {
         "marker": {
          "color": [
           1,
           0.42912060877260916,
           0.2199463578396687,
           1
          ],
          "opacity": 0.8,
          "size": 8
         },
         "mode": "markers",
         "name": "comedy",
         "text": [
          "comedy"
         ],
         "type": "scatter3d",
         "x": [
          25.136003494262695
         ],
         "y": [
          -22.870254516601562
         ],
         "z": [
          18.695547103881836
         ]
        },
        {
         "marker": {
          "color": [
           1,
           0.37270199199091436,
           0.18980109344182594,
           1
          ],
          "opacity": 0.8,
          "size": 8
         },
         "mode": "markers",
         "name": "new",
         "text": [
          "new"
         ],
         "type": "scatter3d",
         "x": [
          6.10759162902832
         ],
         "y": [
          -12.835661888122559
         ],
         "z": [
          -45.21708679199219
         ]
        },
        {
         "marker": {
          "color": [
           1,
           0.3265387128400838,
           0.1655538761841302,
           1
          ],
          "opacity": 0.8,
          "size": 8
         },
         "mode": "markers",
         "name": "want",
         "text": [
          "want"
         ],
         "type": "scatter3d",
         "x": [
          -10.65427017211914
         ],
         "y": [
          -0.029331248253583908
         ],
         "z": [
          -26.709978103637695
         ]
        },
        {
         "marker": {
          "color": [
           1,
           0.26773300332246813,
           0.13510524748139308,
           1
          ],
          "opacity": 0.8,
          "size": 8
         },
         "mode": "markers",
         "name": "pretty",
         "text": [
          "pretty"
         ],
         "type": "scatter3d",
         "x": [
          0.5223504304885864
         ],
         "y": [
          14.753926277160645
         ],
         "z": [
          -31.348508834838867
         ]
        },
        {
         "marker": {
          "color": [
           1,
           0.21994635783966857,
           0.11065268189150082,
           1
          ],
          "opacity": 0.8,
          "size": 8
         },
         "mode": "markers",
         "name": "role",
         "text": [
          "role"
         ],
         "type": "scatter3d",
         "x": [
          -13.731183052062988
         ],
         "y": [
          5.358335018157959
         ],
         "z": [
          4.251468658447266
         ]
        },
        {
         "marker": {
          "color": [
           1,
           0.1594757912099809,
           0.07999425118854168,
           1
          ],
          "opacity": 0.8,
          "size": 8
         },
         "mode": "markers",
         "name": "take",
         "text": [
          "take"
         ],
         "type": "scatter3d",
         "x": [
          -22.869293212890625
         ],
         "y": [
          -17.758522033691406
         ],
         "z": [
          27.93987274169922
         ]
        },
        {
         "marker": {
          "color": [
           1,
           0.1106526818915011,
           0.05541147491597008,
           1
          ],
          "opacity": 0.8,
          "size": 8
         },
         "mode": "markers",
         "name": "around",
         "text": [
          "around"
         ],
         "type": "scatter3d",
         "x": [
          -1.2851723432540894
         ],
         "y": [
          8.221294403076172
         ],
         "z": [
          11.820863723754883
         ]
        },
        {
         "marker": {
          "color": [
           1,
           0.049259941092817276,
           0.024637449195382185,
           1
          ],
          "opacity": 0.8,
          "size": 8
         },
         "mode": "markers",
         "name": "series",
         "text": [
          "series"
         ],
         "type": "scatter3d",
         "x": [
          15.52609634399414
         ],
         "y": [
          17.415124893188477
         ],
         "z": [
          -20.54522705078125
         ]
        },
        {
         "marker": {
          "color": [
           1,
           1.2246467991473532e-16,
           6.123233995736766e-17,
           1
          ],
          "opacity": 0.8,
          "size": 8
         },
         "mode": "markers",
         "name": "action",
         "text": [
          "action"
         ],
         "type": "scatter3d",
         "x": [
          3.3273677825927734
         ],
         "y": [
          20.422569274902344
         ],
         "z": [
          -3.080003023147583
         ]
        }
       ],
       "layout": {
        "autosize": true,
        "scene": {
         "aspectmode": "auto",
         "aspectratio": {
          "x": 1.0191494260982383,
          "y": 0.925958123255099,
          "z": 1.0596703669605076
         },
         "camera": {
          "center": {
           "x": 0,
           "y": 0,
           "z": 0
          },
          "eye": {
           "x": 0.44616646911369284,
           "y": 0.8063150199432955,
           "z": 0.4223767397570737
          },
          "projection": {
           "type": "perspective"
          },
          "up": {
           "x": 0,
           "y": 0,
           "z": 1
          }
         },
         "xaxis": {
          "title": {
           "text": "Dimension 1"
          },
          "type": "linear"
         },
         "yaxis": {
          "title": {
           "text": "Dimension 2"
          },
          "type": "linear"
         },
         "zaxis": {
          "title": {
           "text": "Dimension 3"
          },
          "type": "linear"
         }
        },
        "template": {
         "data": {
          "bar": [
           {
            "error_x": {
             "color": "#2a3f5f"
            },
            "error_y": {
             "color": "#2a3f5f"
            },
            "marker": {
             "line": {
              "color": "#E5ECF6",
              "width": 0.5
             },
             "pattern": {
              "fillmode": "overlay",
              "size": 10,
              "solidity": 0.2
             }
            },
            "type": "bar"
           }
          ],
          "barpolar": [
           {
            "marker": {
             "line": {
              "color": "#E5ECF6",
              "width": 0.5
             },
             "pattern": {
              "fillmode": "overlay",
              "size": 10,
              "solidity": 0.2
             }
            },
            "type": "barpolar"
           }
          ],
          "carpet": [
           {
            "aaxis": {
             "endlinecolor": "#2a3f5f",
             "gridcolor": "white",
             "linecolor": "white",
             "minorgridcolor": "white",
             "startlinecolor": "#2a3f5f"
            },
            "baxis": {
             "endlinecolor": "#2a3f5f",
             "gridcolor": "white",
             "linecolor": "white",
             "minorgridcolor": "white",
             "startlinecolor": "#2a3f5f"
            },
            "type": "carpet"
           }
          ],
          "choropleth": [
           {
            "colorbar": {
             "outlinewidth": 0,
             "ticks": ""
            },
            "type": "choropleth"
           }
          ],
          "contour": [
           {
            "colorbar": {
             "outlinewidth": 0,
             "ticks": ""
            },
            "colorscale": [
             [
              0,
              "#0d0887"
             ],
             [
              0.1111111111111111,
              "#46039f"
             ],
             [
              0.2222222222222222,
              "#7201a8"
             ],
             [
              0.3333333333333333,
              "#9c179e"
             ],
             [
              0.4444444444444444,
              "#bd3786"
             ],
             [
              0.5555555555555556,
              "#d8576b"
             ],
             [
              0.6666666666666666,
              "#ed7953"
             ],
             [
              0.7777777777777778,
              "#fb9f3a"
             ],
             [
              0.8888888888888888,
              "#fdca26"
             ],
             [
              1,
              "#f0f921"
             ]
            ],
            "type": "contour"
           }
          ],
          "contourcarpet": [
           {
            "colorbar": {
             "outlinewidth": 0,
             "ticks": ""
            },
            "type": "contourcarpet"
           }
          ],
          "heatmap": [
           {
            "colorbar": {
             "outlinewidth": 0,
             "ticks": ""
            },
            "colorscale": [
             [
              0,
              "#0d0887"
             ],
             [
              0.1111111111111111,
              "#46039f"
             ],
             [
              0.2222222222222222,
              "#7201a8"
             ],
             [
              0.3333333333333333,
              "#9c179e"
             ],
             [
              0.4444444444444444,
              "#bd3786"
             ],
             [
              0.5555555555555556,
              "#d8576b"
             ],
             [
              0.6666666666666666,
              "#ed7953"
             ],
             [
              0.7777777777777778,
              "#fb9f3a"
             ],
             [
              0.8888888888888888,
              "#fdca26"
             ],
             [
              1,
              "#f0f921"
             ]
            ],
            "type": "heatmap"
           }
          ],
          "heatmapgl": [
           {
            "colorbar": {
             "outlinewidth": 0,
             "ticks": ""
            },
            "colorscale": [
             [
              0,
              "#0d0887"
             ],
             [
              0.1111111111111111,
              "#46039f"
             ],
             [
              0.2222222222222222,
              "#7201a8"
             ],
             [
              0.3333333333333333,
              "#9c179e"
             ],
             [
              0.4444444444444444,
              "#bd3786"
             ],
             [
              0.5555555555555556,
              "#d8576b"
             ],
             [
              0.6666666666666666,
              "#ed7953"
             ],
             [
              0.7777777777777778,
              "#fb9f3a"
             ],
             [
              0.8888888888888888,
              "#fdca26"
             ],
             [
              1,
              "#f0f921"
             ]
            ],
            "type": "heatmapgl"
           }
          ],
          "histogram": [
           {
            "marker": {
             "pattern": {
              "fillmode": "overlay",
              "size": 10,
              "solidity": 0.2
             }
            },
            "type": "histogram"
           }
          ],
          "histogram2d": [
           {
            "colorbar": {
             "outlinewidth": 0,
             "ticks": ""
            },
            "colorscale": [
             [
              0,
              "#0d0887"
             ],
             [
              0.1111111111111111,
              "#46039f"
             ],
             [
              0.2222222222222222,
              "#7201a8"
             ],
             [
              0.3333333333333333,
              "#9c179e"
             ],
             [
              0.4444444444444444,
              "#bd3786"
             ],
             [
              0.5555555555555556,
              "#d8576b"
             ],
             [
              0.6666666666666666,
              "#ed7953"
             ],
             [
              0.7777777777777778,
              "#fb9f3a"
             ],
             [
              0.8888888888888888,
              "#fdca26"
             ],
             [
              1,
              "#f0f921"
             ]
            ],
            "type": "histogram2d"
           }
          ],
          "histogram2dcontour": [
           {
            "colorbar": {
             "outlinewidth": 0,
             "ticks": ""
            },
            "colorscale": [
             [
              0,
              "#0d0887"
             ],
             [
              0.1111111111111111,
              "#46039f"
             ],
             [
              0.2222222222222222,
              "#7201a8"
             ],
             [
              0.3333333333333333,
              "#9c179e"
             ],
             [
              0.4444444444444444,
              "#bd3786"
             ],
             [
              0.5555555555555556,
              "#d8576b"
             ],
             [
              0.6666666666666666,
              "#ed7953"
             ],
             [
              0.7777777777777778,
              "#fb9f3a"
             ],
             [
              0.8888888888888888,
              "#fdca26"
             ],
             [
              1,
              "#f0f921"
             ]
            ],
            "type": "histogram2dcontour"
           }
          ],
          "mesh3d": [
           {
            "colorbar": {
             "outlinewidth": 0,
             "ticks": ""
            },
            "type": "mesh3d"
           }
          ],
          "parcoords": [
           {
            "line": {
             "colorbar": {
              "outlinewidth": 0,
              "ticks": ""
             }
            },
            "type": "parcoords"
           }
          ],
          "pie": [
           {
            "automargin": true,
            "type": "pie"
           }
          ],
          "scatter": [
           {
            "fillpattern": {
             "fillmode": "overlay",
             "size": 10,
             "solidity": 0.2
            },
            "type": "scatter"
           }
          ],
          "scatter3d": [
           {
            "line": {
             "colorbar": {
              "outlinewidth": 0,
              "ticks": ""
             }
            },
            "marker": {
             "colorbar": {
              "outlinewidth": 0,
              "ticks": ""
             }
            },
            "type": "scatter3d"
           }
          ],
          "scattercarpet": [
           {
            "marker": {
             "colorbar": {
              "outlinewidth": 0,
              "ticks": ""
             }
            },
            "type": "scattercarpet"
           }
          ],
          "scattergeo": [
           {
            "marker": {
             "colorbar": {
              "outlinewidth": 0,
              "ticks": ""
             }
            },
            "type": "scattergeo"
           }
          ],
          "scattergl": [
           {
            "marker": {
             "colorbar": {
              "outlinewidth": 0,
              "ticks": ""
             }
            },
            "type": "scattergl"
           }
          ],
          "scattermapbox": [
           {
            "marker": {
             "colorbar": {
              "outlinewidth": 0,
              "ticks": ""
             }
            },
            "type": "scattermapbox"
           }
          ],
          "scatterpolar": [
           {
            "marker": {
             "colorbar": {
              "outlinewidth": 0,
              "ticks": ""
             }
            },
            "type": "scatterpolar"
           }
          ],
          "scatterpolargl": [
           {
            "marker": {
             "colorbar": {
              "outlinewidth": 0,
              "ticks": ""
             }
            },
            "type": "scatterpolargl"
           }
          ],
          "scatterternary": [
           {
            "marker": {
             "colorbar": {
              "outlinewidth": 0,
              "ticks": ""
             }
            },
            "type": "scatterternary"
           }
          ],
          "surface": [
           {
            "colorbar": {
             "outlinewidth": 0,
             "ticks": ""
            },
            "colorscale": [
             [
              0,
              "#0d0887"
             ],
             [
              0.1111111111111111,
              "#46039f"
             ],
             [
              0.2222222222222222,
              "#7201a8"
             ],
             [
              0.3333333333333333,
              "#9c179e"
             ],
             [
              0.4444444444444444,
              "#bd3786"
             ],
             [
              0.5555555555555556,
              "#d8576b"
             ],
             [
              0.6666666666666666,
              "#ed7953"
             ],
             [
              0.7777777777777778,
              "#fb9f3a"
             ],
             [
              0.8888888888888888,
              "#fdca26"
             ],
             [
              1,
              "#f0f921"
             ]
            ],
            "type": "surface"
           }
          ],
          "table": [
           {
            "cells": {
             "fill": {
              "color": "#EBF0F8"
             },
             "line": {
              "color": "white"
             }
            },
            "header": {
             "fill": {
              "color": "#C8D4E3"
             },
             "line": {
              "color": "white"
             }
            },
            "type": "table"
           }
          ]
         },
         "layout": {
          "annotationdefaults": {
           "arrowcolor": "#2a3f5f",
           "arrowhead": 0,
           "arrowwidth": 1
          },
          "autotypenumbers": "strict",
          "coloraxis": {
           "colorbar": {
            "outlinewidth": 0,
            "ticks": ""
           }
          },
          "colorscale": {
           "diverging": [
            [
             0,
             "#8e0152"
            ],
            [
             0.1,
             "#c51b7d"
            ],
            [
             0.2,
             "#de77ae"
            ],
            [
             0.3,
             "#f1b6da"
            ],
            [
             0.4,
             "#fde0ef"
            ],
            [
             0.5,
             "#f7f7f7"
            ],
            [
             0.6,
             "#e6f5d0"
            ],
            [
             0.7,
             "#b8e186"
            ],
            [
             0.8,
             "#7fbc41"
            ],
            [
             0.9,
             "#4d9221"
            ],
            [
             1,
             "#276419"
            ]
           ],
           "sequential": [
            [
             0,
             "#0d0887"
            ],
            [
             0.1111111111111111,
             "#46039f"
            ],
            [
             0.2222222222222222,
             "#7201a8"
            ],
            [
             0.3333333333333333,
             "#9c179e"
            ],
            [
             0.4444444444444444,
             "#bd3786"
            ],
            [
             0.5555555555555556,
             "#d8576b"
            ],
            [
             0.6666666666666666,
             "#ed7953"
            ],
            [
             0.7777777777777778,
             "#fb9f3a"
            ],
            [
             0.8888888888888888,
             "#fdca26"
            ],
            [
             1,
             "#f0f921"
            ]
           ],
           "sequentialminus": [
            [
             0,
             "#0d0887"
            ],
            [
             0.1111111111111111,
             "#46039f"
            ],
            [
             0.2222222222222222,
             "#7201a8"
            ],
            [
             0.3333333333333333,
             "#9c179e"
            ],
            [
             0.4444444444444444,
             "#bd3786"
            ],
            [
             0.5555555555555556,
             "#d8576b"
            ],
            [
             0.6666666666666666,
             "#ed7953"
            ],
            [
             0.7777777777777778,
             "#fb9f3a"
            ],
            [
             0.8888888888888888,
             "#fdca26"
            ],
            [
             1,
             "#f0f921"
            ]
           ]
          },
          "colorway": [
           "#636efa",
           "#EF553B",
           "#00cc96",
           "#ab63fa",
           "#FFA15A",
           "#19d3f3",
           "#FF6692",
           "#B6E880",
           "#FF97FF",
           "#FECB52"
          ],
          "font": {
           "color": "#2a3f5f"
          },
          "geo": {
           "bgcolor": "white",
           "lakecolor": "white",
           "landcolor": "#E5ECF6",
           "showlakes": true,
           "showland": true,
           "subunitcolor": "white"
          },
          "hoverlabel": {
           "align": "left"
          },
          "hovermode": "closest",
          "mapbox": {
           "style": "light"
          },
          "paper_bgcolor": "white",
          "plot_bgcolor": "#E5ECF6",
          "polar": {
           "angularaxis": {
            "gridcolor": "white",
            "linecolor": "white",
            "ticks": ""
           },
           "bgcolor": "#E5ECF6",
           "radialaxis": {
            "gridcolor": "white",
            "linecolor": "white",
            "ticks": ""
           }
          },
          "scene": {
           "xaxis": {
            "backgroundcolor": "#E5ECF6",
            "gridcolor": "white",
            "gridwidth": 2,
            "linecolor": "white",
            "showbackground": true,
            "ticks": "",
            "zerolinecolor": "white"
           },
           "yaxis": {
            "backgroundcolor": "#E5ECF6",
            "gridcolor": "white",
            "gridwidth": 2,
            "linecolor": "white",
            "showbackground": true,
            "ticks": "",
            "zerolinecolor": "white"
           },
           "zaxis": {
            "backgroundcolor": "#E5ECF6",
            "gridcolor": "white",
            "gridwidth": 2,
            "linecolor": "white",
            "showbackground": true,
            "ticks": "",
            "zerolinecolor": "white"
           }
          },
          "shapedefaults": {
           "line": {
            "color": "#2a3f5f"
           }
          },
          "ternary": {
           "aaxis": {
            "gridcolor": "white",
            "linecolor": "white",
            "ticks": ""
           },
           "baxis": {
            "gridcolor": "white",
            "linecolor": "white",
            "ticks": ""
           },
           "bgcolor": "#E5ECF6",
           "caxis": {
            "gridcolor": "white",
            "linecolor": "white",
            "ticks": ""
           }
          },
          "title": {
           "x": 0.05
          },
          "xaxis": {
           "automargin": true,
           "gridcolor": "white",
           "linecolor": "white",
           "ticks": "",
           "title": {
            "standoff": 15
           },
           "zerolinecolor": "white",
           "zerolinewidth": 2
          },
          "yaxis": {
           "automargin": true,
           "gridcolor": "white",
           "linecolor": "white",
           "ticks": "",
           "title": {
            "standoff": 15
           },
           "zerolinecolor": "white",
           "zerolinewidth": 2
          }
         }
        },
        "title": {
         "text": "3D T-SNE Embedding on the IMDB dataset"
        }
       }
      },
      "image/png": "[encoded data removed]",
      "text/html": [
       "<div>                            <div id=\"764c6409-47a2-415e-9c44-2f0b25e86300\" class=\"plotly-graph-div\" style=\"height:525px; width:100%;\"></div>            <script type=\"text/javascript\">                require([\"plotly\"], function(Plotly) {                    window.PLOTLYENV=window.PLOTLYENV || {};                                    if (document.getElementById(\"764c6409-47a2-415e-9c44-2f0b25e86300\")) {                    Plotly.newPlot(                        \"764c6409-47a2-415e-9c44-2f0b25e86300\",                        [{\"marker\":{\"color\":[0.5,0.0,1.0,1.0],\"opacity\":0.8,\"size\":8},\"mode\":\"markers\",\"name\":\"part\",\"text\":[\"part\"],\"x\":[-28.56815528869629],\"y\":[-16.619495391845703],\"z\":[30.246511459350586],\"type\":\"scatter3d\"},{\"marker\":{\"color\":[0.46862745098039216,0.04925994109281685,0.9996964519778716,1.0],\"opacity\":0.8,\"size\":8},\"mode\":\"markers\",\"name\":\"director\",\"text\":[\"director\"],\"x\":[-10.25604248046875],\"y\":[1.7607041597366333],\"z\":[9.085762977600098],\"type\":\"scatter3d\"},{\"marker\":{\"color\":[0.4294117647058824,0.11065268189150083,0.9984636039674339,1.0],\"opacity\":0.8,\"size\":8},\"mode\":\"markers\",\"name\":\"real\",\"text\":[\"real\"],\"x\":[42.74824905395508],\"y\":[12.590006828308105],\"z\":[-12.069485664367676],\"type\":\"scatter3d\"},{\"marker\":{\"color\":[0.39803921568627454,0.1594757912099808,0.9967953249171991,1.0],\"opacity\":0.8,\"size\":8},\"mode\":\"markers\",\"name\":\"great\",\"text\":[\"great\"],\"x\":[-24.203855514526367],\"y\":[11.065475463867188],\"z\":[10.632908821105957],\"type\":\"scatter3d\"},{\"marker\":{\"color\":[0.3588235294117647,0.2199463578396686,0.9938591368952737,1.0],\"opacity\":0.8,\"size\":8},\"mode\":\"markers\",\"name\":\"watch\",\"text\":[\"watch\"],\"x\":[-2.909839630126953],\"y\":[-0.797458827495575],\"z\":[-2.8616409301757812],\"type\":\"scatter3d\"},{\"marker\":{\"color\":[0.32745098039215687,0.2677330033224679,0.9908312530915603,1.0],\"opacity\":0.8,\"size\":8},\"mode\":\"markers\",\"name\":\"know\",\"text\":[\"know\"],\"x\":[-7.652898788452148],\"y\":[-2.900538206100464],\"z\":[46.1207389831543],\"type\":\"scatter3d\"},{\"marker\":{\"color\":[0.28823529411764703,0.3265387128400833,0.9862007473534026,1.0],\"opacity\":0.8,\"size\":8},\"mode\":\"markers\",\"name\":\"little\",\"text\":[\"little\"],\"x\":[12.6240234375],\"y\":[2.2021427154541016],\"z\":[-7.177305221557617],\"type\":\"scatter3d\"},{\"marker\":{\"color\":[0.24901960784313726,0.38410574917192586,0.9806347704689777,1.0],\"opacity\":0.8,\"size\":8},\"mode\":\"markers\",\"name\":\"think\",\"text\":[\"think\"],\"x\":[2.4369473457336426],\"y\":[-18.793302536010742],\"z\":[41.611141204833984],\"type\":\"scatter3d\"},{\"marker\":{\"color\":[0.21764705882352942,0.42912060877260894,0.9755119679804366,1.0],\"opacity\":0.8,\"size\":8},\"mode\":\"markers\",\"name\":\"big\",\"text\":[\"big\"],\"x\":[10.911928176879883],\"y\":[-13.449700355529785],\"z\":[-5.421487331390381],\"type\":\"scatter3d\"},{\"marker\":{\"color\":[0.17843137254901964,0.48391142410030147,0.9682760409157589,1.0],\"opacity\":0.8,\"size\":8},\"mode\":\"markers\",\"name\":\"life\",\"text\":[\"life\"],\"x\":[17.835901260375977],\"y\":[-0.762499213218689],\"z\":[17.872112274169922],\"type\":\"scatter3d\"},{\"marker\":{\"color\":[0.1470588235294118,0.5264321628773557,0.961825643172819,1.0],\"opacity\":0.8,\"size\":8},\"mode\":\"markers\",\"name\":\"bad\",\"text\":[\"bad\"],\"x\":[17.107683181762695],\"y\":[-1.8027172088623047],\"z\":[-9.359817504882812],\"type\":\"scatter3d\"},{\"marker\":{\"color\":[0.10784313725490197,0.5777738314082511,0.9529420004271566,1.0],\"opacity\":0.8,\"size\":8},\"mode\":\"markers\",\"name\":\"best\",\"text\":[\"best\"],\"x\":[47.44803237915039],\"y\":[6.389963150024414],\"z\":[5.64565896987915],\"type\":\"scatter3d\"},{\"marker\":{\"color\":[0.07647058823529412,0.6172782212897929,0.9451838281608196,1.0],\"opacity\":0.8,\"size\":8},\"mode\":\"markers\",\"name\":\"love\",\"text\":[\"love\"],\"x\":[20.91879653930664],\"y\":[17.945966720581055],\"z\":[-38.47858810424805],\"type\":\"scatter3d\"},{\"marker\":{\"color\":[0.03725490196078429,0.664540178707858,0.9346797673211106,1.0],\"opacity\":0.8,\"size\":8},\"mode\":\"markers\",\"name\":\"movies\",\"text\":[\"movies\"],\"x\":[-21.390798568725586],\"y\":[-12.856474876403809],\"z\":[30.06097984313965],\"type\":\"scatter3d\"},{\"marker\":{\"color\":[0.0019607843137254832,0.7092813076058535,0.9232891061054894,1.0],\"opacity\":0.8,\"size\":8},\"mode\":\"markers\",\"name\":\"seen\",\"text\":[\"seen\"],\"x\":[-16.07408905029297],\"y\":[6.884667873382568],\"z\":[-25.06511878967285],\"type\":\"scatter3d\"},{\"marker\":{\"color\":[0.033333333333333326,0.7431448254773941,0.9135454576426009,1.0],\"opacity\":0.8,\"size\":8},\"mode\":\"markers\",\"name\":\"got\",\"text\":[\"got\"],\"x\":[21.031614303588867],\"y\":[5.771032333374023],\"z\":[-20.845111846923828],\"type\":\"scatter3d\"},{\"marker\":{\"color\":[0.0725490196078431,0.7829276104921027,0.9005867023006374,1.0],\"opacity\":0.8,\"size\":8},\"mode\":\"markers\",\"name\":\"ever\",\"text\":[\"ever\"],\"x\":[-15.145977973937988],\"y\":[26.29071807861328],\"z\":[6.085122108459473],\"type\":\"scatter3d\"},{\"marker\":{\"color\":[0.10392156862745094,0.8126223709664456,0.8896040127307095,1.0],\"opacity\":0.8,\"size\":8},\"mode\":\"markers\",\"name\":\"plot\",\"text\":[\"plot\"],\"x\":[-5.40805196762085],\"y\":[8.671343803405762],\"z\":[-29.35674285888672],\"type\":\"scatter3d\"},{\"marker\":{\"color\":[0.14313725490196072,0.846958210824467,0.8751169828229928,1.0],\"opacity\":0.8,\"size\":8},\"mode\":\"markers\",\"name\":\"acting\",\"text\":[\"acting\"],\"x\":[-4.976434230804443],\"y\":[1.6842156648635864],\"z\":[8.646562576293945],\"type\":\"scatter3d\"},{\"marker\":{\"color\":[0.17450980392156867,0.8721195109836108,0.8629289996673897,1.0],\"opacity\":0.8,\"size\":8},\"mode\":\"markers\",\"name\":\"funny\",\"text\":[\"funny\"],\"x\":[13.142642974853516],\"y\":[-13.563576698303223],\"z\":[-18.63862419128418],\"type\":\"scatter3d\"},{\"marker\":{\"color\":[0.21372549019607845,0.9005867023006374,0.8469582108244671,1.0],\"opacity\":0.8,\"size\":8},\"mode\":\"markers\",\"name\":\"show\",\"text\":[\"show\"],\"x\":[17.706697463989258],\"y\":[-2.001713991165161],\"z\":[-0.029972247779369354],\"type\":\"scatter3d\"},{\"marker\":{\"color\":[0.2529411764705882,0.9256376597815562,0.8301840308155507,1.0],\"opacity\":0.8,\"size\":8},\"mode\":\"markers\",\"name\":\"actually\",\"text\":[\"actually\"],\"x\":[-40.72002029418945],\"y\":[7.870062351226807],\"z\":[11.20830249786377],\"type\":\"scatter3d\"},{\"marker\":{\"color\":[0.28431372549019607,0.9431544344712774,0.8161969123562217,1.0],\"opacity\":0.8,\"size\":8},\"mode\":\"markers\",\"name\":\"scene\",\"text\":[\"scene\"],\"x\":[1.7569818496704102],\"y\":[27.854969024658203],\"z\":[-23.181921005249023],\"type\":\"scatter3d\"},{\"marker\":{\"color\":[0.32352941176470584,0.961825643172819,0.7980172272802395,1.0],\"opacity\":0.8,\"size\":8},\"mode\":\"markers\",\"name\":\"look\",\"text\":[\"look\"],\"x\":[17.955808639526367],\"y\":[29.21473503112793],\"z\":[-11.013459205627441],\"type\":\"scatter3d\"},{\"marker\":{\"color\":[0.3549019607843137,0.9741386021045101,0.7829276104921028,1.0],\"opacity\":0.8,\"size\":8},\"mode\":\"markers\",\"name\":\"old\",\"text\":[\"old\"],\"x\":[28.802066802978516],\"y\":[-2.9465267658233643],\"z\":[-26.43149757385254],\"type\":\"scatter3d\"},{\"marker\":{\"color\":[0.39411764705882346,0.9862007473534026,0.763398282741103,1.0],\"opacity\":0.8,\"size\":8},\"mode\":\"markers\",\"name\":\"films\",\"text\":[\"films\"],\"x\":[16.319805145263672],\"y\":[-0.7634882926940918],\"z\":[-28.653697967529297],\"type\":\"scatter3d\"},{\"marker\":{\"color\":[0.4254901960784314,0.9931586661366362,0.747252534878891,1.0],\"opacity\":0.8,\"size\":8},\"mode\":\"markers\",\"name\":\"watching\",\"text\":[\"watching\"],\"x\":[21.183856964111328],\"y\":[-35.17039489746094],\"z\":[-19.106794357299805],\"type\":\"scatter3d\"},{\"marker\":{\"color\":[0.4647058823529412,0.9984636039674339,0.7264335740162242,1.0],\"opacity\":0.8,\"size\":8},\"mode\":\"markers\",\"name\":\"first\",\"text\":[\"first\"],\"x\":[-10.243252754211426],\"y\":[30.510601043701172],\"z\":[-33.00117111206055],\"type\":\"scatter3d\"},{\"marker\":{\"color\":[0.503921568627451,0.9999810273487268,0.7049255469061472,1.0],\"opacity\":0.8,\"size\":8},\"mode\":\"markers\",\"name\":\"going\",\"text\":[\"going\"],\"x\":[34.71308517456055],\"y\":[26.6295223236084],\"z\":[-16.248748779296875],\"type\":\"scatter3d\"},{\"marker\":{\"color\":[0.5352941176470587,0.9984636039674339,0.6872366859692628,1.0],\"opacity\":0.8,\"size\":8},\"mode\":\"markers\",\"name\":\"can't\",\"text\":[\"can't\"],\"x\":[-5.018606185913086],\"y\":[-28.64645004272461],\"z\":[16.804271697998047],\"type\":\"scatter3d\"},{\"marker\":{\"color\":[0.5745098039215686,0.9931586661366362,0.6645401787078581,1.0],\"opacity\":0.8,\"size\":8},\"mode\":\"markers\",\"name\":\"man\",\"text\":[\"man\"],\"x\":[12.956704139709473],\"y\":[30.63988494873047],\"z\":[-19.981456756591797],\"type\":\"scatter3d\"},{\"marker\":{\"color\":[0.6058823529411765,0.9862007473534026,0.6459280624867872,1.0],\"opacity\":0.8,\"size\":8},\"mode\":\"markers\",\"name\":\"way\",\"text\":[\"way\"],\"x\":[-26.786821365356445],\"y\":[8.526291847229004],\"z\":[-36.744869232177734],\"type\":\"scatter3d\"},{\"marker\":{\"color\":[0.6450980392156862,0.9741386021045102,0.622112816721474,1.0],\"opacity\":0.8,\"size\":8},\"mode\":\"markers\",\"name\":\"better\",\"text\":[\"better\"],\"x\":[-24.95041275024414],\"y\":[-10.840508460998535],\"z\":[25.6881160736084],\"type\":\"scatter3d\"},{\"marker\":{\"color\":[0.6764705882352942,0.961825643172819,0.6026346363792564,1.0],\"opacity\":0.8,\"size\":8},\"mode\":\"markers\",\"name\":\"actors\",\"text\":[\"actors\"],\"x\":[-18.239242553710938],\"y\":[0.5576515793800354],\"z\":[20.555347442626953],\"type\":\"scatter3d\"},{\"marker\":{\"color\":[0.7156862745098038,0.9431544344712776,0.5777738314082511,1.0],\"opacity\":0.8,\"size\":8},\"mode\":\"markers\",\"name\":\"scenes\",\"text\":[\"scenes\"],\"x\":[-15.957585334777832],\"y\":[-3.830538272857666],\"z\":[46.45648956298828],\"type\":\"scatter3d\"},{\"marker\":{\"color\":[0.7549019607843137,0.9209055179449537,0.5523649729605058,1.0],\"opacity\":0.8,\"size\":8},\"mode\":\"markers\",\"name\":\"long\",\"text\":[\"long\"],\"x\":[8.567239761352539],\"y\":[14.08702564239502],\"z\":[-34.54918670654297],\"type\":\"scatter3d\"},{\"marker\":{\"color\":[0.7862745098039214,0.9005867023006376,0.5316594672504363,1.0],\"opacity\":0.8,\"size\":8},\"mode\":\"markers\",\"name\":\"thought\",\"text\":[\"thought\"],\"x\":[-19.79119300842285],\"y\":[-21.17730712890625],\"z\":[0.24268639087677002],\"type\":\"scatter3d\"},{\"marker\":{\"color\":[0.8254901960784313,0.872119510983611,0.5053251839489481,1.0],\"opacity\":0.8,\"size\":8},\"mode\":\"markers\",\"name\":\"nothing\",\"text\":[\"nothing\"],\"x\":[0.2541934549808502],\"y\":[-12.478482246398926],\"z\":[-5.932931900024414],\"type\":\"scatter3d\"},{\"marker\":{\"color\":[0.8568627450980393,0.8469582108244671,0.4839114241003015,1.0],\"opacity\":0.8,\"size\":8},\"mode\":\"markers\",\"name\":\"cast\",\"text\":[\"cast\"],\"x\":[6.2260308265686035],\"y\":[-2.2599308490753174],\"z\":[-3.571718215942383],\"type\":\"scatter3d\"},{\"marker\":{\"color\":[0.896078431372549,0.8126223709664456,0.45673263572184064,1.0],\"opacity\":0.8,\"size\":8},\"mode\":\"markers\",\"name\":\"never\",\"text\":[\"never\"],\"x\":[-23.79242515563965],\"y\":[2.604369640350342],\"z\":[-1.170435905456543],\"type\":\"scatter3d\"},{\"marker\":{\"color\":[0.9274509803921569,0.7829276104921029,0.43467642176596505,1.0],\"opacity\":0.8,\"size\":8},\"mode\":\"markers\",\"name\":\"give\",\"text\":[\"give\"],\"x\":[19.88562774658203],\"y\":[20.59322166442871],\"z\":[-17.232772827148438],\"type\":\"scatter3d\"},{\"marker\":{\"color\":[0.9666666666666666,0.7431448254773945,0.4067366430758004,1.0],\"opacity\":0.8,\"size\":8},\"mode\":\"markers\",\"name\":\"something\",\"text\":[\"something\"],\"x\":[17.913564682006836],\"y\":[-15.009466171264648],\"z\":[4.944450855255127],\"type\":\"scatter3d\"},{\"marker\":{\"color\":[1.0,0.7005430375932911,0.37841105004231035,1.0],\"opacity\":0.8,\"size\":8},\"mode\":\"markers\",\"name\":\"world\",\"text\":[\"world\"],\"x\":[15.69717025756836],\"y\":[-9.49017333984375],\"z\":[-0.6759087443351746],\"type\":\"scatter3d\"},{\"marker\":{\"color\":[1.0,0.6645401787078582,0.35549083330031817,1.0],\"opacity\":0.8,\"size\":8},\"mode\":\"markers\",\"name\":\"many\",\"text\":[\"many\"],\"x\":[2.264625310897827],\"y\":[0.6540887951850891],\"z\":[-7.508667469024658],\"type\":\"scatter3d\"},{\"marker\":{\"color\":[1.0,0.6172782212897929,0.3265387128400833,1.0],\"opacity\":0.8,\"size\":8},\"mode\":\"markers\",\"name\":\"quite\",\"text\":[\"quite\"],\"x\":[3.0308897495269775],\"y\":[44.935546875],\"z\":[6.78753137588501],\"type\":\"scatter3d\"},{\"marker\":{\"color\":[1.0,0.5777738314082512,0.3031526741130436,1.0],\"opacity\":0.8,\"size\":8},\"mode\":\"markers\",\"name\":\"interesting\",\"text\":[\"interesting\"],\"x\":[0.4561290442943573],\"y\":[-5.836971282958984],\"z\":[11.961413383483887],\"type\":\"scatter3d\"},{\"marker\":{\"color\":[1.0,0.5264321628773561,0.273662990072083,1.0],\"opacity\":0.8,\"size\":8},\"mode\":\"markers\",\"name\":\"character\",\"text\":[\"character\"],\"x\":[11.201887130737305],\"y\":[-4.188009262084961],\"z\":[-1.422042727470398],\"type\":\"scatter3d\"},{\"marker\":{\"color\":[1.0,0.4839114241003016,0.24988298979423082,1.0],\"opacity\":0.8,\"size\":8},\"mode\":\"markers\",\"name\":\"work\",\"text\":[\"work\"],\"x\":[-30.199180603027344],\"y\":[-4.949292182922363],\"z\":[3.9022886753082275],\"type\":\"scatter3d\"},{\"marker\":{\"color\":[1.0,0.42912060877260916,0.2199463578396687,1.0],\"opacity\":0.8,\"size\":8},\"mode\":\"markers\",\"name\":\"comedy\",\"text\":[\"comedy\"],\"x\":[25.136003494262695],\"y\":[-22.870254516601562],\"z\":[18.695547103881836],\"type\":\"scatter3d\"},{\"marker\":{\"color\":[1.0,0.37270199199091436,0.18980109344182594,1.0],\"opacity\":0.8,\"size\":8},\"mode\":\"markers\",\"name\":\"new\",\"text\":[\"new\"],\"x\":[6.10759162902832],\"y\":[-12.835661888122559],\"z\":[-45.21708679199219],\"type\":\"scatter3d\"},{\"marker\":{\"color\":[1.0,0.3265387128400838,0.1655538761841302,1.0],\"opacity\":0.8,\"size\":8},\"mode\":\"markers\",\"name\":\"want\",\"text\":[\"want\"],\"x\":[-10.65427017211914],\"y\":[-0.029331248253583908],\"z\":[-26.709978103637695],\"type\":\"scatter3d\"},{\"marker\":{\"color\":[1.0,0.26773300332246813,0.13510524748139308,1.0],\"opacity\":0.8,\"size\":8},\"mode\":\"markers\",\"name\":\"pretty\",\"text\":[\"pretty\"],\"x\":[0.5223504304885864],\"y\":[14.753926277160645],\"z\":[-31.348508834838867],\"type\":\"scatter3d\"},{\"marker\":{\"color\":[1.0,0.21994635783966857,0.11065268189150082,1.0],\"opacity\":0.8,\"size\":8},\"mode\":\"markers\",\"name\":\"role\",\"text\":[\"role\"],\"x\":[-13.731183052062988],\"y\":[5.358335018157959],\"z\":[4.251468658447266],\"type\":\"scatter3d\"},{\"marker\":{\"color\":[1.0,0.1594757912099809,0.07999425118854168,1.0],\"opacity\":0.8,\"size\":8},\"mode\":\"markers\",\"name\":\"take\",\"text\":[\"take\"],\"x\":[-22.869293212890625],\"y\":[-17.758522033691406],\"z\":[27.93987274169922],\"type\":\"scatter3d\"},{\"marker\":{\"color\":[1.0,0.1106526818915011,0.05541147491597008,1.0],\"opacity\":0.8,\"size\":8},\"mode\":\"markers\",\"name\":\"around\",\"text\":[\"around\"],\"x\":[-1.2851723432540894],\"y\":[8.221294403076172],\"z\":[11.820863723754883],\"type\":\"scatter3d\"},{\"marker\":{\"color\":[1.0,0.049259941092817276,0.024637449195382185,1.0],\"opacity\":0.8,\"size\":8},\"mode\":\"markers\",\"name\":\"series\",\"text\":[\"series\"],\"x\":[15.52609634399414],\"y\":[17.415124893188477],\"z\":[-20.54522705078125],\"type\":\"scatter3d\"},{\"marker\":{\"color\":[1.0,1.2246467991473532e-16,6.123233995736766e-17,1.0],\"opacity\":0.8,\"size\":8},\"mode\":\"markers\",\"name\":\"action\",\"text\":[\"action\"],\"x\":[3.3273677825927734],\"y\":[20.422569274902344],\"z\":[-3.080003023147583],\"type\":\"scatter3d\"}],                        {\"template\":{\"data\":{\"histogram2dcontour\":[{\"type\":\"histogram2dcontour\",\"colorbar\":{\"outlinewidth\":0,\"ticks\":\"\"},\"colorscale\":[[0.0,\"#0d0887\"],[0.1111111111111111,\"#46039f\"],[0.2222222222222222,\"#7201a8\"],[0.3333333333333333,\"#9c179e\"],[0.4444444444444444,\"#bd3786\"],[0.5555555555555556,\"#d8576b\"],[0.6666666666666666,\"#ed7953\"],[0.7777777777777778,\"#fb9f3a\"],[0.8888888888888888,\"#fdca26\"],[1.0,\"#f0f921\"]]}],\"choropleth\":[{\"type\":\"choropleth\",\"colorbar\":{\"outlinewidth\":0,\"ticks\":\"\"}}],\"histogram2d\":[{\"type\":\"histogram2d\",\"colorbar\":{\"outlinewidth\":0,\"ticks\":\"\"},\"colorscale\":[[0.0,\"#0d0887\"],[0.1111111111111111,\"#46039f\"],[0.2222222222222222,\"#7201a8\"],[0.3333333333333333,\"#9c179e\"],[0.4444444444444444,\"#bd3786\"],[0.5555555555555556,\"#d8576b\"],[0.6666666666666666,\"#ed7953\"],[0.7777777777777778,\"#fb9f3a\"],[0.8888888888888888,\"#fdca26\"],[1.0,\"#f0f921\"]]}],\"heatmap\":[{\"type\":\"heatmap\",\"colorbar\":{\"outlinewidth\":0,\"ticks\":\"\"},\"colorscale\":[[0.0,\"#0d0887\"],[0.1111111111111111,\"#46039f\"],[0.2222222222222222,\"#7201a8\"],[0.3333333333333333,\"#9c179e\"],[0.4444444444444444,\"#bd3786\"],[0.5555555555555556,\"#d8576b\"],[0.6666666666666666,\"#ed7953\"],[0.7777777777777778,\"#fb9f3a\"],[0.8888888888888888,\"#fdca26\"],[1.0,\"#f0f921\"]]}],\"heatmapgl\":[{\"type\":\"heatmapgl\",\"colorbar\":{\"outlinewidth\":0,\"ticks\":\"\"},\"colorscale\":[[0.0,\"#0d0887\"],[0.1111111111111111,\"#46039f\"],[0.2222222222222222,\"#7201a8\"],[0.3333333333333333,\"#9c179e\"],[0.4444444444444444,\"#bd3786\"],[0.5555555555555556,\"#d8576b\"],[0.6666666666666666,\"#ed7953\"],[0.7777777777777778,\"#fb9f3a\"],[0.8888888888888888,\"#fdca26\"],[1.0,\"#f0f921\"]]}],\"contourcarpet\":[{\"type\":\"contourcarpet\",\"colorbar\":{\"outlinewidth\":0,\"ticks\":\"\"}}],\"contour\":[{\"type\":\"contour\",\"colorbar\":{\"outlinewidth\":0,\"ticks\":\"\"},\"colorscale\":[[0.0,\"#0d0887\"],[0.1111111111111111,\"#46039f\"],[0.2222222222222222,\"#7201a8\"],[0.3333333333333333,\"#9c179e\"],[0.4444444444444444,\"#bd3786\"],[0.5555555555555556,\"#d8576b\"],[0.6666666666666666,\"#ed7953\"],[0.7777777777777778,\"#fb9f3a\"],[0.8888888888888888,\"#fdca26\"],[1.0,\"#f0f921\"]]}],\"surface\":[{\"type\":\"surface\",\"colorbar\":{\"outlinewidth\":0,\"ticks\":\"\"},\"colorscale\":[[0.0,\"#0d0887\"],[0.1111111111111111,\"#46039f\"],[0.2222222222222222,\"#7201a8\"],[0.3333333333333333,\"#9c179e\"],[0.4444444444444444,\"#bd3786\"],[0.5555555555555556,\"#d8576b\"],[0.6666666666666666,\"#ed7953\"],[0.7777777777777778,\"#fb9f3a\"],[0.8888888888888888,\"#fdca26\"],[1.0,\"#f0f921\"]]}],\"mesh3d\":[{\"type\":\"mesh3d\",\"colorbar\":{\"outlinewidth\":0,\"ticks\":\"\"}}],\"scatter\":[{\"fillpattern\":{\"fillmode\":\"overlay\",\"size\":10,\"solidity\":0.2},\"type\":\"scatter\"}],\"parcoords\":[{\"type\":\"parcoords\",\"line\":{\"colorbar\":{\"outlinewidth\":0,\"ticks\":\"\"}}}],\"scatterpolargl\":[{\"type\":\"scatterpolargl\",\"marker\":{\"colorbar\":{\"outlinewidth\":0,\"ticks\":\"\"}}}],\"bar\":[{\"error_x\":{\"color\":\"#2a3f5f\"},\"error_y\":{\"color\":\"#2a3f5f\"},\"marker\":{\"line\":{\"color\":\"#E5ECF6\",\"width\":0.5},\"pattern\":{\"fillmode\":\"overlay\",\"size\":10,\"solidity\":0.2}},\"type\":\"bar\"}],\"scattergeo\":[{\"type\":\"scattergeo\",\"marker\":{\"colorbar\":{\"outlinewidth\":0,\"ticks\":\"\"}}}],\"scatterpolar\":[{\"type\":\"scatterpolar\",\"marker\":{\"colorbar\":{\"outlinewidth\":0,\"ticks\":\"\"}}}],\"histogram\":[{\"marker\":{\"pattern\":{\"fillmode\":\"overlay\",\"size\":10,\"solidity\":0.2}},\"type\":\"histogram\"}],\"scattergl\":[{\"type\":\"scattergl\",\"marker\":{\"colorbar\":{\"outlinewidth\":0,\"ticks\":\"\"}}}],\"scatter3d\":[{\"type\":\"scatter3d\",\"line\":{\"colorbar\":{\"outlinewidth\":0,\"ticks\":\"\"}},\"marker\":{\"colorbar\":{\"outlinewidth\":0,\"ticks\":\"\"}}}],\"scattermapbox\":[{\"type\":\"scattermapbox\",\"marker\":{\"colorbar\":{\"outlinewidth\":0,\"ticks\":\"\"}}}],\"scatterternary\":[{\"type\":\"scatterternary\",\"marker\":{\"colorbar\":{\"outlinewidth\":0,\"ticks\":\"\"}}}],\"scattercarpet\":[{\"type\":\"scattercarpet\",\"marker\":{\"colorbar\":{\"outlinewidth\":0,\"ticks\":\"\"}}}],\"carpet\":[{\"aaxis\":{\"endlinecolor\":\"#2a3f5f\",\"gridcolor\":\"white\",\"linecolor\":\"white\",\"minorgridcolor\":\"white\",\"startlinecolor\":\"#2a3f5f\"},\"baxis\":{\"endlinecolor\":\"#2a3f5f\",\"gridcolor\":\"white\",\"linecolor\":\"white\",\"minorgridcolor\":\"white\",\"startlinecolor\":\"#2a3f5f\"},\"type\":\"carpet\"}],\"table\":[{\"cells\":{\"fill\":{\"color\":\"#EBF0F8\"},\"line\":{\"color\":\"white\"}},\"header\":{\"fill\":{\"color\":\"#C8D4E3\"},\"line\":{\"color\":\"white\"}},\"type\":\"table\"}],\"barpolar\":[{\"marker\":{\"line\":{\"color\":\"#E5ECF6\",\"width\":0.5},\"pattern\":{\"fillmode\":\"overlay\",\"size\":10,\"solidity\":0.2}},\"type\":\"barpolar\"}],\"pie\":[{\"automargin\":true,\"type\":\"pie\"}]},\"layout\":{\"autotypenumbers\":\"strict\",\"colorway\":[\"#636efa\",\"#EF553B\",\"#00cc96\",\"#ab63fa\",\"#FFA15A\",\"#19d3f3\",\"#FF6692\",\"#B6E880\",\"#FF97FF\",\"#FECB52\"],\"font\":{\"color\":\"#2a3f5f\"},\"hovermode\":\"closest\",\"hoverlabel\":{\"align\":\"left\"},\"paper_bgcolor\":\"white\",\"plot_bgcolor\":\"#E5ECF6\",\"polar\":{\"bgcolor\":\"#E5ECF6\",\"angularaxis\":{\"gridcolor\":\"white\",\"linecolor\":\"white\",\"ticks\":\"\"},\"radialaxis\":{\"gridcolor\":\"white\",\"linecolor\":\"white\",\"ticks\":\"\"}},\"ternary\":{\"bgcolor\":\"#E5ECF6\",\"aaxis\":{\"gridcolor\":\"white\",\"linecolor\":\"white\",\"ticks\":\"\"},\"baxis\":{\"gridcolor\":\"white\",\"linecolor\":\"white\",\"ticks\":\"\"},\"caxis\":{\"gridcolor\":\"white\",\"linecolor\":\"white\",\"ticks\":\"\"}},\"coloraxis\":{\"colorbar\":{\"outlinewidth\":0,\"ticks\":\"\"}},\"colorscale\":{\"sequential\":[[0.0,\"#0d0887\"],[0.1111111111111111,\"#46039f\"],[0.2222222222222222,\"#7201a8\"],[0.3333333333333333,\"#9c179e\"],[0.4444444444444444,\"#bd3786\"],[0.5555555555555556,\"#d8576b\"],[0.6666666666666666,\"#ed7953\"],[0.7777777777777778,\"#fb9f3a\"],[0.8888888888888888,\"#fdca26\"],[1.0,\"#f0f921\"]],\"sequentialminus\":[[0.0,\"#0d0887\"],[0.1111111111111111,\"#46039f\"],[0.2222222222222222,\"#7201a8\"],[0.3333333333333333,\"#9c179e\"],[0.4444444444444444,\"#bd3786\"],[0.5555555555555556,\"#d8576b\"],[0.6666666666666666,\"#ed7953\"],[0.7777777777777778,\"#fb9f3a\"],[0.8888888888888888,\"#fdca26\"],[1.0,\"#f0f921\"]],\"diverging\":[[0,\"#8e0152\"],[0.1,\"#c51b7d\"],[0.2,\"#de77ae\"],[0.3,\"#f1b6da\"],[0.4,\"#fde0ef\"],[0.5,\"#f7f7f7\"],[0.6,\"#e6f5d0\"],[0.7,\"#b8e186\"],[0.8,\"#7fbc41\"],[0.9,\"#4d9221\"],[1,\"#276419\"]]},\"xaxis\":{\"gridcolor\":\"white\",\"linecolor\":\"white\",\"ticks\":\"\",\"title\":{\"standoff\":15},\"zerolinecolor\":\"white\",\"automargin\":true,\"zerolinewidth\":2},\"yaxis\":{\"gridcolor\":\"white\",\"linecolor\":\"white\",\"ticks\":\"\",\"title\":{\"standoff\":15},\"zerolinecolor\":\"white\",\"automargin\":true,\"zerolinewidth\":2},\"scene\":{\"xaxis\":{\"backgroundcolor\":\"#E5ECF6\",\"gridcolor\":\"white\",\"linecolor\":\"white\",\"showbackground\":true,\"ticks\":\"\",\"zerolinecolor\":\"white\",\"gridwidth\":2},\"yaxis\":{\"backgroundcolor\":\"#E5ECF6\",\"gridcolor\":\"white\",\"linecolor\":\"white\",\"showbackground\":true,\"ticks\":\"\",\"zerolinecolor\":\"white\",\"gridwidth\":2},\"zaxis\":{\"backgroundcolor\":\"#E5ECF6\",\"gridcolor\":\"white\",\"linecolor\":\"white\",\"showbackground\":true,\"ticks\":\"\",\"zerolinecolor\":\"white\",\"gridwidth\":2}},\"shapedefaults\":{\"line\":{\"color\":\"#2a3f5f\"}},\"annotationdefaults\":{\"arrowcolor\":\"#2a3f5f\",\"arrowhead\":0,\"arrowwidth\":1},\"geo\":{\"bgcolor\":\"white\",\"landcolor\":\"#E5ECF6\",\"subunitcolor\":\"white\",\"showland\":true,\"showlakes\":true,\"lakecolor\":\"white\"},\"title\":{\"x\":0.05},\"mapbox\":{\"style\":\"light\"}}},\"scene\":{\"xaxis\":{\"title\":{\"text\":\"Dimension 1\"}},\"yaxis\":{\"title\":{\"text\":\"Dimension 2\"}},\"zaxis\":{\"title\":{\"text\":\"Dimension 3\"}}},\"title\":{\"text\":\"3D T-SNE Embedding on the IMDB dataset\"}},                        {\"responsive\": true}                    ).then(function(){\n",
       "                            \n",
       "var gd = document.getElementById('764c6409-47a2-415e-9c44-2f0b25e86300');\n",
       "var x = new MutationObserver(function (mutations, observer) {{\n",
       "        var display = window.getComputedStyle(gd).display;\n",
       "        if (!display || display === 'none') {{\n",
       "            console.log([gd, 'removed!']);\n",
       "            Plotly.purge(gd);\n",
       "            observer.disconnect();\n",
       "        }}\n",
       "}});\n",
       "\n",
       "// Listen for the removal of the full notebook cells\n",
       "var notebookContainer = gd.closest('#notebook-container');\n",
       "if (notebookContainer) {{\n",
       "    x.observe(notebookContainer, {childList: true});\n",
       "}}\n",
       "\n",
       "// Listen for the clearing of the current output cell\n",
       "var outputEl = gd.closest('.output');\n",
       "if (outputEl) {{\n",
       "    x.observe(outputEl, {childList: true});\n",
       "}}\n",
       "\n",
       "                        })                };                });            </script>        </div>"
      ]
     },
     "metadata": {},
     "output_type": "display_data"
    },
    {
     "data": {
      "text/plain": [
       "<Figure size 864x720 with 0 Axes>"
      ]
     },
     "metadata": {},
     "output_type": "display_data"
    }
   ],
   "source": [
    "import plotly.graph_objects as go\n",
    "\n",
    "# Apply t-SNE to reduce dimensionality to 2D\n",
    "tsne = sk_TSNE(n_components=3, random_state=42, perplexity=30)\n",
    "embedded_words = tsne.fit_transform(word_embeddings)\n",
    "\n",
    "# Calculate pairwise distances between embedded words\n",
    "distances = pairwise_distances(embedded_words)\n",
    "\n",
    "# Plot the t-SNE visualization with labels for the top words\n",
    "plt.figure(figsize=(12, 10))\n",
    "\n",
    "selected_words = [word for word, count in tokenizer.word_counts.items() if maximum > count > minimum]\n",
    "\n",
    "# Define a colormap for the selected words based on distances\n",
    "colors = plt.cm.rainbow(np.linspace(0, 1, len(selected_words)))\n",
    "\n",
    "print(selected_words)\n",
    "\n",
    "# Create a 3D scatter plot with plotly\n",
    "fig = go.Figure()\n",
    "\n",
    "for i, word in enumerate(selected_words):\n",
    "    index = tokenizer.word_index.get(word)\n",
    "    color = colors[i]\n",
    "    fig.add_trace(go.Scatter3d(\n",
    "        x=[embedded_words[index, 0]],\n",
    "        y=[embedded_words[index, 1]],\n",
    "        z=[embedded_words[index, 2]],\n",
    "        text=[word],\n",
    "        mode='markers',\n",
    "        marker=dict(\n",
    "            size=8,\n",
    "            color=color, \n",
    "            opacity=0.8\n",
    "        ),\n",
    "        name=word\n",
    "    ))\n",
    "\n",
    "fig.update_layout(\n",
    "    scene=dict(\n",
    "        xaxis_title='Dimension 1',\n",
    "        yaxis_title='Dimension 2',\n",
    "        zaxis_title='Dimension 3',\n",
    "    ),\n",
    "    title='3D T-SNE Embedding on the IMDB dataset'\n",
    ")\n",
    "\n",
    "# Display the plot in the notebook\n",
    "fig.show()\n",
    "\n",
    "# Save the plot as an HTML file\n",
    "fig.write_html(\"interactive_3d_plot.html\")"
   ]
  },
  {
   "cell_type": "code",
   "execution_count": 123,
   "id": "184dc4cd-ec4c-4b3e-bd30-ca2a1464469f",
   "metadata": {},
   "outputs": [
    {
     "name": "stdout",
     "output_type": "stream",
     "text": [
      "782/782 [==============================] - 78s 95ms/step\n"
     ]
    },
    {
     "data": {
      "image/png": "[encoded data removed]",
      "text/plain": [
       "<Figure size 864x432 with 4 Axes>"
      ]
     },
     "metadata": {
      "needs_background": "light"
     },
     "output_type": "display_data"
    }
   ],
   "source": [
    "import matplotlib.pyplot as plt\n",
    "import numpy as np\n",
    "from tensorflow.keras import Model\n",
    "\n",
    "# Tokenize and pad the sentences\n",
    "from tensorflow.keras.preprocessing.text import Tokenizer\n",
    "from tensorflow.keras.preprocessing.sequence import pad_sequences\n",
    "\n",
    "# Get the activations of LSTM layers\n",
    "activation_model = Model(inputs=model.input, outputs=[model.get_layer('lstm').output, model.get_layer('lstm_1').output])\n",
    "lstm1_activations, lstm2_activations = activation_model.predict(X_train)\n",
    "\n",
    "\n",
    "# Plot the activations with a colorbar\n",
    "plt.figure(figsize=(12, 6))\n",
    "\n",
    "plt.subplot(1, 2, 1)\n",
    "plt.imshow(lstm1_activations[0].T, interpolation='nearest', cmap='viridis', aspect='auto')\n",
    "plt.title('LSTM 1 Activations')\n",
    "plt.xlabel('Time Step')\n",
    "plt.ylabel('Hidden Unit Index')\n",
    "plt.colorbar(label='Activation Value')\n",
    "\n",
    "plt.subplot(1, 2, 2)\n",
    "plt.imshow(lstm2_activations[:20].T, interpolation='nearest', cmap='viridis', aspect='auto')\n",
    "plt.title('LSTM 2 Activations')\n",
    "plt.xlabel('Time Step')\n",
    "plt.ylabel('Hidden Unit Index')\n",
    "plt.colorbar(label='Activation Value')\n",
    "\n",
    "\n",
    "plt.tight_layout()\n",
    "plt.show()"
   ]
  },
  {
   "cell_type": "code",
   "execution_count": 130,
   "id": "fdad342f-b3e4-4a59-b224-f40804085ae8",
   "metadata": {},
   "outputs": [
    {
     "name": "stdout",
     "output_type": "stream",
     "text": [
      "Topic #1:\n",
      "['wrestling', 'destroy', 'save', 'ripped', 'inane', 'villain', 'skip', 'seed', 'porno', 'avoid', 'russian', 'education', 'alright', 'advice', 'unable', 'stupid', 'boredom', 'insult', 'unless', 'dull']\n",
      "Topic #2:\n",
      "['worst', 'refreshing', 'flawless', 'rare', '7', 'waste', 'carrey', 'awful', 'disappointing', 'appalling', 'mst3k', 'vengeance', '8', 'courage', 'poorly', 'wonderfully', 'boring', 'wonderful', 'suspend', 'touching']\n",
      "Topic #3:\n",
      "['vampires', 'simpson', 'falls', 'nothing', 'grant', 'paper', 'robots', 'mental', 'moronic', 'rotten', 'tiresome', 'drags', 'cameos', 'slow', 'revenge', 'stay', 'bollywood', 'slightest', 'sat', 'miscast']\n"
     ]
    }
   ],
   "source": [
    "from sklearn.decomposition import NMF\n",
    "from sklearn.decomposition import LatentDirichletAllocation\n",
    "import numpy as np\n",
    "\n",
    "# Assuming 'word_embeddings' is your word embeddings matrix\n",
    "# 'word_embeddings' should be a 2D array with dimensions (vocab_size, embedding_dim)\n",
    "\n",
    "# Ensure all values are non-negative (replace negative values with zero)\n",
    "word_embeddings_non_negative = np.maximum(word_embeddings, 0)\n",
    "\n",
    "# Number of topics you want to extract\n",
    "num_topics = 3\n",
    "\n",
    "word_index = tokenizer.word_index\n",
    "\n",
    "# # Create and fit NMF model\n",
    "# nmf = NMF(n_components=num_topics, random_state=42)\n",
    "# nmf.fit(word_embeddings_non_negative.T)\n",
    "\n",
    "# Create and fit LDA model\n",
    "lda = LatentDirichletAllocation(n_components=num_topics, random_state=42)\n",
    "lda.fit(word_embeddings_non_negative.T)\n",
    "\n",
    "# Get the topic distributions for each word\n",
    "word_topic_distributions = lda.transform(word_embeddings_non_negative.T)\n",
    "# Print the top words for each topic\n",
    "id_already_used_words=[]\n",
    "for topic_idx, topic in enumerate(lda.components_):\n",
    "    top_words_idx = topic.argsort()[:-word_embeddings_non_negative.shape[0]:-1]  # Get indices of top 10 words\n",
    "    top_words=[]\n",
    "    nb_id=0\n",
    "    for id in top_words_idx:\n",
    "        if not  id == 0:\n",
    "            #Ici le 50 gère le nombre de mots que l'on veut dans le sujet\n",
    "            if nb_id >=20:\n",
    "                break\n",
    "            if not id in id_already_used_words:\n",
    "                top_words.append(id_to_word[id])\n",
    "                id_already_used_words.append(id)\n",
    "                nb_id+=1\n",
    "    print(f\"Topic #{topic_idx + 1}:\")\n",
    "    print(top_words)"
   ]
  },
  {
   "cell_type": "code",
   "execution_count": null,
   "id": "cc90a491-8577-4607-8620-2c1b619bb02e",
   "metadata": {},
   "outputs": [],
   "source": []
  }
 ],
 "metadata": {
  "kernelspec": {
   "display_name": "Python 3 (ipykernel)",
   "language": "python",
   "name": "python3"
  },
  "language_info": {
   "codemirror_mode": {
    "name": "ipython",
    "version": 3
   },
   "file_extension": ".py",
   "mimetype": "text/x-python",
   "name": "python",
   "nbconvert_exporter": "python",
   "pygments_lexer": "ipython3",
   "version": "3.9.7"
  }
 },
 "nbformat": 4,
 "nbformat_minor": 5
}
