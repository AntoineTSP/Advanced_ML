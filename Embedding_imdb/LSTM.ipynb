{
 "cells": [
  {
   "cell_type": "code",
   "execution_count": 1,
   "id": "therapeutic-planet",
   "metadata": {
    "tags": []
   },
   "outputs": [],
   "source": [
    "%%capture capt\n",
    "import numpy as np\n",
    "import tensorflow as tf\n",
    "from tensorflow.keras.datasets import imdb"
   ]
  },
  {
   "cell_type": "markdown",
   "id": "suburban-powell",
   "metadata": {},
   "source": [
    "## Import IMDB dataset"
   ]
  },
  {
   "cell_type": "code",
   "execution_count": 2,
   "id": "weighted-sucking",
   "metadata": {},
   "outputs": [],
   "source": [
    "INDEX_FROM = 3\n",
    "top_words = 5000\n",
    "(X_train, y_train), (X_test, y_test) = imdb.load_data(num_words=top_words, index_from=INDEX_FROM)"
   ]
  },
  {
   "cell_type": "code",
   "execution_count": 3,
   "id": "incorporated-volleyball",
   "metadata": {},
   "outputs": [],
   "source": [
    "word_to_id = imdb.get_word_index()\n",
    "word_to_id = {k:(v+INDEX_FROM) for k,v in word_to_id.items()}\n",
    "word_to_id[\"<PAD>\"] = 0\n",
    "word_to_id[\"<START>\"] = 1\n",
    "word_to_id[\"<UNK>\"] = 2\n",
    "\n",
    "id_to_word = {value:key for key,value in word_to_id.items()}"
   ]
  },
  {
   "cell_type": "code",
   "execution_count": 4,
   "id": "gentle-syndication",
   "metadata": {},
   "outputs": [
    {
     "name": "stdout",
     "output_type": "stream",
     "text": [
      "<START> this film was just brilliant casting location scenery story direction everyone's really suited the part they played and you could just imagine being there robert <UNK> is an amazing actor and now the same being director <UNK> father came from the same scottish island as myself so i loved the fact there was a real connection with this film the witty remarks throughout the film were great it was just brilliant so much that i bought the film as soon as it was released for <UNK> and would recommend it to everyone to watch and the fly <UNK> was amazing really cried at the end it was so sad and you know what they say if you cry at a film it must have been good and this definitely was also <UNK> to the two little <UNK> that played the <UNK> of norman and paul they were just brilliant children are often left out of the <UNK> list i think because the stars that play them all grown up are such a big <UNK> for the whole film but these children are amazing and should be <UNK> for what they have done don't you think the whole story was so lovely because it was true and was someone's life after all that was <UNK> with us all\n"
     ]
    }
   ],
   "source": [
    "# print first sentence in X_train\n",
    "sentence = [id_to_word[word] for word in X_train[0]]\n",
    "print(' '.join(sentence))"
   ]
  },
  {
   "cell_type": "markdown",
   "id": "static-february",
   "metadata": {},
   "source": [
    "## Pre-processing"
   ]
  },
  {
   "cell_type": "code",
   "execution_count": 5,
   "id": "corporate-young",
   "metadata": {},
   "outputs": [],
   "source": [
    "from tensorflow.keras.preprocessing import sequence"
   ]
  },
  {
   "cell_type": "code",
   "execution_count": 6,
   "id": "dependent-ferry",
   "metadata": {},
   "outputs": [
    {
     "name": "stdout",
     "output_type": "stream",
     "text": [
      "Longest sequence is 238\n"
     ]
    }
   ],
   "source": [
    "mean_review_length = int(np.mean([len(x) for x in X_train]))\n",
    "max_review_length = mean_review_length\n",
    "print(f\"Longest sequence is {max_review_length}\")"
   ]
  },
  {
   "cell_type": "code",
   "execution_count": 7,
   "id": "naval-commons",
   "metadata": {},
   "outputs": [],
   "source": [
    "X_train = sequence.pad_sequences(X_train, padding='post', maxlen=max_review_length)\n",
    "X_test = sequence.pad_sequences(X_test, padding='post', maxlen=max_review_length)"
   ]
  },
  {
   "cell_type": "markdown",
   "id": "usual-antigua",
   "metadata": {},
   "source": [
    "## LSTM model"
   ]
  },
  {
   "cell_type": "code",
   "execution_count": 8,
   "id": "analyzed-validation",
   "metadata": {},
   "outputs": [],
   "source": [
    "from tensorflow.keras.models import Sequential\n",
    "from tensorflow.keras.layers import Dense, Embedding, Dropout, Input, LSTM, Reshape, Lambda, RepeatVector\n",
    "from tensorflow.keras.callbacks import EarlyStopping, ModelCheckpoint"
   ]
  },
  {
   "cell_type": "code",
   "execution_count": 9,
   "id": "fifth-birthday",
   "metadata": {},
   "outputs": [],
   "source": [
    "nb_words = max([max(x) for x in X_train]) + 1\n",
    "embedding_vector_length = 256"
   ]
  },
  {
   "cell_type": "code",
   "execution_count": 10,
   "id": "exposed-bibliography",
   "metadata": {},
   "outputs": [],
   "source": [
    "model = Sequential()\n",
    "model.add(Embedding(nb_words, embedding_vector_length))\n",
    "\n",
    "model.add(LSTM(units=128, return_sequences=True))\n",
    "model.add(Dropout(0.5))\n",
    "model.add(LSTM(units=64))\n",
    "model.add(Dropout(0.4))\n",
    "\n",
    "model.add(Dense(64, activation='relu'))\n",
    "model.add(Dropout(0.4))\n",
    "\n",
    "model.add(Dense(1, activation='sigmoid'))"
   ]
  },
  {
   "cell_type": "code",
   "execution_count": 11,
   "id": "everyday-trade",
   "metadata": {},
   "outputs": [
    {
     "name": "stdout",
     "output_type": "stream",
     "text": [
      "Model: \"sequential\"\n",
      "_________________________________________________________________\n",
      " Layer (type)                Output Shape              Param #   \n",
      "=================================================================\n",
      " embedding (Embedding)       (None, None, 256)         1280000   \n",
      "                                                                 \n",
      " lstm (LSTM)                 (None, None, 128)         197120    \n",
      "                                                                 \n",
      " dropout (Dropout)           (None, None, 128)         0         \n",
      "                                                                 \n",
      " lstm_1 (LSTM)               (None, 64)                49408     \n",
      "                                                                 \n",
      " dropout_1 (Dropout)         (None, 64)                0         \n",
      "                                                                 \n",
      " dense (Dense)               (None, 64)                4160      \n",
      "                                                                 \n",
      " dropout_2 (Dropout)         (None, 64)                0         \n",
      "                                                                 \n",
      " dense_1 (Dense)             (None, 1)                 65        \n",
      "                                                                 \n",
      "=================================================================\n",
      "Total params: 1,530,753\n",
      "Trainable params: 1,530,753\n",
      "Non-trainable params: 0\n",
      "_________________________________________________________________\n"
     ]
    }
   ],
   "source": [
    "model.summary()"
   ]
  },
  {
   "cell_type": "code",
   "execution_count": 12,
   "id": "important-letters",
   "metadata": {},
   "outputs": [],
   "source": [
    "model.compile(loss='binary_crossentropy', \n",
    "              optimizer=tf.keras.optimizers.Adam(learning_rate = 1e-4), \n",
    "              metrics=['accuracy'])"
   ]
  },
  {
   "cell_type": "code",
   "execution_count": 13,
   "id": "variable-teddy",
   "metadata": {},
   "outputs": [],
   "source": [
    "filepath = 'model.h5'\n",
    "checkpoint = ModelCheckpoint(filepath=filepath, \n",
    "                             monitor='val_loss',\n",
    "                             verbose=1, \n",
    "                             save_best_only=True,\n",
    "                             mode='min')\n",
    "\n",
    "es = EarlyStopping(monitor='val_loss', patience=5, verbose=1)\n",
    "\n",
    "callbacks = [checkpoint, \n",
    "             es\n",
    "            ]"
   ]
  },
  {
   "cell_type": "code",
   "execution_count": 14,
   "id": "sized-software",
   "metadata": {},
   "outputs": [
    {
     "name": "stdout",
     "output_type": "stream",
     "text": [
      "Epoch 1/1000\n",
      "195/196 [============================>.] - ETA: 0s - loss: 0.6930 - accuracy: 0.5118\n",
      "Epoch 1: val_loss improved from inf to 0.69252, saving model to model.h5\n",
      "196/196 [==============================] - 22s 89ms/step - loss: 0.6930 - accuracy: 0.5118 - val_loss: 0.6925 - val_accuracy: 0.5021\n",
      "Epoch 2/1000\n",
      "195/196 [============================>.] - ETA: 0s - loss: 0.6726 - accuracy: 0.5661\n",
      "Epoch 2: val_loss improved from 0.69252 to 0.58209, saving model to model.h5\n",
      "196/196 [==============================] - 16s 83ms/step - loss: 0.6724 - accuracy: 0.5663 - val_loss: 0.5821 - val_accuracy: 0.7089\n",
      "Epoch 3/1000\n",
      "196/196 [==============================] - ETA: 0s - loss: 0.4577 - accuracy: 0.8126\n",
      "Epoch 3: val_loss improved from 0.58209 to 0.36773, saving model to model.h5\n",
      "196/196 [==============================] - 17s 84ms/step - loss: 0.4577 - accuracy: 0.8126 - val_loss: 0.3677 - val_accuracy: 0.8470\n",
      "Epoch 4/1000\n",
      "195/196 [============================>.] - ETA: 0s - loss: 0.3200 - accuracy: 0.8776\n",
      "Epoch 4: val_loss improved from 0.36773 to 0.33463, saving model to model.h5\n",
      "196/196 [==============================] - 16s 83ms/step - loss: 0.3200 - accuracy: 0.8776 - val_loss: 0.3346 - val_accuracy: 0.8602\n",
      "Epoch 5/1000\n",
      "196/196 [==============================] - ETA: 0s - loss: 0.2610 - accuracy: 0.9026\n",
      "Epoch 5: val_loss did not improve from 0.33463\n",
      "196/196 [==============================] - 16s 83ms/step - loss: 0.2610 - accuracy: 0.9026 - val_loss: 0.3373 - val_accuracy: 0.8711\n",
      "Epoch 6/1000\n",
      "195/196 [============================>.] - ETA: 0s - loss: 0.2347 - accuracy: 0.9136\n",
      "Epoch 6: val_loss did not improve from 0.33463\n",
      "196/196 [==============================] - 16s 83ms/step - loss: 0.2347 - accuracy: 0.9136 - val_loss: 0.3919 - val_accuracy: 0.8513\n",
      "Epoch 7/1000\n",
      "195/196 [============================>.] - ETA: 0s - loss: 0.2238 - accuracy: 0.9181\n",
      "Epoch 7: val_loss improved from 0.33463 to 0.33038, saving model to model.h5\n",
      "196/196 [==============================] - 16s 83ms/step - loss: 0.2238 - accuracy: 0.9181 - val_loss: 0.3304 - val_accuracy: 0.8620\n",
      "Epoch 8/1000\n",
      "195/196 [============================>.] - ETA: 0s - loss: 0.2067 - accuracy: 0.9256\n",
      "Epoch 8: val_loss did not improve from 0.33038\n",
      "196/196 [==============================] - 16s 82ms/step - loss: 0.2066 - accuracy: 0.9256 - val_loss: 0.3637 - val_accuracy: 0.8658\n",
      "Epoch 9/1000\n",
      "195/196 [============================>.] - ETA: 0s - loss: 0.1985 - accuracy: 0.9291\n",
      "Epoch 9: val_loss did not improve from 0.33038\n",
      "196/196 [==============================] - 16s 83ms/step - loss: 0.1984 - accuracy: 0.9291 - val_loss: 0.3376 - val_accuracy: 0.8610\n",
      "Epoch 10/1000\n",
      "195/196 [============================>.] - ETA: 0s - loss: 0.1882 - accuracy: 0.9341\n",
      "Epoch 10: val_loss did not improve from 0.33038\n",
      "196/196 [==============================] - 17s 84ms/step - loss: 0.1882 - accuracy: 0.9341 - val_loss: 0.3645 - val_accuracy: 0.8554\n",
      "Epoch 11/1000\n",
      "195/196 [============================>.] - ETA: 0s - loss: 0.1863 - accuracy: 0.9354\n",
      "Epoch 11: val_loss did not improve from 0.33038\n",
      "196/196 [==============================] - 18s 91ms/step - loss: 0.1862 - accuracy: 0.9354 - val_loss: 0.3577 - val_accuracy: 0.8617\n",
      "Epoch 12/1000\n",
      "196/196 [==============================] - ETA: 0s - loss: 0.1711 - accuracy: 0.9418\n",
      "Epoch 12: val_loss did not improve from 0.33038\n",
      "196/196 [==============================] - 16s 84ms/step - loss: 0.1711 - accuracy: 0.9418 - val_loss: 0.3926 - val_accuracy: 0.8618\n",
      "Epoch 12: early stopping\n"
     ]
    },
    {
     "data": {
      "text/plain": [
       "<keras.callbacks.History at 0x144a2b5ff40>"
      ]
     },
     "execution_count": 14,
     "metadata": {},
     "output_type": "execute_result"
    }
   ],
   "source": [
    "model.fit(X_train, y_train, epochs=1000, batch_size=128, validation_data=(X_test, y_test), callbacks=callbacks)"
   ]
  }
 ],
 "metadata": {
  "kernelspec": {
   "display_name": "Python 3 (ipykernel)",
   "language": "python",
   "name": "python3"
  },
  "language_info": {
   "codemirror_mode": {
    "name": "ipython",
    "version": 3
   },
   "file_extension": ".py",
   "mimetype": "text/x-python",
   "name": "python",
   "nbconvert_exporter": "python",
   "pygments_lexer": "ipython3",
   "version": "3.11.5"
  }
 },
 "nbformat": 4,
 "nbformat_minor": 5
}
