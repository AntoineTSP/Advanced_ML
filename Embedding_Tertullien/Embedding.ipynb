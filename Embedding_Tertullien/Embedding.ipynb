{
 "cells": [
  {
   "cell_type": "markdown",
   "id": "41a54899-41a8-4c3d-9884-18878d47c118",
   "metadata": {},
   "source": [
    "# Preprocessing"
   ]
  },
  {
   "cell_type": "code",
   "execution_count": 1,
   "id": "ea9d1d6a-8ddf-4ef2-b2b1-34a533fda16a",
   "metadata": {},
   "outputs": [
    {
     "data": {
      "text/html": [
       "        <script type=\"text/javascript\">\n",
       "        window.PlotlyConfig = {MathJaxConfig: 'local'};\n",
       "        if (window.MathJax && window.MathJax.Hub && window.MathJax.Hub.Config) {window.MathJax.Hub.Config({SVG: {font: \"STIX-Web\"}});}\n",
       "        if (typeof require !== 'undefined') {\n",
       "        require.undef(\"plotly\");\n",
       "        requirejs.config({\n",
       "            paths: {\n",
       "                'plotly': ['https://cdn.plot.ly/plotly-2.27.0.min']\n",
       "            }\n",
       "        });\n",
       "        require(['plotly'], function(Plotly) {\n",
       "            window._Plotly = Plotly;\n",
       "        });\n",
       "        }\n",
       "        </script>\n",
       "        "
      ]
     },
     "metadata": {},
     "output_type": "display_data"
    }
   ],
   "source": [
    "#Pour les plots interactifs, éventuellement passable\n",
    "from plotly.offline import init_notebook_mode, iplot\n",
    "init_notebook_mode(connected=True)"
   ]
  },
  {
   "cell_type": "code",
   "execution_count": 2,
   "id": "fb21ae9c-d183-4ba6-8a96-0d30f72144b6",
   "metadata": {},
   "outputs": [],
   "source": [
    "#Les librairies à importer\n",
    "import numpy as np\n",
    "# from tensorflow.keras.datasets import imdb\n",
    "# import torch\n",
    "#Librairie pour le deep learning\n",
    "import tensorflow as tf\n",
    "from tensorflow.keras import backend as K\n",
    "from tensorflow.keras import Model\n",
    "from tensorflow.keras.models import Sequential\n",
    "from tensorflow.keras.preprocessing import sequence\n",
    "from tensorflow.keras.layers import Dense, Activation, Embedding, Dropout, Input, LSTM, Reshape, Lambda, RepeatVector, Flatten\n",
    "from keras.preprocessing.sequence import pad_sequences\n",
    "import string\n",
    "import re"
   ]
  },
  {
   "cell_type": "code",
   "execution_count": 3,
   "id": "85ba99d4-f346-455f-a5a7-a76757f1fc39",
   "metadata": {},
   "outputs": [],
   "source": [
    "# #I added code to work on gpu if it is possible\n",
    "# if torch.cuda.is_available():\n",
    "#   device= 'cuda'\n",
    "# else:\n",
    "#   device='cpu'"
   ]
  },
  {
   "cell_type": "code",
   "execution_count": 4,
   "id": "6203453d-d828-4322-affc-3faba50df15e",
   "metadata": {},
   "outputs": [],
   "source": [
    "#Ouvre le fichier qui décrit les stopwords\n",
    "with open('Stopwords_latin.txt', 'r') as stop_words_file:\n",
    "    stop_words = stop_words_file.read().splitlines()"
   ]
  },
  {
   "cell_type": "code",
   "execution_count": 5,
   "id": "b7695934-22f1-48cf-9c58-7e920f62ac0d",
   "metadata": {},
   "outputs": [],
   "source": [
    "# Load your text data from the file\n",
    "paragraphs=[]\n",
    "#Avant la lemmatisation\n",
    "# with open('Corpus.txt', 'r', encoding='utf-8') as file:\n",
    "#     paragraphs = [[paragraph.strip()] for paragraph in file.readlines()]\n",
    "# Ouvre le corpus ainsi généré par Lemmatiseur.ipynb\n",
    "with open('corpus_lemma.txt', 'r', encoding='utf-8') as file:\n",
    "    #En extrait son contenu ligne par ligne\n",
    "    paragraphs = [[paragraph.strip()] for paragraph in file.readlines()]\n",
    "\n",
    "# Filtre les lignes qui seraient vides\n",
    "paragraphs = [paragraph[0] for paragraph in paragraphs if paragraph[0]]\n",
    "paragraphs = [[paragraph.strip()] for paragraph in paragraphs]"
   ]
  },
  {
   "cell_type": "code",
   "execution_count": 6,
   "id": "c68397a1-1f5f-4601-a176-f72ba6794e0a",
   "metadata": {},
   "outputs": [
    {
     "data": {
      "text/plain": [
       "[['magnus modicus malum1 scorpium terra suppuro uenenum genus1 pernicies species dolor color nicander scribo pingo unus uiolentia gestus cauda os1'],\n",
       " ['cauda posterus corpus propago2 uerbero2 perinde scorpium series nodus uenenatus intrinsecus uenula subtilis arcuo impetus insurgo hamatilis spiculum superus tormentum'],\n",
       " ['ratio stringo unde1 bellicus machina retractus telum uegeto scorpium nomino spiculum fistula patulus tenuitas uirus figo uulnus effundo2 familiaris2 periculum']]"
      ]
     },
     "execution_count": 6,
     "metadata": {},
     "output_type": "execute_result"
    }
   ],
   "source": [
    "#Affiche les trois premières séquences\n",
    "#Tu noteras que leurs longueurs sont égales à 20, hyperparamètre fixé dans le script précédent\n",
    "paragraphs[:3]"
   ]
  },
  {
   "cell_type": "code",
   "execution_count": 7,
   "id": "9e7515a0-5954-429f-a59a-0552033136bc",
   "metadata": {},
   "outputs": [],
   "source": [
    "#Je vais passer d'une liste de chaînes de caractères contenant chacune 20 mots\n",
    "#A une liste de listes de mots chacun avec leur propre chaîne de caractère\n",
    "data=[]\n",
    "#Pour chaque séquence\n",
    "for i in range(len(paragraphs)):\n",
    "    #Pour chaque mot dans la séquence\n",
    "    for j in range(len(paragraphs[i])):\n",
    "        #Suppression de la ponctuation\n",
    "        text = paragraphs[i][j].translate(str.maketrans('', '', string.punctuation))\n",
    "        #Mise en minuscule\n",
    "        text = text.lower()\n",
    "\n",
    "        # Suppression des nombres à commenter si tu souhaites garder os1 et non os, par exemple\n",
    "        text = re.sub(r'\\d+', '', text)\n",
    "\n",
    "        #Coupe la chaîne de caractère en plusieurs pour chaque mot : Tokenisation du texte\n",
    "        words = text.split()\n",
    "    \n",
    "        #Suppresion des stop-words\n",
    "        words = [word for word in words if word not in stop_words]\n",
    "        data.append(words)"
   ]
  },
  {
   "cell_type": "code",
   "execution_count": 8,
   "id": "5f853d46-ca7a-4709-b2a7-8b4e433b8972",
   "metadata": {},
   "outputs": [],
   "source": [
    "paragraphs=data"
   ]
  },
  {
   "cell_type": "code",
   "execution_count": 9,
   "id": "2cf06e79-9e52-4e80-84ce-5989af057ab3",
   "metadata": {},
   "outputs": [
    {
     "data": {
      "text/plain": [
       "[['magnus',\n",
       "  'modicus',\n",
       "  'malum',\n",
       "  'scorpium',\n",
       "  'terra',\n",
       "  'suppuro',\n",
       "  'uenenum',\n",
       "  'genus',\n",
       "  'pernicies',\n",
       "  'species',\n",
       "  'dolor',\n",
       "  'color',\n",
       "  'nicander',\n",
       "  'scribo',\n",
       "  'pingo',\n",
       "  'unus',\n",
       "  'uiolentia',\n",
       "  'gestus',\n",
       "  'cauda',\n",
       "  'os'],\n",
       " ['cauda',\n",
       "  'posterus',\n",
       "  'corpus',\n",
       "  'propago',\n",
       "  'uerbero',\n",
       "  'perinde',\n",
       "  'scorpium',\n",
       "  'series',\n",
       "  'nodus',\n",
       "  'uenenatus',\n",
       "  'intrinsecus',\n",
       "  'uenula',\n",
       "  'subtilis',\n",
       "  'arcuo',\n",
       "  'impetus',\n",
       "  'insurgo',\n",
       "  'hamatilis',\n",
       "  'spiculum',\n",
       "  'superus',\n",
       "  'tormentum'],\n",
       " ['ratio',\n",
       "  'stringo',\n",
       "  'bellicus',\n",
       "  'machina',\n",
       "  'retractus',\n",
       "  'telum',\n",
       "  'uegeto',\n",
       "  'scorpium',\n",
       "  'nomino',\n",
       "  'spiculum',\n",
       "  'fistula',\n",
       "  'patulus',\n",
       "  'tenuitas',\n",
       "  'uirus',\n",
       "  'figo',\n",
       "  'uulnus',\n",
       "  'effundo',\n",
       "  'familiaris',\n",
       "  'periculum']]"
      ]
     },
     "execution_count": 9,
     "metadata": {},
     "output_type": "execute_result"
    }
   ],
   "source": [
    "#On passe de séquences à une liste de mots\n",
    "#Voici les trois premières séquences à titre d'exemple\n",
    "paragraphs[:3]"
   ]
  },
  {
   "cell_type": "code",
   "execution_count": 10,
   "id": "19b39728-4aff-4eb5-9064-548e46b505df",
   "metadata": {},
   "outputs": [],
   "source": [
    "#Sauvegarde le corpus ainsi nettoyé\n",
    "with open(\"corpus_clean\", 'w', encoding='utf-8') as file:\n",
    "    for inner_list in paragraphs:\n",
    "        file.write(' '.join(inner_list) + '\\n')"
   ]
  },
  {
   "cell_type": "code",
   "execution_count": 11,
   "id": "7f0f215c-035e-49a1-91c7-97f1d71aaa65",
   "metadata": {},
   "outputs": [],
   "source": [
    "#Ici on va passer de ces listes de mots à une liste de nombres \n",
    "#Tout en attribuant à chaque mot un unique numéro\n",
    "from keras.preprocessing.text import Tokenizer\n",
    "\n",
    "#Tous les mots qui apparaissent moins de 5 fois ne suivront pas l'embedding\n",
    "#Ils recevront tous un numéro qui voudra dire \"Unknown\"\n",
    "#Les autres sont tous traités en cas par cas\n",
    "\n",
    "#5 est ici un hyperparamètre : plus il est grand, moins il y aura de richesse de modèle car le lexique de l'auteur diminuera\n",
    "min_word_frequency = 5  # Adjust this based on your preference\n",
    "tokenizer = Tokenizer()\n",
    "tokenizer.fit_on_texts(paragraphs)\n",
    "\n",
    "# Filter out less frequent words\n",
    "word_counts = tokenizer.word_counts\n",
    "tokenizer.word_index = {word: index for word, index in tokenizer.word_index.items() if word_counts[word] >= min_word_frequency}\n",
    "tokenizer.word_index[tokenizer.oov_token] = len(tokenizer.word_index) + 1  # Add \"unknown\" token\n",
    "total_words = len(tokenizer.word_index) + 1\n",
    "\n",
    "# Attribue des numéros aux mots\n",
    "sequences = tokenizer.texts_to_sequences(paragraphs)\n",
    "\n",
    "# On \"pad\" les séquences de numéros : \n",
    "#Si une séquence est plus longue que les autres, on la coupe\n",
    "#On rajoute des zéros pour que les séquences de longueur proche aient exactement la même longueur\n",
    "#Ici, j'ai forcé le fait qu'elles aient toutes une longueur égale à 20 donc cela ne fait rien de spécial\n",
    "padded_sequences = sequence.pad_sequences(\n",
    "                  sequences, #Use our train dataset\n",
    "                  maxlen=max(len(seq) for seq in sequences), #Max length\n",
    "                  dtype='int32',\n",
    "                  padding='post',  #Add zeros if needed to the max length\n",
    "                  truncating='post', # Truncate sequence that are too long\n",
    "                  value=0.0 # Value to add at the end of the sequence if it is too short\n",
    "              )"
   ]
  },
  {
   "cell_type": "code",
   "execution_count": 12,
   "id": "b55981f4-bae1-4b15-a910-197d933466f0",
   "metadata": {},
   "outputs": [
    {
     "data": {
      "text/plain": [
       "20"
      ]
     },
     "execution_count": 12,
     "metadata": {},
     "output_type": "execute_result"
    }
   ],
   "source": [
    "#On vérifie que la longueur est bien égale au paramètre donné dans le précédent notebook\n",
    "max(len(seq) for seq in sequences)"
   ]
  },
  {
   "cell_type": "code",
   "execution_count": 13,
   "id": "edb7cbb4-83fb-4b8a-b85e-295185660400",
   "metadata": {},
   "outputs": [
    {
     "data": {
      "text/plain": [
       "array([[  56,  499,   36, 2997,   22, 1226,   67, 3603,  111,  875, 1111,\n",
       "         156, 3604,   19, 1771, 2998, 3605,  131,    0,    0],\n",
       "       [3605,  413,   11, 2229, 3259,  527, 2997, 2392, 3260, 2762, 3606,\n",
       "        1421, 3261, 3607,  140,  621,    0,    0,    0,    0],\n",
       "       [  47, 2999, 3262, 3608, 2393, 2997,  214, 3607, 2763,  977, 1871,\n",
       "        1322, 1538,  568,    0,    0,    0,    0,    0,    0]])"
      ]
     },
     "execution_count": 13,
     "metadata": {},
     "output_type": "execute_result"
    }
   ],
   "source": [
    "#Voici ce que cela donne sur les trois premières séquences\n",
    "padded_sequences[:3]"
   ]
  },
  {
   "cell_type": "code",
   "execution_count": 14,
   "id": "5e248674-4bfe-48f8-94db-760edb412af8",
   "metadata": {},
   "outputs": [],
   "source": [
    "# A défaut d'avoir des labels, je les génère au hasard parmi 0 et 1 avec une probabilité 1/2\n",
    "labels = np.random.randint(2, size=(len(padded_sequences),))"
   ]
  },
  {
   "cell_type": "code",
   "execution_count": 15,
   "id": "486fd825-6a44-4d30-b171-ed7754461156",
   "metadata": {},
   "outputs": [
    {
     "data": {
      "text/plain": [
       "array([1, 0, 1, ..., 0, 1, 1])"
      ]
     },
     "execution_count": 15,
     "metadata": {},
     "output_type": "execute_result"
    }
   ],
   "source": [
    "#Voilà ce que cela donne\n",
    "labels"
   ]
  },
  {
   "cell_type": "code",
   "execution_count": 16,
   "id": "81a85796-46c7-4584-99ab-f8298c84f694",
   "metadata": {},
   "outputs": [],
   "source": [
    "#Je coupe notre jeu de données en train (66%)/test(33%)\n",
    "from sklearn.model_selection import train_test_split\n",
    "X_train,X_test,y_train,y_test = train_test_split(padded_sequences, labels,test_size=0.33,random_state=46)"
   ]
  },
  {
   "cell_type": "markdown",
   "id": "f5896c90-59fc-482b-8858-fb938320c4fc",
   "metadata": {},
   "source": [
    "# Embedding"
   ]
  },
  {
   "cell_type": "code",
   "execution_count": 17,
   "id": "1a29a529-368d-4823-9491-c4f9c6efdf4a",
   "metadata": {},
   "outputs": [],
   "source": [
    "K.clear_session()\n",
    "#Je récupère le nombre de mots sujet à l'embedding\n",
    "#Attention, ce nombre va dépendre du corpus et surtout de la fréquence définie précédemment\n",
    "top_words = len(tokenizer.word_index) + 1\n",
    "#On va réaliser une embedding en dimension 10\n",
    "#Hyperparamètre à ajuster\n",
    "embedding_dim = 10"
   ]
  },
  {
   "cell_type": "code",
   "execution_count": 18,
   "id": "8adb614a-f0d3-4ebf-84cf-fb7eb5068306",
   "metadata": {},
   "outputs": [
    {
     "data": {
      "text/plain": [
       "4041"
      ]
     },
     "execution_count": 18,
     "metadata": {},
     "output_type": "execute_result"
    }
   ],
   "source": [
    "#J'affiche le nombre de mots sujet à l'embedding\n",
    "top_words"
   ]
  },
  {
   "cell_type": "code",
   "execution_count": 19,
   "id": "a4bb01af-0804-424d-b08b-1a3be86f696b",
   "metadata": {},
   "outputs": [
    {
     "name": "stdout",
     "output_type": "stream",
     "text": [
      "Architecture of our model using the Sequential API\n",
      "Model: \"sequential\"\n",
      "_________________________________________________________________\n",
      " Layer (type)                Output Shape              Param #   \n",
      "=================================================================\n",
      " embedding (Embedding)       (None, None, 10)          40410     \n",
      "                                                                 \n",
      " lstm (LSTM)                 (None, None, 32)          5504      \n",
      "                                                                 \n",
      " lstm_1 (LSTM)               (None, 8)                 1312      \n",
      "                                                                 \n",
      " dense (Dense)               (None, 1)                 9         \n",
      "                                                                 \n",
      "=================================================================\n",
      "Total params: 47235 (184.51 KB)\n",
      "Trainable params: 47235 (184.51 KB)\n",
      "Non-trainable params: 0 (0.00 Byte)\n",
      "_________________________________________________________________\n",
      "None\n"
     ]
    }
   ],
   "source": [
    "# --- Using the Sequential API\n",
    "#Je défini la structure du réseau de neurones au travers de la méthode Sequential (à comprendre de l'entrée vers la sortie)\n",
    "model = Sequential()\n",
    "#Couche d'embedding qui va donner une matrice de dimension:  (nb_mots_sujet_embedding x dimension_embedding)\n",
    "model.add(Embedding(top_words,embedding_dim)) #To embed the inputs\n",
    "#Couche LSTM (structure qui permet une mémorisation et la compréhension d'un contexte)\n",
    "#32 est ici la dimension en sortie de cette couche\n",
    "#hyperparamètre à ajuster, le reste ne touche pas\n",
    "model.add(LSTM(32,dropout=0.2,recurrent_dropout=0.2,return_sequences=True)) # Use a LSTM with dropout\n",
    "\n",
    "#J'ai fait un essai en en rajoutant plus de couches, corpus pas assez conséquent pour ça selon moi\n",
    "# model.add(LSTM(50,dropout=0.2,recurrent_dropout=0.2,return_sequences=True)) # Use a LSTM with dropout\n",
    "\n",
    "#Deuxième couche LSTM de dimension de sorie 8\n",
    "#Ici aussi, paramètre à ajuster, le reste pas besoin d'y toucher\n",
    "model.add(LSTM(8,dropout=0.2,recurrent_dropout=0.2)) # Use a LSTM with dropout\n",
    "\n",
    "#Couche dense pour prédire le label (tâche prétexet pour l'embedding)\n",
    "model.add(Dense(1,activation=\"sigmoid\")) #Perform a binary classification\n",
    "print(f\"Architecture of our model using the Sequential API\")\n",
    "#Résume la structure et donne le nombre de paramètres\n",
    "print(model.summary())"
   ]
  },
  {
   "cell_type": "code",
   "execution_count": 20,
   "id": "438d69a0-ac20-4d1a-92b3-6fb57b623016",
   "metadata": {},
   "outputs": [
    {
     "name": "stdout",
     "output_type": "stream",
     "text": [
      "Epoch 1/5\n",
      "83/83 [==============================] - 7s 29ms/step - loss: 0.6933 - accuracy: 0.5048 - val_loss: 0.6932 - val_accuracy: 0.4998\n",
      "Epoch 2/5\n",
      "83/83 [==============================] - 2s 23ms/step - loss: 0.6874 - accuracy: 0.5514 - val_loss: 0.6999 - val_accuracy: 0.5211\n",
      "Epoch 3/5\n",
      "83/83 [==============================] - 2s 23ms/step - loss: 0.6127 - accuracy: 0.6684 - val_loss: 0.7335 - val_accuracy: 0.5214\n",
      "Epoch 4/5\n",
      "83/83 [==============================] - 2s 23ms/step - loss: 0.5150 - accuracy: 0.7486 - val_loss: 0.8196 - val_accuracy: 0.5211\n",
      "Epoch 5/5\n",
      "83/83 [==============================] - 2s 23ms/step - loss: 0.4462 - accuracy: 0.7979 - val_loss: 0.8754 - val_accuracy: 0.5257\n"
     ]
    },
    {
     "name": "stderr",
     "output_type": "stream",
     "text": [
      "D:\\anaconda3\\lib\\site-packages\\keras\\src\\engine\\training.py:3000: UserWarning:\n",
      "\n",
      "You are saving your model as an HDF5 file via `model.save()`. This file format is considered legacy. We recommend using instead the native Keras format, e.g. `model.save('my_model.keras')`.\n",
      "\n"
     ]
    }
   ],
   "source": [
    "#Loss = BCE | Optimizer = Adam | Optimisation selon l'accuracy\n",
    "model.compile(loss='binary_crossentropy', optimizer='adam', metrics=['accuracy'])\n",
    "#Fit le model\n",
    "#Epochs=5 signifie qu'il va parcourir 5 fois le jeu de données\n",
    "#Paramètre à ajuster selon tes besoins\n",
    "model.fit(X_train, y_train, epochs=5, batch_size=64, validation_data=(X_test, y_test))\n",
    "#Sauvegarde le model\n",
    "model.save('test_lemma.h5')"
   ]
  },
  {
   "cell_type": "code",
   "execution_count": 21,
   "id": "9b8317d1-3516-4a06-a660-af8b8b7dae32",
   "metadata": {},
   "outputs": [],
   "source": [
    "#Si tu veux juste recharger ton modèel précédent, à décommenter\n",
    "# from keras.models import load_model\n",
    "# # Load the model\n",
    "# model = load_model('test_lemma.h5')"
   ]
  },
  {
   "cell_type": "code",
   "execution_count": 22,
   "id": "f4d93937-2261-4677-8533-dbd30a7783ec",
   "metadata": {},
   "outputs": [],
   "source": [
    "#Affiche la performance, pas pertinent ici car les labels sont tirés au hasard (au mieux on a 50%)\n",
    "# # --- Final evaluation of the model\n",
    "# ###### With the Sequential API\n",
    "# scores = model.evaluate(X_test, y_test, verbose=0)\n",
    "# print(\"Accuracy: %.2f%%\" % (scores[1]*100))"
   ]
  },
  {
   "cell_type": "code",
   "execution_count": 23,
   "id": "5a8b47e7-8daf-4448-ad58-8971421911c8",
   "metadata": {},
   "outputs": [
    {
     "name": "stdout",
     "output_type": "stream",
     "text": [
      "The word at index 25 is: caelum\n"
     ]
    }
   ],
   "source": [
    "# Get the word_index dictionary\n",
    "word_index = tokenizer.word_index\n",
    "# Get the word for a specific index\n",
    "index_to_lookup = 25\n",
    "word_at_index = next(word for word, index in word_index.items() if index == index_to_lookup)\n",
    "\n",
    "print(f\"The word at index {index_to_lookup} is: {word_at_index}\")"
   ]
  },
  {
   "cell_type": "code",
   "execution_count": 24,
   "id": "9fb4e591-2311-4135-9297-1eb2b6bcaa58",
   "metadata": {},
   "outputs": [],
   "source": [
    "#Je définie ici une fonction pour regarder les mot les plus proches d'un mot donné en entrée selon l'embedding\n",
    "def extract_closest_word(word):\n",
    "    # Get the word_index dictionary\n",
    "    word_index = tokenizer.word_index\n",
    "    # Get the index of a specific word\n",
    "    word_to_lookup = word\n",
    "    index_of_word = word_index.get(word_to_lookup, None)\n",
    "    \n",
    "    if index_of_word is not None:\n",
    "        print(f\"The index of '{word_to_lookup}' is: {index_of_word}\")\n",
    "    else:\n",
    "        print(f\"'{word_to_lookup}' not found in the vocabulary.\")\n",
    "        \n",
    "    # Get the embedding matrix\n",
    "    embedding_matrix = model.layers[0].get_weights()[0]\n",
    "\n",
    "    print(\"Embedding Matrix Shape:\" +str(embedding_matrix.shape) + \"\\n\")\n",
    "    \n",
    "    # --- START CODE HERE (04)\n",
    "    embedding_weights = embedding_matrix # Get the weights of the embedding layer\n",
    "    index_great = index_of_word # Get the index of the word\n",
    "    word_embedding_great=embedding_weights[index_great,:] # Get the embedding of the word\n",
    "    print(f\"The embedding of the word {word_to_lookup} is :\")\n",
    "    print(word_embedding_great)\n",
    "    print(\"\\n\")\n",
    "\n",
    "\n",
    "    dist_v= tf.norm(embedding_weights - embedding_weights[index_great], axis=1) # euclidean norm by default\n",
    "\n",
    "\n",
    "    for i in np.argsort(dist_v)[1:20]: print(str(next(word for word, index in word_index.items() if index == i)) \n",
    "                                               + \" | Distance : \" + str(dist_v[i].numpy()))"
   ]
  },
  {
   "cell_type": "code",
   "execution_count": 25,
   "id": "7d50b74f-d0d2-42c9-a80a-33932af37930",
   "metadata": {},
   "outputs": [
    {
     "name": "stdout",
     "output_type": "stream",
     "text": [
      "The index of 'marcion' is: 373\n",
      "Embedding Matrix Shape:(4041, 10)\n",
      "\n",
      "The embedding of the word marcion is :\n",
      "[-0.0398282  -0.01384876 -0.06018155 -0.03795407  0.0414725  -0.00953654\n",
      "  0.00957728 -0.06111415  0.02225266 -0.01836108]\n",
      "\n",
      "\n",
      "documentum | Distance : 0.06022107\n",
      "uoluntas | Distance : 0.06186701\n",
      "despuo | Distance : 0.06612507\n",
      "phara | Distance : 0.07054852\n",
      "simpliciter | Distance : 0.0708107\n",
      "philippus | Distance : 0.0731355\n",
      "impedio | Distance : 0.073833354\n",
      "gaudium | Distance : 0.07479111\n",
      "imaginarius | Distance : 0.07572665\n",
      "expedio | Distance : 0.07662889\n",
      "stirps | Distance : 0.076899305\n",
      "osculum | Distance : 0.080875255\n",
      "fascis | Distance : 0.08098006\n",
      "dispositio | Distance : 0.0817199\n",
      "laedo | Distance : 0.08342517\n",
      "extorqueo | Distance : 0.08420747\n",
      "auditor | Distance : 0.08473738\n",
      "sol | Distance : 0.085090995\n",
      "pauus | Distance : 0.08611786\n"
     ]
    }
   ],
   "source": [
    "#S'il te dit: \"not found in the vocabulary.\" c'est que ton mot est soit :\n",
    "#Pas présent dans le corpus\n",
    "#Présent mais pas assez fréquent qu'il a été mis dans \"Unknown\"\n",
    "#Attention, la casse et l'orthographe lemmatisée compte\n",
    "extract_closest_word(\"marcion\")"
   ]
  },
  {
   "cell_type": "code",
   "execution_count": 26,
   "id": "7f982d5a-cd2a-41db-8450-82a99bd94456",
   "metadata": {},
   "outputs": [
    {
     "name": "stdout",
     "output_type": "stream",
     "text": [
      "The index of 'adulterium' is: 658\n",
      "Embedding Matrix Shape:(4041, 10)\n",
      "\n",
      "The embedding of the word adulterium is :\n",
      "[-0.03662274 -0.05385609 -0.07436364 -0.04868513 -0.0632125  -0.02861881\n",
      " -0.04902772 -0.05844653 -0.00414763 -0.10324629]\n",
      "\n",
      "\n",
      "satanae | Distance : 0.07375889\n",
      "auspicor | Distance : 0.07457138\n",
      "patientia | Distance : 0.08191496\n",
      "metallum | Distance : 0.082129024\n",
      "promereor | Distance : 0.08502536\n",
      "uidua | Distance : 0.0875535\n",
      "reformo | Distance : 0.0883004\n",
      "castro | Distance : 0.08933382\n",
      "prolatio | Distance : 0.08945676\n",
      "impius | Distance : 0.0899902\n",
      "confido | Distance : 0.09011255\n",
      "pauper | Distance : 0.091343574\n",
      "distantia | Distance : 0.092267714\n",
      "macedo | Distance : 0.092832774\n",
      "perduco | Distance : 0.093774185\n",
      "amentia | Distance : 0.0939478\n",
      "semen | Distance : 0.0940276\n",
      "uirilis | Distance : 0.094870046\n",
      "concussio | Distance : 0.09552552\n"
     ]
    }
   ],
   "source": [
    "extract_closest_word(\"adulterium\")"
   ]
  },
  {
   "cell_type": "code",
   "execution_count": 27,
   "id": "b41eb94e-6f90-46e7-a581-9d9fcc6ce757",
   "metadata": {},
   "outputs": [
    {
     "name": "stdout",
     "output_type": "stream",
     "text": [
      "The index of 'disciplina' is: 49\n",
      "Embedding Matrix Shape:(4041, 10)\n",
      "\n",
      "The embedding of the word disciplina is :\n",
      "[-0.05975232  0.02612914 -0.04609674 -0.00478035 -0.00112977 -0.00938802\n",
      "  0.04160975  0.04861682 -0.04795335  0.0138933 ]\n",
      "\n",
      "\n",
      "praeceps | Distance : 0.06292698\n",
      "dulcis | Distance : 0.06992315\n",
      "sabbatum | Distance : 0.07156467\n",
      "pronuntio | Distance : 0.07273517\n",
      "conuicium | Distance : 0.07732477\n",
      "transfigo | Distance : 0.07930546\n",
      "pauci | Distance : 0.07980433\n",
      "constituo | Distance : 0.080518626\n",
      "matrimonium | Distance : 0.081937596\n",
      "reuelatio | Distance : 0.0828084\n",
      "retraho | Distance : 0.0844683\n",
      "¿ | Distance : 0.084992744\n",
      "coetus | Distance : 0.085202664\n",
      "pello | Distance : 0.08573908\n",
      "samaritanus | Distance : 0.08695253\n",
      "nequam | Distance : 0.08719692\n",
      "confero | Distance : 0.08739718\n",
      "extraneus | Distance : 0.08743082\n",
      "munditia | Distance : 0.08754579\n"
     ]
    }
   ],
   "source": [
    "extract_closest_word(\"disciplina\")"
   ]
  },
  {
   "cell_type": "code",
   "execution_count": 28,
   "id": "1f9fd642-36d3-4bc6-9fcd-a5a227632246",
   "metadata": {},
   "outputs": [
    {
     "name": "stdout",
     "output_type": "stream",
     "text": [
      "The index of 'caro' is: 4\n",
      "Embedding Matrix Shape:(4041, 10)\n",
      "\n",
      "The embedding of the word caro is :\n",
      "[ 0.01292875 -0.03166192  0.03199726  0.03643264  0.01259424  0.00335025\n",
      "  0.02537813 -0.04456196 -0.03957565  0.01474368]\n",
      "\n",
      "\n",
      "solacium | Distance : 0.047722585\n",
      "inquino | Distance : 0.05074029\n",
      "existimo | Distance : 0.05593282\n",
      "emo | Distance : 0.055977967\n",
      "uirtus | Distance : 0.061007686\n",
      "adhaereo | Distance : 0.06367033\n",
      "uaneo | Distance : 0.064456224\n",
      "decerto | Distance : 0.06949135\n",
      "postmodum | Distance : 0.06952878\n",
      "defensio | Distance : 0.07047913\n",
      "exhibitio | Distance : 0.07259911\n",
      "corripio | Distance : 0.07311017\n",
      "infantia | Distance : 0.07312435\n",
      "citra | Distance : 0.07342549\n",
      "ascensus | Distance : 0.07399467\n",
      "factito | Distance : 0.07415022\n",
      "angustus | Distance : 0.074634664\n",
      "profero | Distance : 0.07515566\n",
      "sophis | Distance : 0.075676836\n"
     ]
    }
   ],
   "source": [
    "extract_closest_word(\"caro\")"
   ]
  },
  {
   "cell_type": "markdown",
   "id": "03366509-c03d-4efb-92a9-2a2eeebc9777",
   "metadata": {},
   "source": [
    "## Visualisation"
   ]
  },
  {
   "cell_type": "code",
   "execution_count": 29,
   "id": "c3d4fff1-20ac-4645-8155-22677c67bd62",
   "metadata": {},
   "outputs": [
    {
     "data": {
      "text/plain": [
       "'deus'"
      ]
     },
     "execution_count": 29,
     "metadata": {},
     "output_type": "execute_result"
    }
   ],
   "source": [
    "#Donne le mot à l'index égal à 1 ; à changer selon tes besoins\n",
    "next(word for word, index in word_index.items() if index == 1)"
   ]
  },
  {
   "cell_type": "code",
   "execution_count": 30,
   "id": "38f117c1-935d-400b-8ddc-9a39bf9d174a",
   "metadata": {},
   "outputs": [
    {
     "name": "stdout",
     "output_type": "stream",
     "text": [
      "['terra', 'unus', 'corpus', 'fides', 'deus', 'apostolus', 'christianus', 'anima', 'homo', 'bonus', 'debeo', 'christus', 'mors', 'caro', 'spiritus', 'nomen', 'dominus', 'uolo', 'nego', 'lex', 'caelum', 'totus', 'pater', 'filius', 'substantia', 'credo', 'materia', 'creator']\n"
     ]
    },
    {
     "data": {
      "image/png": "[encoded data removed]",
      "text/plain": [
       "<Figure size 864x720 with 1 Axes>"
      ]
     },
     "metadata": {
      "needs_background": "light"
     },
     "output_type": "display_data"
    }
   ],
   "source": [
    "import matplotlib.pyplot as plt\n",
    "from sklearn.manifold import TSNE\n",
    "import numpy as np\n",
    "from sklearn.metrics import pairwise_distances\n",
    "\n",
    "#Plot les mots qui apparaissent au moins 400 fois\n",
    "#Paramètre à ajuster mais qui intervient que dans la visualisation\n",
    "minimum = 400\n",
    "\n",
    "#Je récupère ma matrice d'embedding\n",
    "word_embeddings = model.layers[0].get_weights()[0]  # Your word embeddings matrix\n",
    "\n",
    "\n",
    "# Apply t-SNE to reduce dimensionality to 2D\n",
    "tsne = TSNE(n_components=2, random_state=42)\n",
    "embedded_words = tsne.fit_transform(word_embeddings)\n",
    "\n",
    "# Calculate pairwise distances between embedded words\n",
    "distances = pairwise_distances(embedded_words)\n",
    "\n",
    "# Plot the t-SNE visualization with labels for the top words\n",
    "plt.figure(figsize=(12, 10))\n",
    "\n",
    "# Ne garde les mots qui apparaissent au moins 400 fois\n",
    "selected_words = [word for word, count in tokenizer.word_counts.items() if count > minimum]\n",
    "print(selected_words)\n",
    "\n",
    "# Define a colormap for the selected words based on distances\n",
    "colors = plt.cm.rainbow(np.linspace(0, 1, len(selected_words)))\n",
    "\n",
    "for i, word in enumerate(selected_words):\n",
    "    index = tokenizer.word_index.get(word)\n",
    "    if index is not None:\n",
    "        x, y = embedded_words[index, :]\n",
    "        color = colors[i]\n",
    "        plt.scatter(x, y, label=word, color=color)\n",
    "        plt.text(x, y, word, fontsize=16, ha='right', va='bottom', color='black')\n",
    "\n",
    "plt.title(f't-SNE Visualization of Word Embeddings for Words Occurring > {minimum} Times')\n",
    "plt.legend(title='Selected Words', loc='center right', bbox_to_anchor=(1, 0.5), fontsize='large')\n",
    "plt.show()\n"
   ]
  },
  {
   "cell_type": "code",
   "execution_count": 31,
   "id": "b1a3ea12-4b6e-4441-88c9-76419d3621e4",
   "metadata": {},
   "outputs": [
    {
     "name": "stdout",
     "output_type": "stream",
     "text": [
      "['terra', 'unus', 'corpus', 'fides', 'deus', 'apostolus', 'christianus', 'anima', 'homo', 'bonus', 'debeo', 'christus', 'mors', 'caro', 'spiritus', 'nomen', 'dominus', 'uolo', 'nego', 'lex', 'caelum', 'totus', 'pater', 'filius', 'substantia', 'credo', 'materia', 'creator']\n"
     ]
    },
    {
     "data": {
      "application/vnd.plotly.v1+json": {
       "config": {
        "plotlyServerURL": "https://plot.ly"
       },
       "data": [
        {
         "marker": {
          "color": [
           0.5,
           0,
           1,
           1
          ],
          "opacity": 0.8,
          "size": 8
         },
         "mode": "markers",
         "name": "terra",
         "text": [
          "terra"
         ],
         "type": "scatter3d",
         "x": [
          13.04267406463623
         ],
         "y": [
          -15.046589851379395
         ],
         "z": [
          2.7611443996429443
         ]
        },
        {
         "marker": {
          "color": [
           0.4294117647058824,
           0.11065268189150083,
           0.9984636039674339,
           1
          ],
          "opacity": 0.8,
          "size": 8
         },
         "mode": "markers",
         "name": "unus",
         "text": [
          "unus"
         ],
         "type": "scatter3d",
         "x": [
          9.894842147827148
         ],
         "y": [
          8.93742847442627
         ],
         "z": [
          15.869829177856445
         ]
        },
        {
         "marker": {
          "color": [
           0.3588235294117647,
           0.2199463578396686,
           0.9938591368952737,
           1
          ],
          "opacity": 0.8,
          "size": 8
         },
         "mode": "markers",
         "name": "corpus",
         "text": [
          "corpus"
         ],
         "type": "scatter3d",
         "x": [
          -10.300394058227539
         ],
         "y": [
          -11.553548812866211
         ],
         "z": [
          0.6500613689422607
         ]
        },
        {
         "marker": {
          "color": [
           0.2803921568627451,
           0.33815827481581706,
           0.9851622334675065,
           1
          ],
          "opacity": 0.8,
          "size": 8
         },
         "mode": "markers",
         "name": "fides",
         "text": [
          "fides"
         ],
         "type": "scatter3d",
         "x": [
          -8.604750633239746
         ],
         "y": [
          3.834798574447632
         ],
         "z": [
          6.744845867156982
         ]
        },
        {
         "marker": {
          "color": [
           0.20980392156862748,
           0.44021574083098725,
           0.9741386021045101,
           1
          ],
          "opacity": 0.8,
          "size": 8
         },
         "mode": "markers",
         "name": "deus",
         "text": [
          "deus"
         ],
         "type": "scatter3d",
         "x": [
          -2.1406502723693848
         ],
         "y": [
          -13.904173851013184
         ],
         "z": [
          -0.8605522513389587
         ]
        },
        {
         "marker": {
          "color": [
           0.13137254901960782,
           0.5472195469221112,
           0.9583812154701222,
           1
          ],
          "opacity": 0.8,
          "size": 8
         },
         "mode": "markers",
         "name": "apostolus",
         "text": [
          "apostolus"
         ],
         "type": "scatter3d",
         "x": [
          -3.6797142028808594
         ],
         "y": [
          -12.80502700805664
         ],
         "z": [
          5.607543468475342
         ]
        },
        {
         "marker": {
          "color": [
           0.0607843137254902,
           0.6364742361471413,
           0.9410892525013715,
           1
          ],
          "opacity": 0.8,
          "size": 8
         },
         "mode": "markers",
         "name": "christianus",
         "text": [
          "christianus"
         ],
         "type": "scatter3d",
         "x": [
          -5.411921501159668
         ],
         "y": [
          12.922325134277344
         ],
         "z": [
          -16.298189163208008
         ]
        },
        {
         "marker": {
          "color": [
           0.01764705882352935,
           0.7264335740162241,
           0.918486985745923,
           1
          ],
          "opacity": 0.8,
          "size": 8
         },
         "mode": "markers",
         "name": "anima",
         "text": [
          "anima"
         ],
         "type": "scatter3d",
         "x": [
          0.11138544231653214
         ],
         "y": [
          5.359201908111572
         ],
         "z": [
          7.199230194091797
         ]
        },
        {
         "marker": {
          "color": [
           0.08823529411764708,
           0.7980172272802395,
           0.8951632913550623,
           1
          ],
          "opacity": 0.8,
          "size": 8
         },
         "mode": "markers",
         "name": "homo",
         "text": [
          "homo"
         ],
         "type": "scatter3d",
         "x": [
          -0.20114192366600037
         ],
         "y": [
          -1.5766023397445679
         ],
         "z": [
          -4.893447399139404
         ]
        },
        {
         "marker": {
          "color": [
           0.16666666666666663,
           0.8660254037844386,
           0.8660254037844387,
           1
          ],
          "opacity": 0.8,
          "size": 8
         },
         "mode": "markers",
         "name": "bonus",
         "text": [
          "bonus"
         ],
         "type": "scatter3d",
         "x": [
          -2.3342740535736084
         ],
         "y": [
          10.758400917053223
         ],
         "z": [
          6.513467311859131
         ]
        },
        {
         "marker": {
          "color": [
           0.23725490196078436,
           0.9160336012803335,
           0.8369891083319778,
           1
          ],
          "opacity": 0.8,
          "size": 8
         },
         "mode": "markers",
         "name": "debeo",
         "text": [
          "debeo"
         ],
         "type": "scatter3d",
         "x": [
          12.169570922851562
         ],
         "y": [
          -3.6318750381469727
         ],
         "z": [
          -3.7580912113189697
         ]
        },
        {
         "marker": {
          "color": [
           0.3156862745098039,
           0.9583812154701222,
           0.8017142839800667,
           1
          ],
          "opacity": 0.8,
          "size": 8
         },
         "mode": "markers",
         "name": "christus",
         "text": [
          "christus"
         ],
         "type": "scatter3d",
         "x": [
          5.378471851348877
         ],
         "y": [
          -11.380290031433105
         ],
         "z": [
          18.03896141052246
         ]
        },
        {
         "marker": {
          "color": [
           0.38627450980392153,
           0.9840863373026044,
           0.767362681448697,
           1
          ],
          "opacity": 0.8,
          "size": 8
         },
         "mode": "markers",
         "name": "mors",
         "text": [
          "mors"
         ],
         "type": "scatter3d",
         "x": [
          3.7210633754730225
         ],
         "y": [
          -6.795840740203857
         ],
         "z": [
          -6.236474990844727
         ]
        },
        {
         "marker": {
          "color": [
           0.4647058823529412,
           0.9984636039674339,
           0.7264335740162242,
           1
          ],
          "opacity": 0.8,
          "size": 8
         },
         "mode": "markers",
         "name": "caro",
         "text": [
          "caro"
         ],
         "type": "scatter3d",
         "x": [
          -2.1295692920684814
         ],
         "y": [
          -20.411630630493164
         ],
         "z": [
          -0.1342591792345047
         ]
        },
        {
         "marker": {
          "color": [
           0.5352941176470587,
           0.9984636039674339,
           0.6872366859692628,
           1
          ],
          "opacity": 0.8,
          "size": 8
         },
         "mode": "markers",
         "name": "spiritus",
         "text": [
          "spiritus"
         ],
         "type": "scatter3d",
         "x": [
          5.677822113037109
         ],
         "y": [
          8.453853607177734
         ],
         "z": [
          -15.416534423828125
         ]
        },
        {
         "marker": {
          "color": [
           0.6137254901960785,
           0.9840863373026044,
           0.6412133148335784,
           1
          ],
          "opacity": 0.8,
          "size": 8
         },
         "mode": "markers",
         "name": "nomen",
         "text": [
          "nomen"
         ],
         "type": "scatter3d",
         "x": [
          -8.097983360290527
         ],
         "y": [
          9.499713897705078
         ],
         "z": [
          -16.028833389282227
         ]
        },
        {
         "marker": {
          "color": [
           0.6843137254901961,
           0.9583812154701222,
           0.5977074592660936,
           1
          ],
          "opacity": 0.8,
          "size": 8
         },
         "mode": "markers",
         "name": "dominus",
         "text": [
          "dominus"
         ],
         "type": "scatter3d",
         "x": [
          -2.722240924835205
         ],
         "y": [
          4.414942264556885
         ],
         "z": [
          -12.681312561035156
         ]
        },
        {
         "marker": {
          "color": [
           0.7627450980392156,
           0.9160336012803335,
           0.5472195469221112,
           1
          ],
          "opacity": 0.8,
          "size": 8
         },
         "mode": "markers",
         "name": "uolo",
         "text": [
          "uolo"
         ],
         "type": "scatter3d",
         "x": [
          -0.8888237476348877
         ],
         "y": [
          6.536621570587158
         ],
         "z": [
          6.352096080780029
         ]
        },
        {
         "marker": {
          "color": [
           0.8333333333333333,
           0.8660254037844387,
           0.5000000000000001,
           1
          ],
          "opacity": 0.8,
          "size": 8
         },
         "mode": "markers",
         "name": "nego",
         "text": [
          "nego"
         ],
         "type": "scatter3d",
         "x": [
          5.226133346557617
         ],
         "y": [
          -12.89625358581543
         ],
         "z": [
          6.577272891998291
         ]
        },
        {
         "marker": {
          "color": [
           0.9117647058823528,
           0.7980172272802396,
           0.4457383557765383,
           1
          ],
          "opacity": 0.8,
          "size": 8
         },
         "mode": "markers",
         "name": "lex",
         "text": [
          "lex"
         ],
         "type": "scatter3d",
         "x": [
          9.615285873413086
         ],
         "y": [
          9.390692710876465
         ],
         "z": [
          -14.076494216918945
         ]
        },
        {
         "marker": {
          "color": [
           0.9823529411764707,
           0.7264335740162241,
           0.3954512068705426,
           1
          ],
          "opacity": 0.8,
          "size": 8
         },
         "mode": "markers",
         "name": "caelum",
         "text": [
          "caelum"
         ],
         "type": "scatter3d",
         "x": [
          -0.8042622208595276
         ],
         "y": [
          -1.9190313816070557
         ],
         "z": [
          -14.438776016235352
         ]
        },
        {
         "marker": {
          "color": [
           1,
           0.6364742361471414,
           0.33815827481581706,
           1
          ],
          "opacity": 0.8,
          "size": 8
         },
         "mode": "markers",
         "name": "totus",
         "text": [
          "totus"
         ],
         "type": "scatter3d",
         "x": [
          -6.020169258117676
         ],
         "y": [
          -12.25528621673584
         ],
         "z": [
          -1.4861021041870117
         ]
        },
        {
         "marker": {
          "color": [
           1,
           0.5472195469221114,
           0.28549158627534216,
           1
          ],
          "opacity": 0.8,
          "size": 8
         },
         "mode": "markers",
         "name": "pater",
         "text": [
          "pater"
         ],
         "type": "scatter3d",
         "x": [
          -0.03177304193377495
         ],
         "y": [
          -11.935283660888672
         ],
         "z": [
          -13.476007461547852
         ]
        },
        {
         "marker": {
          "color": [
           1,
           0.44021574083098747,
           0.22595128654174773,
           1
          ],
          "opacity": 0.8,
          "size": 8
         },
         "mode": "markers",
         "name": "filius",
         "text": [
          "filius"
         ],
         "type": "scatter3d",
         "x": [
          -0.5756828188896179
         ],
         "y": [
          -2.42838716506958
         ],
         "z": [
          5.569079399108887
         ]
        },
        {
         "marker": {
          "color": [
           1,
           0.33815827481581756,
           0.17162567916635985,
           1
          ],
          "opacity": 0.8,
          "size": 8
         },
         "mode": "markers",
         "name": "substantia",
         "text": [
          "substantia"
         ],
         "type": "scatter3d",
         "x": [
          -8.282148361206055
         ],
         "y": [
          -0.7805985808372498
         ],
         "z": [
          11.460094451904297
         ]
        },
        {
         "marker": {
          "color": [
           1,
           0.21994635783966857,
           0.11065268189150082,
           1
          ],
          "opacity": 0.8,
          "size": 8
         },
         "mode": "markers",
         "name": "credo",
         "text": [
          "credo"
         ],
         "type": "scatter3d",
         "x": [
          4.810135841369629
         ],
         "y": [
          12.887798309326172
         ],
         "z": [
          15.74421215057373
         ]
        },
        {
         "marker": {
          "color": [
           1,
           0.1106526818915011,
           0.05541147491597008,
           1
          ],
          "opacity": 0.8,
          "size": 8
         },
         "mode": "markers",
         "name": "materia",
         "text": [
          "materia"
         ],
         "type": "scatter3d",
         "x": [
          6.630643367767334
         ],
         "y": [
          9.618359565734863
         ],
         "z": [
          -8.63595962524414
         ]
        },
        {
         "marker": {
          "color": [
           1,
           1.2246467991473532e-16,
           6.123233995736766e-17,
           1
          ],
          "opacity": 0.8,
          "size": 8
         },
         "mode": "markers",
         "name": "creator",
         "text": [
          "creator"
         ],
         "type": "scatter3d",
         "x": [
          -0.15154971182346344
         ],
         "y": [
          3.277649164199829
         ],
         "z": [
          4.214918613433838
         ]
        }
       ],
       "layout": {
        "autosize": true,
        "scene": {
         "aspectmode": "auto",
         "aspectratio": {
          "x": 0.7808271800436128,
          "y": 1.115023035639889,
          "z": 1.148579968669929
         },
         "camera": {
          "center": {
           "x": 0,
           "y": 0,
           "z": 0
          },
          "eye": {
           "x": 0.9647622713638281,
           "y": 0.9647622713638279,
           "z": 0.9647622713638281
          },
          "projection": {
           "type": "perspective"
          },
          "up": {
           "x": 0,
           "y": 0,
           "z": 1
          }
         },
         "xaxis": {
          "title": {
           "text": "Dimension 1"
          },
          "type": "linear"
         },
         "yaxis": {
          "title": {
           "text": "Dimension 2"
          },
          "type": "linear"
         },
         "zaxis": {
          "title": {
           "text": "Dimension 3"
          },
          "type": "linear"
         }
        },
        "template": {
         "data": {
          "bar": [
           {
            "error_x": {
             "color": "#2a3f5f"
            },
            "error_y": {
             "color": "#2a3f5f"
            },
            "marker": {
             "line": {
              "color": "#E5ECF6",
              "width": 0.5
             },
             "pattern": {
              "fillmode": "overlay",
              "size": 10,
              "solidity": 0.2
             }
            },
            "type": "bar"
           }
          ],
          "barpolar": [
           {
            "marker": {
             "line": {
              "color": "#E5ECF6",
              "width": 0.5
             },
             "pattern": {
              "fillmode": "overlay",
              "size": 10,
              "solidity": 0.2
             }
            },
            "type": "barpolar"
           }
          ],
          "carpet": [
           {
            "aaxis": {
             "endlinecolor": "#2a3f5f",
             "gridcolor": "white",
             "linecolor": "white",
             "minorgridcolor": "white",
             "startlinecolor": "#2a3f5f"
            },
            "baxis": {
             "endlinecolor": "#2a3f5f",
             "gridcolor": "white",
             "linecolor": "white",
             "minorgridcolor": "white",
             "startlinecolor": "#2a3f5f"
            },
            "type": "carpet"
           }
          ],
          "choropleth": [
           {
            "colorbar": {
             "outlinewidth": 0,
             "ticks": ""
            },
            "type": "choropleth"
           }
          ],
          "contour": [
           {
            "colorbar": {
             "outlinewidth": 0,
             "ticks": ""
            },
            "colorscale": [
             [
              0,
              "#0d0887"
             ],
             [
              0.1111111111111111,
              "#46039f"
             ],
             [
              0.2222222222222222,
              "#7201a8"
             ],
             [
              0.3333333333333333,
              "#9c179e"
             ],
             [
              0.4444444444444444,
              "#bd3786"
             ],
             [
              0.5555555555555556,
              "#d8576b"
             ],
             [
              0.6666666666666666,
              "#ed7953"
             ],
             [
              0.7777777777777778,
              "#fb9f3a"
             ],
             [
              0.8888888888888888,
              "#fdca26"
             ],
             [
              1,
              "#f0f921"
             ]
            ],
            "type": "contour"
           }
          ],
          "contourcarpet": [
           {
            "colorbar": {
             "outlinewidth": 0,
             "ticks": ""
            },
            "type": "contourcarpet"
           }
          ],
          "heatmap": [
           {
            "colorbar": {
             "outlinewidth": 0,
             "ticks": ""
            },
            "colorscale": [
             [
              0,
              "#0d0887"
             ],
             [
              0.1111111111111111,
              "#46039f"
             ],
             [
              0.2222222222222222,
              "#7201a8"
             ],
             [
              0.3333333333333333,
              "#9c179e"
             ],
             [
              0.4444444444444444,
              "#bd3786"
             ],
             [
              0.5555555555555556,
              "#d8576b"
             ],
             [
              0.6666666666666666,
              "#ed7953"
             ],
             [
              0.7777777777777778,
              "#fb9f3a"
             ],
             [
              0.8888888888888888,
              "#fdca26"
             ],
             [
              1,
              "#f0f921"
             ]
            ],
            "type": "heatmap"
           }
          ],
          "heatmapgl": [
           {
            "colorbar": {
             "outlinewidth": 0,
             "ticks": ""
            },
            "colorscale": [
             [
              0,
              "#0d0887"
             ],
             [
              0.1111111111111111,
              "#46039f"
             ],
             [
              0.2222222222222222,
              "#7201a8"
             ],
             [
              0.3333333333333333,
              "#9c179e"
             ],
             [
              0.4444444444444444,
              "#bd3786"
             ],
             [
              0.5555555555555556,
              "#d8576b"
             ],
             [
              0.6666666666666666,
              "#ed7953"
             ],
             [
              0.7777777777777778,
              "#fb9f3a"
             ],
             [
              0.8888888888888888,
              "#fdca26"
             ],
             [
              1,
              "#f0f921"
             ]
            ],
            "type": "heatmapgl"
           }
          ],
          "histogram": [
           {
            "marker": {
             "pattern": {
              "fillmode": "overlay",
              "size": 10,
              "solidity": 0.2
             }
            },
            "type": "histogram"
           }
          ],
          "histogram2d": [
           {
            "colorbar": {
             "outlinewidth": 0,
             "ticks": ""
            },
            "colorscale": [
             [
              0,
              "#0d0887"
             ],
             [
              0.1111111111111111,
              "#46039f"
             ],
             [
              0.2222222222222222,
              "#7201a8"
             ],
             [
              0.3333333333333333,
              "#9c179e"
             ],
             [
              0.4444444444444444,
              "#bd3786"
             ],
             [
              0.5555555555555556,
              "#d8576b"
             ],
             [
              0.6666666666666666,
              "#ed7953"
             ],
             [
              0.7777777777777778,
              "#fb9f3a"
             ],
             [
              0.8888888888888888,
              "#fdca26"
             ],
             [
              1,
              "#f0f921"
             ]
            ],
            "type": "histogram2d"
           }
          ],
          "histogram2dcontour": [
           {
            "colorbar": {
             "outlinewidth": 0,
             "ticks": ""
            },
            "colorscale": [
             [
              0,
              "#0d0887"
             ],
             [
              0.1111111111111111,
              "#46039f"
             ],
             [
              0.2222222222222222,
              "#7201a8"
             ],
             [
              0.3333333333333333,
              "#9c179e"
             ],
             [
              0.4444444444444444,
              "#bd3786"
             ],
             [
              0.5555555555555556,
              "#d8576b"
             ],
             [
              0.6666666666666666,
              "#ed7953"
             ],
             [
              0.7777777777777778,
              "#fb9f3a"
             ],
             [
              0.8888888888888888,
              "#fdca26"
             ],
             [
              1,
              "#f0f921"
             ]
            ],
            "type": "histogram2dcontour"
           }
          ],
          "mesh3d": [
           {
            "colorbar": {
             "outlinewidth": 0,
             "ticks": ""
            },
            "type": "mesh3d"
           }
          ],
          "parcoords": [
           {
            "line": {
             "colorbar": {
              "outlinewidth": 0,
              "ticks": ""
             }
            },
            "type": "parcoords"
           }
          ],
          "pie": [
           {
            "automargin": true,
            "type": "pie"
           }
          ],
          "scatter": [
           {
            "fillpattern": {
             "fillmode": "overlay",
             "size": 10,
             "solidity": 0.2
            },
            "type": "scatter"
           }
          ],
          "scatter3d": [
           {
            "line": {
             "colorbar": {
              "outlinewidth": 0,
              "ticks": ""
             }
            },
            "marker": {
             "colorbar": {
              "outlinewidth": 0,
              "ticks": ""
             }
            },
            "type": "scatter3d"
           }
          ],
          "scattercarpet": [
           {
            "marker": {
             "colorbar": {
              "outlinewidth": 0,
              "ticks": ""
             }
            },
            "type": "scattercarpet"
           }
          ],
          "scattergeo": [
           {
            "marker": {
             "colorbar": {
              "outlinewidth": 0,
              "ticks": ""
             }
            },
            "type": "scattergeo"
           }
          ],
          "scattergl": [
           {
            "marker": {
             "colorbar": {
              "outlinewidth": 0,
              "ticks": ""
             }
            },
            "type": "scattergl"
           }
          ],
          "scattermapbox": [
           {
            "marker": {
             "colorbar": {
              "outlinewidth": 0,
              "ticks": ""
             }
            },
            "type": "scattermapbox"
           }
          ],
          "scatterpolar": [
           {
            "marker": {
             "colorbar": {
              "outlinewidth": 0,
              "ticks": ""
             }
            },
            "type": "scatterpolar"
           }
          ],
          "scatterpolargl": [
           {
            "marker": {
             "colorbar": {
              "outlinewidth": 0,
              "ticks": ""
             }
            },
            "type": "scatterpolargl"
           }
          ],
          "scatterternary": [
           {
            "marker": {
             "colorbar": {
              "outlinewidth": 0,
              "ticks": ""
             }
            },
            "type": "scatterternary"
           }
          ],
          "surface": [
           {
            "colorbar": {
             "outlinewidth": 0,
             "ticks": ""
            },
            "colorscale": [
             [
              0,
              "#0d0887"
             ],
             [
              0.1111111111111111,
              "#46039f"
             ],
             [
              0.2222222222222222,
              "#7201a8"
             ],
             [
              0.3333333333333333,
              "#9c179e"
             ],
             [
              0.4444444444444444,
              "#bd3786"
             ],
             [
              0.5555555555555556,
              "#d8576b"
             ],
             [
              0.6666666666666666,
              "#ed7953"
             ],
             [
              0.7777777777777778,
              "#fb9f3a"
             ],
             [
              0.8888888888888888,
              "#fdca26"
             ],
             [
              1,
              "#f0f921"
             ]
            ],
            "type": "surface"
           }
          ],
          "table": [
           {
            "cells": {
             "fill": {
              "color": "#EBF0F8"
             },
             "line": {
              "color": "white"
             }
            },
            "header": {
             "fill": {
              "color": "#C8D4E3"
             },
             "line": {
              "color": "white"
             }
            },
            "type": "table"
           }
          ]
         },
         "layout": {
          "annotationdefaults": {
           "arrowcolor": "#2a3f5f",
           "arrowhead": 0,
           "arrowwidth": 1
          },
          "autotypenumbers": "strict",
          "coloraxis": {
           "colorbar": {
            "outlinewidth": 0,
            "ticks": ""
           }
          },
          "colorscale": {
           "diverging": [
            [
             0,
             "#8e0152"
            ],
            [
             0.1,
             "#c51b7d"
            ],
            [
             0.2,
             "#de77ae"
            ],
            [
             0.3,
             "#f1b6da"
            ],
            [
             0.4,
             "#fde0ef"
            ],
            [
             0.5,
             "#f7f7f7"
            ],
            [
             0.6,
             "#e6f5d0"
            ],
            [
             0.7,
             "#b8e186"
            ],
            [
             0.8,
             "#7fbc41"
            ],
            [
             0.9,
             "#4d9221"
            ],
            [
             1,
             "#276419"
            ]
           ],
           "sequential": [
            [
             0,
             "#0d0887"
            ],
            [
             0.1111111111111111,
             "#46039f"
            ],
            [
             0.2222222222222222,
             "#7201a8"
            ],
            [
             0.3333333333333333,
             "#9c179e"
            ],
            [
             0.4444444444444444,
             "#bd3786"
            ],
            [
             0.5555555555555556,
             "#d8576b"
            ],
            [
             0.6666666666666666,
             "#ed7953"
            ],
            [
             0.7777777777777778,
             "#fb9f3a"
            ],
            [
             0.8888888888888888,
             "#fdca26"
            ],
            [
             1,
             "#f0f921"
            ]
           ],
           "sequentialminus": [
            [
             0,
             "#0d0887"
            ],
            [
             0.1111111111111111,
             "#46039f"
            ],
            [
             0.2222222222222222,
             "#7201a8"
            ],
            [
             0.3333333333333333,
             "#9c179e"
            ],
            [
             0.4444444444444444,
             "#bd3786"
            ],
            [
             0.5555555555555556,
             "#d8576b"
            ],
            [
             0.6666666666666666,
             "#ed7953"
            ],
            [
             0.7777777777777778,
             "#fb9f3a"
            ],
            [
             0.8888888888888888,
             "#fdca26"
            ],
            [
             1,
             "#f0f921"
            ]
           ]
          },
          "colorway": [
           "#636efa",
           "#EF553B",
           "#00cc96",
           "#ab63fa",
           "#FFA15A",
           "#19d3f3",
           "#FF6692",
           "#B6E880",
           "#FF97FF",
           "#FECB52"
          ],
          "font": {
           "color": "#2a3f5f"
          },
          "geo": {
           "bgcolor": "white",
           "lakecolor": "white",
           "landcolor": "#E5ECF6",
           "showlakes": true,
           "showland": true,
           "subunitcolor": "white"
          },
          "hoverlabel": {
           "align": "left"
          },
          "hovermode": "closest",
          "mapbox": {
           "style": "light"
          },
          "paper_bgcolor": "white",
          "plot_bgcolor": "#E5ECF6",
          "polar": {
           "angularaxis": {
            "gridcolor": "white",
            "linecolor": "white",
            "ticks": ""
           },
           "bgcolor": "#E5ECF6",
           "radialaxis": {
            "gridcolor": "white",
            "linecolor": "white",
            "ticks": ""
           }
          },
          "scene": {
           "xaxis": {
            "backgroundcolor": "#E5ECF6",
            "gridcolor": "white",
            "gridwidth": 2,
            "linecolor": "white",
            "showbackground": true,
            "ticks": "",
            "zerolinecolor": "white"
           },
           "yaxis": {
            "backgroundcolor": "#E5ECF6",
            "gridcolor": "white",
            "gridwidth": 2,
            "linecolor": "white",
            "showbackground": true,
            "ticks": "",
            "zerolinecolor": "white"
           },
           "zaxis": {
            "backgroundcolor": "#E5ECF6",
            "gridcolor": "white",
            "gridwidth": 2,
            "linecolor": "white",
            "showbackground": true,
            "ticks": "",
            "zerolinecolor": "white"
           }
          },
          "shapedefaults": {
           "line": {
            "color": "#2a3f5f"
           }
          },
          "ternary": {
           "aaxis": {
            "gridcolor": "white",
            "linecolor": "white",
            "ticks": ""
           },
           "baxis": {
            "gridcolor": "white",
            "linecolor": "white",
            "ticks": ""
           },
           "bgcolor": "#E5ECF6",
           "caxis": {
            "gridcolor": "white",
            "linecolor": "white",
            "ticks": ""
           }
          },
          "title": {
           "x": 0.05
          },
          "xaxis": {
           "automargin": true,
           "gridcolor": "white",
           "linecolor": "white",
           "ticks": "",
           "title": {
            "standoff": 15
           },
           "zerolinecolor": "white",
           "zerolinewidth": 2
          },
          "yaxis": {
           "automargin": true,
           "gridcolor": "white",
           "linecolor": "white",
           "ticks": "",
           "title": {
            "standoff": 15
           },
           "zerolinecolor": "white",
           "zerolinewidth": 2
          }
         }
        },
        "title": {
         "text": "Embedding réduit en trois dimensions du corpus de Tertullien"
        }
       }
      },
      "image/png": "[encoded data removed]",
      "text/html": [
       "<div>                            <div id=\"cfa235b3-fe7d-418b-82e0-bd5ba29ed8e9\" class=\"plotly-graph-div\" style=\"height:525px; width:100%;\"></div>            <script type=\"text/javascript\">                require([\"plotly\"], function(Plotly) {                    window.PLOTLYENV=window.PLOTLYENV || {};                                    if (document.getElementById(\"cfa235b3-fe7d-418b-82e0-bd5ba29ed8e9\")) {                    Plotly.newPlot(                        \"cfa235b3-fe7d-418b-82e0-bd5ba29ed8e9\",                        [{\"marker\":{\"color\":[0.5,0.0,1.0,1.0],\"opacity\":0.8,\"size\":8},\"mode\":\"markers\",\"name\":\"terra\",\"text\":[\"terra\"],\"x\":[13.04267406463623],\"y\":[-15.046589851379395],\"z\":[2.7611443996429443],\"type\":\"scatter3d\"},{\"marker\":{\"color\":[0.4294117647058824,0.11065268189150083,0.9984636039674339,1.0],\"opacity\":0.8,\"size\":8},\"mode\":\"markers\",\"name\":\"unus\",\"text\":[\"unus\"],\"x\":[9.894842147827148],\"y\":[8.93742847442627],\"z\":[15.869829177856445],\"type\":\"scatter3d\"},{\"marker\":{\"color\":[0.3588235294117647,0.2199463578396686,0.9938591368952737,1.0],\"opacity\":0.8,\"size\":8},\"mode\":\"markers\",\"name\":\"corpus\",\"text\":[\"corpus\"],\"x\":[-10.300394058227539],\"y\":[-11.553548812866211],\"z\":[0.6500613689422607],\"type\":\"scatter3d\"},{\"marker\":{\"color\":[0.2803921568627451,0.33815827481581706,0.9851622334675065,1.0],\"opacity\":0.8,\"size\":8},\"mode\":\"markers\",\"name\":\"fides\",\"text\":[\"fides\"],\"x\":[-8.604750633239746],\"y\":[3.834798574447632],\"z\":[6.744845867156982],\"type\":\"scatter3d\"},{\"marker\":{\"color\":[0.20980392156862748,0.44021574083098725,0.9741386021045101,1.0],\"opacity\":0.8,\"size\":8},\"mode\":\"markers\",\"name\":\"deus\",\"text\":[\"deus\"],\"x\":[-2.1406502723693848],\"y\":[-13.904173851013184],\"z\":[-0.8605522513389587],\"type\":\"scatter3d\"},{\"marker\":{\"color\":[0.13137254901960782,0.5472195469221112,0.9583812154701222,1.0],\"opacity\":0.8,\"size\":8},\"mode\":\"markers\",\"name\":\"apostolus\",\"text\":[\"apostolus\"],\"x\":[-3.6797142028808594],\"y\":[-12.80502700805664],\"z\":[5.607543468475342],\"type\":\"scatter3d\"},{\"marker\":{\"color\":[0.0607843137254902,0.6364742361471413,0.9410892525013715,1.0],\"opacity\":0.8,\"size\":8},\"mode\":\"markers\",\"name\":\"christianus\",\"text\":[\"christianus\"],\"x\":[-5.411921501159668],\"y\":[12.922325134277344],\"z\":[-16.298189163208008],\"type\":\"scatter3d\"},{\"marker\":{\"color\":[0.01764705882352935,0.7264335740162241,0.918486985745923,1.0],\"opacity\":0.8,\"size\":8},\"mode\":\"markers\",\"name\":\"anima\",\"text\":[\"anima\"],\"x\":[0.11138544231653214],\"y\":[5.359201908111572],\"z\":[7.199230194091797],\"type\":\"scatter3d\"},{\"marker\":{\"color\":[0.08823529411764708,0.7980172272802395,0.8951632913550623,1.0],\"opacity\":0.8,\"size\":8},\"mode\":\"markers\",\"name\":\"homo\",\"text\":[\"homo\"],\"x\":[-0.20114192366600037],\"y\":[-1.5766023397445679],\"z\":[-4.893447399139404],\"type\":\"scatter3d\"},{\"marker\":{\"color\":[0.16666666666666663,0.8660254037844386,0.8660254037844387,1.0],\"opacity\":0.8,\"size\":8},\"mode\":\"markers\",\"name\":\"bonus\",\"text\":[\"bonus\"],\"x\":[-2.3342740535736084],\"y\":[10.758400917053223],\"z\":[6.513467311859131],\"type\":\"scatter3d\"},{\"marker\":{\"color\":[0.23725490196078436,0.9160336012803335,0.8369891083319778,1.0],\"opacity\":0.8,\"size\":8},\"mode\":\"markers\",\"name\":\"debeo\",\"text\":[\"debeo\"],\"x\":[12.169570922851562],\"y\":[-3.6318750381469727],\"z\":[-3.7580912113189697],\"type\":\"scatter3d\"},{\"marker\":{\"color\":[0.3156862745098039,0.9583812154701222,0.8017142839800667,1.0],\"opacity\":0.8,\"size\":8},\"mode\":\"markers\",\"name\":\"christus\",\"text\":[\"christus\"],\"x\":[5.378471851348877],\"y\":[-11.380290031433105],\"z\":[18.03896141052246],\"type\":\"scatter3d\"},{\"marker\":{\"color\":[0.38627450980392153,0.9840863373026044,0.767362681448697,1.0],\"opacity\":0.8,\"size\":8},\"mode\":\"markers\",\"name\":\"mors\",\"text\":[\"mors\"],\"x\":[3.7210633754730225],\"y\":[-6.795840740203857],\"z\":[-6.236474990844727],\"type\":\"scatter3d\"},{\"marker\":{\"color\":[0.4647058823529412,0.9984636039674339,0.7264335740162242,1.0],\"opacity\":0.8,\"size\":8},\"mode\":\"markers\",\"name\":\"caro\",\"text\":[\"caro\"],\"x\":[-2.1295692920684814],\"y\":[-20.411630630493164],\"z\":[-0.1342591792345047],\"type\":\"scatter3d\"},{\"marker\":{\"color\":[0.5352941176470587,0.9984636039674339,0.6872366859692628,1.0],\"opacity\":0.8,\"size\":8},\"mode\":\"markers\",\"name\":\"spiritus\",\"text\":[\"spiritus\"],\"x\":[5.677822113037109],\"y\":[8.453853607177734],\"z\":[-15.416534423828125],\"type\":\"scatter3d\"},{\"marker\":{\"color\":[0.6137254901960785,0.9840863373026044,0.6412133148335784,1.0],\"opacity\":0.8,\"size\":8},\"mode\":\"markers\",\"name\":\"nomen\",\"text\":[\"nomen\"],\"x\":[-8.097983360290527],\"y\":[9.499713897705078],\"z\":[-16.028833389282227],\"type\":\"scatter3d\"},{\"marker\":{\"color\":[0.6843137254901961,0.9583812154701222,0.5977074592660936,1.0],\"opacity\":0.8,\"size\":8},\"mode\":\"markers\",\"name\":\"dominus\",\"text\":[\"dominus\"],\"x\":[-2.722240924835205],\"y\":[4.414942264556885],\"z\":[-12.681312561035156],\"type\":\"scatter3d\"},{\"marker\":{\"color\":[0.7627450980392156,0.9160336012803335,0.5472195469221112,1.0],\"opacity\":0.8,\"size\":8},\"mode\":\"markers\",\"name\":\"uolo\",\"text\":[\"uolo\"],\"x\":[-0.8888237476348877],\"y\":[6.536621570587158],\"z\":[6.352096080780029],\"type\":\"scatter3d\"},{\"marker\":{\"color\":[0.8333333333333333,0.8660254037844387,0.5000000000000001,1.0],\"opacity\":0.8,\"size\":8},\"mode\":\"markers\",\"name\":\"nego\",\"text\":[\"nego\"],\"x\":[5.226133346557617],\"y\":[-12.89625358581543],\"z\":[6.577272891998291],\"type\":\"scatter3d\"},{\"marker\":{\"color\":[0.9117647058823528,0.7980172272802396,0.4457383557765383,1.0],\"opacity\":0.8,\"size\":8},\"mode\":\"markers\",\"name\":\"lex\",\"text\":[\"lex\"],\"x\":[9.615285873413086],\"y\":[9.390692710876465],\"z\":[-14.076494216918945],\"type\":\"scatter3d\"},{\"marker\":{\"color\":[0.9823529411764707,0.7264335740162241,0.3954512068705426,1.0],\"opacity\":0.8,\"size\":8},\"mode\":\"markers\",\"name\":\"caelum\",\"text\":[\"caelum\"],\"x\":[-0.8042622208595276],\"y\":[-1.9190313816070557],\"z\":[-14.438776016235352],\"type\":\"scatter3d\"},{\"marker\":{\"color\":[1.0,0.6364742361471414,0.33815827481581706,1.0],\"opacity\":0.8,\"size\":8},\"mode\":\"markers\",\"name\":\"totus\",\"text\":[\"totus\"],\"x\":[-6.020169258117676],\"y\":[-12.25528621673584],\"z\":[-1.4861021041870117],\"type\":\"scatter3d\"},{\"marker\":{\"color\":[1.0,0.5472195469221114,0.28549158627534216,1.0],\"opacity\":0.8,\"size\":8},\"mode\":\"markers\",\"name\":\"pater\",\"text\":[\"pater\"],\"x\":[-0.03177304193377495],\"y\":[-11.935283660888672],\"z\":[-13.476007461547852],\"type\":\"scatter3d\"},{\"marker\":{\"color\":[1.0,0.44021574083098747,0.22595128654174773,1.0],\"opacity\":0.8,\"size\":8},\"mode\":\"markers\",\"name\":\"filius\",\"text\":[\"filius\"],\"x\":[-0.5756828188896179],\"y\":[-2.42838716506958],\"z\":[5.569079399108887],\"type\":\"scatter3d\"},{\"marker\":{\"color\":[1.0,0.33815827481581756,0.17162567916635985,1.0],\"opacity\":0.8,\"size\":8},\"mode\":\"markers\",\"name\":\"substantia\",\"text\":[\"substantia\"],\"x\":[-8.282148361206055],\"y\":[-0.7805985808372498],\"z\":[11.460094451904297],\"type\":\"scatter3d\"},{\"marker\":{\"color\":[1.0,0.21994635783966857,0.11065268189150082,1.0],\"opacity\":0.8,\"size\":8},\"mode\":\"markers\",\"name\":\"credo\",\"text\":[\"credo\"],\"x\":[4.810135841369629],\"y\":[12.887798309326172],\"z\":[15.74421215057373],\"type\":\"scatter3d\"},{\"marker\":{\"color\":[1.0,0.1106526818915011,0.05541147491597008,1.0],\"opacity\":0.8,\"size\":8},\"mode\":\"markers\",\"name\":\"materia\",\"text\":[\"materia\"],\"x\":[6.630643367767334],\"y\":[9.618359565734863],\"z\":[-8.63595962524414],\"type\":\"scatter3d\"},{\"marker\":{\"color\":[1.0,1.2246467991473532e-16,6.123233995736766e-17,1.0],\"opacity\":0.8,\"size\":8},\"mode\":\"markers\",\"name\":\"creator\",\"text\":[\"creator\"],\"x\":[-0.15154971182346344],\"y\":[3.277649164199829],\"z\":[4.214918613433838],\"type\":\"scatter3d\"}],                        {\"template\":{\"data\":{\"histogram2dcontour\":[{\"type\":\"histogram2dcontour\",\"colorbar\":{\"outlinewidth\":0,\"ticks\":\"\"},\"colorscale\":[[0.0,\"#0d0887\"],[0.1111111111111111,\"#46039f\"],[0.2222222222222222,\"#7201a8\"],[0.3333333333333333,\"#9c179e\"],[0.4444444444444444,\"#bd3786\"],[0.5555555555555556,\"#d8576b\"],[0.6666666666666666,\"#ed7953\"],[0.7777777777777778,\"#fb9f3a\"],[0.8888888888888888,\"#fdca26\"],[1.0,\"#f0f921\"]]}],\"choropleth\":[{\"type\":\"choropleth\",\"colorbar\":{\"outlinewidth\":0,\"ticks\":\"\"}}],\"histogram2d\":[{\"type\":\"histogram2d\",\"colorbar\":{\"outlinewidth\":0,\"ticks\":\"\"},\"colorscale\":[[0.0,\"#0d0887\"],[0.1111111111111111,\"#46039f\"],[0.2222222222222222,\"#7201a8\"],[0.3333333333333333,\"#9c179e\"],[0.4444444444444444,\"#bd3786\"],[0.5555555555555556,\"#d8576b\"],[0.6666666666666666,\"#ed7953\"],[0.7777777777777778,\"#fb9f3a\"],[0.8888888888888888,\"#fdca26\"],[1.0,\"#f0f921\"]]}],\"heatmap\":[{\"type\":\"heatmap\",\"colorbar\":{\"outlinewidth\":0,\"ticks\":\"\"},\"colorscale\":[[0.0,\"#0d0887\"],[0.1111111111111111,\"#46039f\"],[0.2222222222222222,\"#7201a8\"],[0.3333333333333333,\"#9c179e\"],[0.4444444444444444,\"#bd3786\"],[0.5555555555555556,\"#d8576b\"],[0.6666666666666666,\"#ed7953\"],[0.7777777777777778,\"#fb9f3a\"],[0.8888888888888888,\"#fdca26\"],[1.0,\"#f0f921\"]]}],\"heatmapgl\":[{\"type\":\"heatmapgl\",\"colorbar\":{\"outlinewidth\":0,\"ticks\":\"\"},\"colorscale\":[[0.0,\"#0d0887\"],[0.1111111111111111,\"#46039f\"],[0.2222222222222222,\"#7201a8\"],[0.3333333333333333,\"#9c179e\"],[0.4444444444444444,\"#bd3786\"],[0.5555555555555556,\"#d8576b\"],[0.6666666666666666,\"#ed7953\"],[0.7777777777777778,\"#fb9f3a\"],[0.8888888888888888,\"#fdca26\"],[1.0,\"#f0f921\"]]}],\"contourcarpet\":[{\"type\":\"contourcarpet\",\"colorbar\":{\"outlinewidth\":0,\"ticks\":\"\"}}],\"contour\":[{\"type\":\"contour\",\"colorbar\":{\"outlinewidth\":0,\"ticks\":\"\"},\"colorscale\":[[0.0,\"#0d0887\"],[0.1111111111111111,\"#46039f\"],[0.2222222222222222,\"#7201a8\"],[0.3333333333333333,\"#9c179e\"],[0.4444444444444444,\"#bd3786\"],[0.5555555555555556,\"#d8576b\"],[0.6666666666666666,\"#ed7953\"],[0.7777777777777778,\"#fb9f3a\"],[0.8888888888888888,\"#fdca26\"],[1.0,\"#f0f921\"]]}],\"surface\":[{\"type\":\"surface\",\"colorbar\":{\"outlinewidth\":0,\"ticks\":\"\"},\"colorscale\":[[0.0,\"#0d0887\"],[0.1111111111111111,\"#46039f\"],[0.2222222222222222,\"#7201a8\"],[0.3333333333333333,\"#9c179e\"],[0.4444444444444444,\"#bd3786\"],[0.5555555555555556,\"#d8576b\"],[0.6666666666666666,\"#ed7953\"],[0.7777777777777778,\"#fb9f3a\"],[0.8888888888888888,\"#fdca26\"],[1.0,\"#f0f921\"]]}],\"mesh3d\":[{\"type\":\"mesh3d\",\"colorbar\":{\"outlinewidth\":0,\"ticks\":\"\"}}],\"scatter\":[{\"fillpattern\":{\"fillmode\":\"overlay\",\"size\":10,\"solidity\":0.2},\"type\":\"scatter\"}],\"parcoords\":[{\"type\":\"parcoords\",\"line\":{\"colorbar\":{\"outlinewidth\":0,\"ticks\":\"\"}}}],\"scatterpolargl\":[{\"type\":\"scatterpolargl\",\"marker\":{\"colorbar\":{\"outlinewidth\":0,\"ticks\":\"\"}}}],\"bar\":[{\"error_x\":{\"color\":\"#2a3f5f\"},\"error_y\":{\"color\":\"#2a3f5f\"},\"marker\":{\"line\":{\"color\":\"#E5ECF6\",\"width\":0.5},\"pattern\":{\"fillmode\":\"overlay\",\"size\":10,\"solidity\":0.2}},\"type\":\"bar\"}],\"scattergeo\":[{\"type\":\"scattergeo\",\"marker\":{\"colorbar\":{\"outlinewidth\":0,\"ticks\":\"\"}}}],\"scatterpolar\":[{\"type\":\"scatterpolar\",\"marker\":{\"colorbar\":{\"outlinewidth\":0,\"ticks\":\"\"}}}],\"histogram\":[{\"marker\":{\"pattern\":{\"fillmode\":\"overlay\",\"size\":10,\"solidity\":0.2}},\"type\":\"histogram\"}],\"scattergl\":[{\"type\":\"scattergl\",\"marker\":{\"colorbar\":{\"outlinewidth\":0,\"ticks\":\"\"}}}],\"scatter3d\":[{\"type\":\"scatter3d\",\"line\":{\"colorbar\":{\"outlinewidth\":0,\"ticks\":\"\"}},\"marker\":{\"colorbar\":{\"outlinewidth\":0,\"ticks\":\"\"}}}],\"scattermapbox\":[{\"type\":\"scattermapbox\",\"marker\":{\"colorbar\":{\"outlinewidth\":0,\"ticks\":\"\"}}}],\"scatterternary\":[{\"type\":\"scatterternary\",\"marker\":{\"colorbar\":{\"outlinewidth\":0,\"ticks\":\"\"}}}],\"scattercarpet\":[{\"type\":\"scattercarpet\",\"marker\":{\"colorbar\":{\"outlinewidth\":0,\"ticks\":\"\"}}}],\"carpet\":[{\"aaxis\":{\"endlinecolor\":\"#2a3f5f\",\"gridcolor\":\"white\",\"linecolor\":\"white\",\"minorgridcolor\":\"white\",\"startlinecolor\":\"#2a3f5f\"},\"baxis\":{\"endlinecolor\":\"#2a3f5f\",\"gridcolor\":\"white\",\"linecolor\":\"white\",\"minorgridcolor\":\"white\",\"startlinecolor\":\"#2a3f5f\"},\"type\":\"carpet\"}],\"table\":[{\"cells\":{\"fill\":{\"color\":\"#EBF0F8\"},\"line\":{\"color\":\"white\"}},\"header\":{\"fill\":{\"color\":\"#C8D4E3\"},\"line\":{\"color\":\"white\"}},\"type\":\"table\"}],\"barpolar\":[{\"marker\":{\"line\":{\"color\":\"#E5ECF6\",\"width\":0.5},\"pattern\":{\"fillmode\":\"overlay\",\"size\":10,\"solidity\":0.2}},\"type\":\"barpolar\"}],\"pie\":[{\"automargin\":true,\"type\":\"pie\"}]},\"layout\":{\"autotypenumbers\":\"strict\",\"colorway\":[\"#636efa\",\"#EF553B\",\"#00cc96\",\"#ab63fa\",\"#FFA15A\",\"#19d3f3\",\"#FF6692\",\"#B6E880\",\"#FF97FF\",\"#FECB52\"],\"font\":{\"color\":\"#2a3f5f\"},\"hovermode\":\"closest\",\"hoverlabel\":{\"align\":\"left\"},\"paper_bgcolor\":\"white\",\"plot_bgcolor\":\"#E5ECF6\",\"polar\":{\"bgcolor\":\"#E5ECF6\",\"angularaxis\":{\"gridcolor\":\"white\",\"linecolor\":\"white\",\"ticks\":\"\"},\"radialaxis\":{\"gridcolor\":\"white\",\"linecolor\":\"white\",\"ticks\":\"\"}},\"ternary\":{\"bgcolor\":\"#E5ECF6\",\"aaxis\":{\"gridcolor\":\"white\",\"linecolor\":\"white\",\"ticks\":\"\"},\"baxis\":{\"gridcolor\":\"white\",\"linecolor\":\"white\",\"ticks\":\"\"},\"caxis\":{\"gridcolor\":\"white\",\"linecolor\":\"white\",\"ticks\":\"\"}},\"coloraxis\":{\"colorbar\":{\"outlinewidth\":0,\"ticks\":\"\"}},\"colorscale\":{\"sequential\":[[0.0,\"#0d0887\"],[0.1111111111111111,\"#46039f\"],[0.2222222222222222,\"#7201a8\"],[0.3333333333333333,\"#9c179e\"],[0.4444444444444444,\"#bd3786\"],[0.5555555555555556,\"#d8576b\"],[0.6666666666666666,\"#ed7953\"],[0.7777777777777778,\"#fb9f3a\"],[0.8888888888888888,\"#fdca26\"],[1.0,\"#f0f921\"]],\"sequentialminus\":[[0.0,\"#0d0887\"],[0.1111111111111111,\"#46039f\"],[0.2222222222222222,\"#7201a8\"],[0.3333333333333333,\"#9c179e\"],[0.4444444444444444,\"#bd3786\"],[0.5555555555555556,\"#d8576b\"],[0.6666666666666666,\"#ed7953\"],[0.7777777777777778,\"#fb9f3a\"],[0.8888888888888888,\"#fdca26\"],[1.0,\"#f0f921\"]],\"diverging\":[[0,\"#8e0152\"],[0.1,\"#c51b7d\"],[0.2,\"#de77ae\"],[0.3,\"#f1b6da\"],[0.4,\"#fde0ef\"],[0.5,\"#f7f7f7\"],[0.6,\"#e6f5d0\"],[0.7,\"#b8e186\"],[0.8,\"#7fbc41\"],[0.9,\"#4d9221\"],[1,\"#276419\"]]},\"xaxis\":{\"gridcolor\":\"white\",\"linecolor\":\"white\",\"ticks\":\"\",\"title\":{\"standoff\":15},\"zerolinecolor\":\"white\",\"automargin\":true,\"zerolinewidth\":2},\"yaxis\":{\"gridcolor\":\"white\",\"linecolor\":\"white\",\"ticks\":\"\",\"title\":{\"standoff\":15},\"zerolinecolor\":\"white\",\"automargin\":true,\"zerolinewidth\":2},\"scene\":{\"xaxis\":{\"backgroundcolor\":\"#E5ECF6\",\"gridcolor\":\"white\",\"linecolor\":\"white\",\"showbackground\":true,\"ticks\":\"\",\"zerolinecolor\":\"white\",\"gridwidth\":2},\"yaxis\":{\"backgroundcolor\":\"#E5ECF6\",\"gridcolor\":\"white\",\"linecolor\":\"white\",\"showbackground\":true,\"ticks\":\"\",\"zerolinecolor\":\"white\",\"gridwidth\":2},\"zaxis\":{\"backgroundcolor\":\"#E5ECF6\",\"gridcolor\":\"white\",\"linecolor\":\"white\",\"showbackground\":true,\"ticks\":\"\",\"zerolinecolor\":\"white\",\"gridwidth\":2}},\"shapedefaults\":{\"line\":{\"color\":\"#2a3f5f\"}},\"annotationdefaults\":{\"arrowcolor\":\"#2a3f5f\",\"arrowhead\":0,\"arrowwidth\":1},\"geo\":{\"bgcolor\":\"white\",\"landcolor\":\"#E5ECF6\",\"subunitcolor\":\"white\",\"showland\":true,\"showlakes\":true,\"lakecolor\":\"white\"},\"title\":{\"x\":0.05},\"mapbox\":{\"style\":\"light\"}}},\"scene\":{\"xaxis\":{\"title\":{\"text\":\"Dimension 1\"}},\"yaxis\":{\"title\":{\"text\":\"Dimension 2\"}},\"zaxis\":{\"title\":{\"text\":\"Dimension 3\"}}},\"title\":{\"text\":\"Embedding r\\u00e9duit en trois dimensions du corpus de Tertullien\"}},                        {\"responsive\": true}                    ).then(function(){\n",
       "                            \n",
       "var gd = document.getElementById('cfa235b3-fe7d-418b-82e0-bd5ba29ed8e9');\n",
       "var x = new MutationObserver(function (mutations, observer) {{\n",
       "        var display = window.getComputedStyle(gd).display;\n",
       "        if (!display || display === 'none') {{\n",
       "            console.log([gd, 'removed!']);\n",
       "            Plotly.purge(gd);\n",
       "            observer.disconnect();\n",
       "        }}\n",
       "}});\n",
       "\n",
       "// Listen for the removal of the full notebook cells\n",
       "var notebookContainer = gd.closest('#notebook-container');\n",
       "if (notebookContainer) {{\n",
       "    x.observe(notebookContainer, {childList: true});\n",
       "}}\n",
       "\n",
       "// Listen for the clearing of the current output cell\n",
       "var outputEl = gd.closest('.output');\n",
       "if (outputEl) {{\n",
       "    x.observe(outputEl, {childList: true});\n",
       "}}\n",
       "\n",
       "                        })                };                });            </script>        </div>"
      ]
     },
     "metadata": {},
     "output_type": "display_data"
    },
    {
     "data": {
      "text/plain": [
       "<Figure size 864x720 with 0 Axes>"
      ]
     },
     "metadata": {},
     "output_type": "display_data"
    }
   ],
   "source": [
    "import plotly.graph_objects as go\n",
    "#Plot les mots qui apparaissent au moins 400 fois\n",
    "#Paramètre à ajuster mais qui intervient que dans la visualisation\n",
    "minimum = 400\n",
    "\n",
    "#Je récupère ma matrice d'embedding\n",
    "word_embeddings = model.layers[0].get_weights()[0]  # Your word embeddings matrix\n",
    "\n",
    "\n",
    "# Apply t-SNE to reduce dimensionality to 2D\n",
    "tsne = TSNE(n_components=3, random_state=42)\n",
    "embedded_words = tsne.fit_transform(word_embeddings)\n",
    "\n",
    "# Calculate pairwise distances between embedded words\n",
    "distances = pairwise_distances(embedded_words)\n",
    "\n",
    "# Plot the t-SNE visualization with labels for the top words\n",
    "plt.figure(figsize=(12, 10))\n",
    "\n",
    "# Ne garde les mots qui apparaissent au moins 400 fois\n",
    "selected_words = [word for word, count in tokenizer.word_counts.items() if count > minimum]\n",
    "\n",
    "# Define a colormap for the selected words based on distances\n",
    "colors = plt.cm.rainbow(np.linspace(0, 1, len(selected_words)))\n",
    "\n",
    "print(selected_words)\n",
    "\n",
    "# for i, word in enumerate(selected_words):\n",
    "#     index = tokenizer.word_index.get(word)\n",
    "#     if index is not None:\n",
    "#         x, y = embedded_words[index, :]\n",
    "#         color = colors[i]\n",
    "#         plt.scatter(x, y, label=word, color=color)\n",
    "#         plt.text(x, y, word, fontsize=16, ha='right', va='bottom', color='black')\n",
    "\n",
    "# plt.title(f't-SNE Visualization of Word Embeddings for Words Occurring > {minimum} Times')\n",
    "# plt.legend(title='Selected Words', loc='center right', bbox_to_anchor=(1, 0.5), fontsize='large')\n",
    "# plt.show()\n",
    "\n",
    "# Create a 3D scatter plot with plotly\n",
    "fig = go.Figure()\n",
    "\n",
    "for i, word in enumerate(selected_words):\n",
    "    index = tokenizer.word_index.get(word)\n",
    "    color = colors[i]\n",
    "    fig.add_trace(go.Scatter3d(\n",
    "        x=[embedded_words[index, 0]],\n",
    "        y=[embedded_words[index, 1]],\n",
    "        z=[embedded_words[index, 2]],\n",
    "        text=[word],\n",
    "        mode='markers',\n",
    "        marker=dict(\n",
    "            size=8,\n",
    "            color=color,  # You can use a color scale if needed\n",
    "            opacity=0.8\n",
    "        ),\n",
    "        name=word\n",
    "    ))\n",
    "\n",
    "fig.update_layout(\n",
    "    scene=dict(\n",
    "        xaxis_title='Dimension 1',\n",
    "        yaxis_title='Dimension 2',\n",
    "        zaxis_title='Dimension 3',\n",
    "    ),\n",
    "    title='Embedding réduit en trois dimensions du corpus de Tertullien'\n",
    ")\n",
    "\n",
    "# Display the plot in the notebook\n",
    "fig.show()\n",
    "\n",
    "# Save the plot as an HTML file\n",
    "fig.write_html(\"interactive_3d_plot.html\")\n"
   ]
  },
  {
   "cell_type": "code",
   "execution_count": 32,
   "id": "ba9fa720-400a-47b5-92c4-10a4bf9d6d5b",
   "metadata": {},
   "outputs": [
    {
     "data": {
      "image/png": "[encoded data removed]",
      "text/plain": [
       "<Figure size 720x576 with 1 Axes>"
      ]
     },
     "metadata": {
      "needs_background": "light"
     },
     "output_type": "display_data"
    }
   ],
   "source": [
    "#J'ai essayé à l'échelle de la phrase mais c'est peu pertinent\n",
    "\n",
    "# Assuming you have a list of sentences\n",
    "sentences = [\"Poeta puellis multas litteras scribit quia eam amat\",\n",
    "            \"Virgo amicae narrat poetam ei multas litteras scribere. Utique cor pulsat.\",\n",
    "            \"Proxime factum est. Vt fama refert, puella Carthiginiensis versus cuidam poetae accepit.\",\n",
    "            \"Gaudeat, puella quam Virgilius amat ! Musae comam eius coronis floreis ornant, sicut Venus optat.\",\n",
    "            \"Seruus asinus agrum ducit.\"] \n",
    "\n",
    "\n",
    "import numpy as np\n",
    "import matplotlib.pyplot as plt\n",
    "\n",
    "# Assuming you have the model loaded and ready\n",
    "\n",
    "# Tokenize and pad the sentences\n",
    "from tensorflow.keras.preprocessing.text import Tokenizer\n",
    "from tensorflow.keras.preprocessing.sequence import pad_sequences\n",
    "\n",
    "tokenizer = Tokenizer()\n",
    "tokenizer.fit_on_texts(sentences)\n",
    "total_words = len(tokenizer.word_index) + 1\n",
    "\n",
    "# Convert sentences to sequences\n",
    "sequences = tokenizer.texts_to_sequences(sentences)\n",
    "\n",
    "# Pad sequences to have consistent length\n",
    "max_sequence_length = max([len(seq) for seq in sequences])\n",
    "padded_sequences = pad_sequences(sequences, maxlen=max_sequence_length, padding='post')\n",
    "\n",
    "# Generate embeddings using the model\n",
    "embeddings = model.layers[0].get_weights()[0]\n",
    "\n",
    "# Function to calculate the Euclidean distance between two vectors\n",
    "def euclidean_distance(vec1, vec2):\n",
    "    return np.linalg.norm(vec1 - vec2)\n",
    "\n",
    "# Function to visualize embeddings with legend on the right and outside the plot\n",
    "def visualize_embeddings_with_legend(embeddings, sentences, title):\n",
    "    plt.figure(figsize=(10, 8))\n",
    "    for i, sentence in enumerate(sentences):\n",
    "        plt.scatter(embeddings[i, 0], embeddings[i, 1], label=sentence)\n",
    "\n",
    "    plt.title(title)\n",
    "    plt.legend(bbox_to_anchor=(1.05, 1), loc='upper left')\n",
    "    plt.show()\n",
    "\n",
    "# Visualize embeddings with legend on the right and outside the plot\n",
    "visualize_embeddings_with_legend(embeddings[:, :2], sentences, \"Sentence Embeddings Visualization\")"
   ]
  },
  {
   "cell_type": "code",
   "execution_count": 33,
   "id": "705b8a34-ce01-4a6e-91fe-c79c9e3c6dc1",
   "metadata": {},
   "outputs": [
    {
     "data": {
      "image/png": "[encoded data removed]",
      "text/plain": [
       "<Figure size 720x576 with 1 Axes>"
      ]
     },
     "metadata": {
      "needs_background": "light"
     },
     "output_type": "display_data"
    }
   ],
   "source": [
    "#Toujours à l'échelle de la phrase, peu pertinent\n",
    "from sklearn.manifold import TSNE\n",
    "embeddings_tsne = TSNE(n_components=2).fit_transform(embeddings)\n",
    "visualize_embeddings_with_legend(embeddings_tsne, sentences, \"Word Embeddings Visualization\")"
   ]
  },
  {
   "cell_type": "code",
   "execution_count": 34,
   "id": "b66af5e6-99b7-4946-82c9-40f6f4f2f027",
   "metadata": {},
   "outputs": [
    {
     "data": {
      "application/vnd.plotly.v1+json": {
       "config": {
        "plotlyServerURL": "https://plot.ly"
       },
       "data": [
        {
         "marker": {
          "color": 0,
          "opacity": 0.8,
          "size": 8
         },
         "mode": "markers",
         "name": "Poeta puellis multas litteras scribit quia eam amat",
         "text": [
          "Poeta puellis multas litteras scribit quia eam amat"
         ],
         "type": "scatter3d",
         "x": [
          -0.002489047357812524
         ],
         "y": [
          -0.012727954424917698
         ],
         "z": [
          -0.0018874711822718382
         ]
        },
        {
         "marker": {
          "color": 1,
          "opacity": 0.8,
          "size": 8
         },
         "mode": "markers",
         "name": "Virgo amicae narrat poetam ei multas litteras scribere. Utique cor pulsat.",
         "text": [
          "Virgo amicae narrat poetam ei multas litteras scribere. Utique cor pulsat."
         ],
         "type": "scatter3d",
         "x": [
          0.01890183985233307
         ],
         "y": [
          -0.019414108246564865
         ],
         "z": [
          0.024385062977671623
         ]
        },
        {
         "marker": {
          "color": 2,
          "opacity": 0.8,
          "size": 8
         },
         "mode": "markers",
         "name": "Proxime factum est. Vt fama refert, puella Carthiginiensis versus cuidam poetae accepit.",
         "text": [
          "Proxime factum est. Vt fama refert, puella Carthiginiensis versus cuidam poetae accepit."
         ],
         "type": "scatter3d",
         "x": [
          -0.004013738129287958
         ],
         "y": [
          0.048291970044374466
         ],
         "z": [
          -0.01382540911436081
         ]
        },
        {
         "marker": {
          "color": 3,
          "opacity": 0.8,
          "size": 8
         },
         "mode": "markers",
         "name": "Gaudeat, puella quam Virgilius amat ! Musae comam eius coronis floreis ornant, sicut Venus optat.",
         "text": [
          "Gaudeat, puella quam Virgilius amat ! Musae comam eius coronis floreis ornant, sicut Venus optat."
         ],
         "type": "scatter3d",
         "x": [
          -0.03228471055626869
         ],
         "y": [
          -0.005651775281876326
         ],
         "z": [
          0.016664322465658188
         ]
        },
        {
         "marker": {
          "color": 4,
          "opacity": 0.8,
          "size": 8
         },
         "mode": "markers",
         "name": "Seruus asinus agrum ducit.",
         "text": [
          "Seruus asinus agrum ducit."
         ],
         "type": "scatter3d",
         "x": [
          0.012928754091262817
         ],
         "y": [
          -0.03166192024946213
         ],
         "z": [
          0.031997259706258774
         ]
        }
       ],
       "layout": {
        "autosize": true,
        "scene": {
         "aspectmode": "auto",
         "aspectratio": {
          "x": 0.8942602257092452,
          "y": 1.3968431826279748,
          "z": 0.8005499459334756
         },
         "xaxis": {
          "title": {
           "text": "Dimension 1"
          },
          "type": "linear"
         },
         "yaxis": {
          "title": {
           "text": "Dimension 2"
          },
          "type": "linear"
         },
         "zaxis": {
          "title": {
           "text": "Dimension 3"
          },
          "type": "linear"
         }
        },
        "template": {
         "data": {
          "bar": [
           {
            "error_x": {
             "color": "#2a3f5f"
            },
            "error_y": {
             "color": "#2a3f5f"
            },
            "marker": {
             "line": {
              "color": "#E5ECF6",
              "width": 0.5
             },
             "pattern": {
              "fillmode": "overlay",
              "size": 10,
              "solidity": 0.2
             }
            },
            "type": "bar"
           }
          ],
          "barpolar": [
           {
            "marker": {
             "line": {
              "color": "#E5ECF6",
              "width": 0.5
             },
             "pattern": {
              "fillmode": "overlay",
              "size": 10,
              "solidity": 0.2
             }
            },
            "type": "barpolar"
           }
          ],
          "carpet": [
           {
            "aaxis": {
             "endlinecolor": "#2a3f5f",
             "gridcolor": "white",
             "linecolor": "white",
             "minorgridcolor": "white",
             "startlinecolor": "#2a3f5f"
            },
            "baxis": {
             "endlinecolor": "#2a3f5f",
             "gridcolor": "white",
             "linecolor": "white",
             "minorgridcolor": "white",
             "startlinecolor": "#2a3f5f"
            },
            "type": "carpet"
           }
          ],
          "choropleth": [
           {
            "colorbar": {
             "outlinewidth": 0,
             "ticks": ""
            },
            "type": "choropleth"
           }
          ],
          "contour": [
           {
            "colorbar": {
             "outlinewidth": 0,
             "ticks": ""
            },
            "colorscale": [
             [
              0,
              "#0d0887"
             ],
             [
              0.1111111111111111,
              "#46039f"
             ],
             [
              0.2222222222222222,
              "#7201a8"
             ],
             [
              0.3333333333333333,
              "#9c179e"
             ],
             [
              0.4444444444444444,
              "#bd3786"
             ],
             [
              0.5555555555555556,
              "#d8576b"
             ],
             [
              0.6666666666666666,
              "#ed7953"
             ],
             [
              0.7777777777777778,
              "#fb9f3a"
             ],
             [
              0.8888888888888888,
              "#fdca26"
             ],
             [
              1,
              "#f0f921"
             ]
            ],
            "type": "contour"
           }
          ],
          "contourcarpet": [
           {
            "colorbar": {
             "outlinewidth": 0,
             "ticks": ""
            },
            "type": "contourcarpet"
           }
          ],
          "heatmap": [
           {
            "colorbar": {
             "outlinewidth": 0,
             "ticks": ""
            },
            "colorscale": [
             [
              0,
              "#0d0887"
             ],
             [
              0.1111111111111111,
              "#46039f"
             ],
             [
              0.2222222222222222,
              "#7201a8"
             ],
             [
              0.3333333333333333,
              "#9c179e"
             ],
             [
              0.4444444444444444,
              "#bd3786"
             ],
             [
              0.5555555555555556,
              "#d8576b"
             ],
             [
              0.6666666666666666,
              "#ed7953"
             ],
             [
              0.7777777777777778,
              "#fb9f3a"
             ],
             [
              0.8888888888888888,
              "#fdca26"
             ],
             [
              1,
              "#f0f921"
             ]
            ],
            "type": "heatmap"
           }
          ],
          "heatmapgl": [
           {
            "colorbar": {
             "outlinewidth": 0,
             "ticks": ""
            },
            "colorscale": [
             [
              0,
              "#0d0887"
             ],
             [
              0.1111111111111111,
              "#46039f"
             ],
             [
              0.2222222222222222,
              "#7201a8"
             ],
             [
              0.3333333333333333,
              "#9c179e"
             ],
             [
              0.4444444444444444,
              "#bd3786"
             ],
             [
              0.5555555555555556,
              "#d8576b"
             ],
             [
              0.6666666666666666,
              "#ed7953"
             ],
             [
              0.7777777777777778,
              "#fb9f3a"
             ],
             [
              0.8888888888888888,
              "#fdca26"
             ],
             [
              1,
              "#f0f921"
             ]
            ],
            "type": "heatmapgl"
           }
          ],
          "histogram": [
           {
            "marker": {
             "pattern": {
              "fillmode": "overlay",
              "size": 10,
              "solidity": 0.2
             }
            },
            "type": "histogram"
           }
          ],
          "histogram2d": [
           {
            "colorbar": {
             "outlinewidth": 0,
             "ticks": ""
            },
            "colorscale": [
             [
              0,
              "#0d0887"
             ],
             [
              0.1111111111111111,
              "#46039f"
             ],
             [
              0.2222222222222222,
              "#7201a8"
             ],
             [
              0.3333333333333333,
              "#9c179e"
             ],
             [
              0.4444444444444444,
              "#bd3786"
             ],
             [
              0.5555555555555556,
              "#d8576b"
             ],
             [
              0.6666666666666666,
              "#ed7953"
             ],
             [
              0.7777777777777778,
              "#fb9f3a"
             ],
             [
              0.8888888888888888,
              "#fdca26"
             ],
             [
              1,
              "#f0f921"
             ]
            ],
            "type": "histogram2d"
           }
          ],
          "histogram2dcontour": [
           {
            "colorbar": {
             "outlinewidth": 0,
             "ticks": ""
            },
            "colorscale": [
             [
              0,
              "#0d0887"
             ],
             [
              0.1111111111111111,
              "#46039f"
             ],
             [
              0.2222222222222222,
              "#7201a8"
             ],
             [
              0.3333333333333333,
              "#9c179e"
             ],
             [
              0.4444444444444444,
              "#bd3786"
             ],
             [
              0.5555555555555556,
              "#d8576b"
             ],
             [
              0.6666666666666666,
              "#ed7953"
             ],
             [
              0.7777777777777778,
              "#fb9f3a"
             ],
             [
              0.8888888888888888,
              "#fdca26"
             ],
             [
              1,
              "#f0f921"
             ]
            ],
            "type": "histogram2dcontour"
           }
          ],
          "mesh3d": [
           {
            "colorbar": {
             "outlinewidth": 0,
             "ticks": ""
            },
            "type": "mesh3d"
           }
          ],
          "parcoords": [
           {
            "line": {
             "colorbar": {
              "outlinewidth": 0,
              "ticks": ""
             }
            },
            "type": "parcoords"
           }
          ],
          "pie": [
           {
            "automargin": true,
            "type": "pie"
           }
          ],
          "scatter": [
           {
            "fillpattern": {
             "fillmode": "overlay",
             "size": 10,
             "solidity": 0.2
            },
            "type": "scatter"
           }
          ],
          "scatter3d": [
           {
            "line": {
             "colorbar": {
              "outlinewidth": 0,
              "ticks": ""
             }
            },
            "marker": {
             "colorbar": {
              "outlinewidth": 0,
              "ticks": ""
             }
            },
            "type": "scatter3d"
           }
          ],
          "scattercarpet": [
           {
            "marker": {
             "colorbar": {
              "outlinewidth": 0,
              "ticks": ""
             }
            },
            "type": "scattercarpet"
           }
          ],
          "scattergeo": [
           {
            "marker": {
             "colorbar": {
              "outlinewidth": 0,
              "ticks": ""
             }
            },
            "type": "scattergeo"
           }
          ],
          "scattergl": [
           {
            "marker": {
             "colorbar": {
              "outlinewidth": 0,
              "ticks": ""
             }
            },
            "type": "scattergl"
           }
          ],
          "scattermapbox": [
           {
            "marker": {
             "colorbar": {
              "outlinewidth": 0,
              "ticks": ""
             }
            },
            "type": "scattermapbox"
           }
          ],
          "scatterpolar": [
           {
            "marker": {
             "colorbar": {
              "outlinewidth": 0,
              "ticks": ""
             }
            },
            "type": "scatterpolar"
           }
          ],
          "scatterpolargl": [
           {
            "marker": {
             "colorbar": {
              "outlinewidth": 0,
              "ticks": ""
             }
            },
            "type": "scatterpolargl"
           }
          ],
          "scatterternary": [
           {
            "marker": {
             "colorbar": {
              "outlinewidth": 0,
              "ticks": ""
             }
            },
            "type": "scatterternary"
           }
          ],
          "surface": [
           {
            "colorbar": {
             "outlinewidth": 0,
             "ticks": ""
            },
            "colorscale": [
             [
              0,
              "#0d0887"
             ],
             [
              0.1111111111111111,
              "#46039f"
             ],
             [
              0.2222222222222222,
              "#7201a8"
             ],
             [
              0.3333333333333333,
              "#9c179e"
             ],
             [
              0.4444444444444444,
              "#bd3786"
             ],
             [
              0.5555555555555556,
              "#d8576b"
             ],
             [
              0.6666666666666666,
              "#ed7953"
             ],
             [
              0.7777777777777778,
              "#fb9f3a"
             ],
             [
              0.8888888888888888,
              "#fdca26"
             ],
             [
              1,
              "#f0f921"
             ]
            ],
            "type": "surface"
           }
          ],
          "table": [
           {
            "cells": {
             "fill": {
              "color": "#EBF0F8"
             },
             "line": {
              "color": "white"
             }
            },
            "header": {
             "fill": {
              "color": "#C8D4E3"
             },
             "line": {
              "color": "white"
             }
            },
            "type": "table"
           }
          ]
         },
         "layout": {
          "annotationdefaults": {
           "arrowcolor": "#2a3f5f",
           "arrowhead": 0,
           "arrowwidth": 1
          },
          "autotypenumbers": "strict",
          "coloraxis": {
           "colorbar": {
            "outlinewidth": 0,
            "ticks": ""
           }
          },
          "colorscale": {
           "diverging": [
            [
             0,
             "#8e0152"
            ],
            [
             0.1,
             "#c51b7d"
            ],
            [
             0.2,
             "#de77ae"
            ],
            [
             0.3,
             "#f1b6da"
            ],
            [
             0.4,
             "#fde0ef"
            ],
            [
             0.5,
             "#f7f7f7"
            ],
            [
             0.6,
             "#e6f5d0"
            ],
            [
             0.7,
             "#b8e186"
            ],
            [
             0.8,
             "#7fbc41"
            ],
            [
             0.9,
             "#4d9221"
            ],
            [
             1,
             "#276419"
            ]
           ],
           "sequential": [
            [
             0,
             "#0d0887"
            ],
            [
             0.1111111111111111,
             "#46039f"
            ],
            [
             0.2222222222222222,
             "#7201a8"
            ],
            [
             0.3333333333333333,
             "#9c179e"
            ],
            [
             0.4444444444444444,
             "#bd3786"
            ],
            [
             0.5555555555555556,
             "#d8576b"
            ],
            [
             0.6666666666666666,
             "#ed7953"
            ],
            [
             0.7777777777777778,
             "#fb9f3a"
            ],
            [
             0.8888888888888888,
             "#fdca26"
            ],
            [
             1,
             "#f0f921"
            ]
           ],
           "sequentialminus": [
            [
             0,
             "#0d0887"
            ],
            [
             0.1111111111111111,
             "#46039f"
            ],
            [
             0.2222222222222222,
             "#7201a8"
            ],
            [
             0.3333333333333333,
             "#9c179e"
            ],
            [
             0.4444444444444444,
             "#bd3786"
            ],
            [
             0.5555555555555556,
             "#d8576b"
            ],
            [
             0.6666666666666666,
             "#ed7953"
            ],
            [
             0.7777777777777778,
             "#fb9f3a"
            ],
            [
             0.8888888888888888,
             "#fdca26"
            ],
            [
             1,
             "#f0f921"
            ]
           ]
          },
          "colorway": [
           "#636efa",
           "#EF553B",
           "#00cc96",
           "#ab63fa",
           "#FFA15A",
           "#19d3f3",
           "#FF6692",
           "#B6E880",
           "#FF97FF",
           "#FECB52"
          ],
          "font": {
           "color": "#2a3f5f"
          },
          "geo": {
           "bgcolor": "white",
           "lakecolor": "white",
           "landcolor": "#E5ECF6",
           "showlakes": true,
           "showland": true,
           "subunitcolor": "white"
          },
          "hoverlabel": {
           "align": "left"
          },
          "hovermode": "closest",
          "mapbox": {
           "style": "light"
          },
          "paper_bgcolor": "white",
          "plot_bgcolor": "#E5ECF6",
          "polar": {
           "angularaxis": {
            "gridcolor": "white",
            "linecolor": "white",
            "ticks": ""
           },
           "bgcolor": "#E5ECF6",
           "radialaxis": {
            "gridcolor": "white",
            "linecolor": "white",
            "ticks": ""
           }
          },
          "scene": {
           "xaxis": {
            "backgroundcolor": "#E5ECF6",
            "gridcolor": "white",
            "gridwidth": 2,
            "linecolor": "white",
            "showbackground": true,
            "ticks": "",
            "zerolinecolor": "white"
           },
           "yaxis": {
            "backgroundcolor": "#E5ECF6",
            "gridcolor": "white",
            "gridwidth": 2,
            "linecolor": "white",
            "showbackground": true,
            "ticks": "",
            "zerolinecolor": "white"
           },
           "zaxis": {
            "backgroundcolor": "#E5ECF6",
            "gridcolor": "white",
            "gridwidth": 2,
            "linecolor": "white",
            "showbackground": true,
            "ticks": "",
            "zerolinecolor": "white"
           }
          },
          "shapedefaults": {
           "line": {
            "color": "#2a3f5f"
           }
          },
          "ternary": {
           "aaxis": {
            "gridcolor": "white",
            "linecolor": "white",
            "ticks": ""
           },
           "baxis": {
            "gridcolor": "white",
            "linecolor": "white",
            "ticks": ""
           },
           "bgcolor": "#E5ECF6",
           "caxis": {
            "gridcolor": "white",
            "linecolor": "white",
            "ticks": ""
           }
          },
          "title": {
           "x": 0.05
          },
          "xaxis": {
           "automargin": true,
           "gridcolor": "white",
           "linecolor": "white",
           "ticks": "",
           "title": {
            "standoff": 15
           },
           "zerolinecolor": "white",
           "zerolinewidth": 2
          },
          "yaxis": {
           "automargin": true,
           "gridcolor": "white",
           "linecolor": "white",
           "ticks": "",
           "title": {
            "standoff": 15
           },
           "zerolinecolor": "white",
           "zerolinewidth": 2
          }
         }
        },
        "title": {
         "text": "Interactive 3D Sentence Embeddings Visualization"
        }
       }
      },
      "image/png": "[encoded data removed]",
      "text/html": [
       "<div>                            <div id=\"ea2583e3-e2d3-422b-8eaa-01d2b5c87597\" class=\"plotly-graph-div\" style=\"height:525px; width:100%;\"></div>            <script type=\"text/javascript\">                require([\"plotly\"], function(Plotly) {                    window.PLOTLYENV=window.PLOTLYENV || {};                                    if (document.getElementById(\"ea2583e3-e2d3-422b-8eaa-01d2b5c87597\")) {                    Plotly.newPlot(                        \"ea2583e3-e2d3-422b-8eaa-01d2b5c87597\",                        [{\"marker\":{\"color\":0,\"opacity\":0.8,\"size\":8},\"mode\":\"markers\",\"name\":\"Poeta puellis multas litteras scribit quia eam amat\",\"text\":[\"Poeta puellis multas litteras scribit quia eam amat\"],\"x\":[-0.002489047357812524],\"y\":[-0.012727954424917698],\"z\":[-0.0018874711822718382],\"type\":\"scatter3d\"},{\"marker\":{\"color\":1,\"opacity\":0.8,\"size\":8},\"mode\":\"markers\",\"name\":\"Virgo amicae narrat poetam ei multas litteras scribere. Utique cor pulsat.\",\"text\":[\"Virgo amicae narrat poetam ei multas litteras scribere. Utique cor pulsat.\"],\"x\":[0.01890183985233307],\"y\":[-0.019414108246564865],\"z\":[0.024385062977671623],\"type\":\"scatter3d\"},{\"marker\":{\"color\":2,\"opacity\":0.8,\"size\":8},\"mode\":\"markers\",\"name\":\"Proxime factum est. Vt fama refert, puella Carthiginiensis versus cuidam poetae accepit.\",\"text\":[\"Proxime factum est. Vt fama refert, puella Carthiginiensis versus cuidam poetae accepit.\"],\"x\":[-0.004013738129287958],\"y\":[0.048291970044374466],\"z\":[-0.01382540911436081],\"type\":\"scatter3d\"},{\"marker\":{\"color\":3,\"opacity\":0.8,\"size\":8},\"mode\":\"markers\",\"name\":\"Gaudeat, puella quam Virgilius amat ! Musae comam eius coronis floreis ornant, sicut Venus optat.\",\"text\":[\"Gaudeat, puella quam Virgilius amat ! Musae comam eius coronis floreis ornant, sicut Venus optat.\"],\"x\":[-0.03228471055626869],\"y\":[-0.005651775281876326],\"z\":[0.016664322465658188],\"type\":\"scatter3d\"},{\"marker\":{\"color\":4,\"opacity\":0.8,\"size\":8},\"mode\":\"markers\",\"name\":\"Seruus asinus agrum ducit.\",\"text\":[\"Seruus asinus agrum ducit.\"],\"x\":[0.012928754091262817],\"y\":[-0.03166192024946213],\"z\":[0.031997259706258774],\"type\":\"scatter3d\"}],                        {\"template\":{\"data\":{\"histogram2dcontour\":[{\"type\":\"histogram2dcontour\",\"colorbar\":{\"outlinewidth\":0,\"ticks\":\"\"},\"colorscale\":[[0.0,\"#0d0887\"],[0.1111111111111111,\"#46039f\"],[0.2222222222222222,\"#7201a8\"],[0.3333333333333333,\"#9c179e\"],[0.4444444444444444,\"#bd3786\"],[0.5555555555555556,\"#d8576b\"],[0.6666666666666666,\"#ed7953\"],[0.7777777777777778,\"#fb9f3a\"],[0.8888888888888888,\"#fdca26\"],[1.0,\"#f0f921\"]]}],\"choropleth\":[{\"type\":\"choropleth\",\"colorbar\":{\"outlinewidth\":0,\"ticks\":\"\"}}],\"histogram2d\":[{\"type\":\"histogram2d\",\"colorbar\":{\"outlinewidth\":0,\"ticks\":\"\"},\"colorscale\":[[0.0,\"#0d0887\"],[0.1111111111111111,\"#46039f\"],[0.2222222222222222,\"#7201a8\"],[0.3333333333333333,\"#9c179e\"],[0.4444444444444444,\"#bd3786\"],[0.5555555555555556,\"#d8576b\"],[0.6666666666666666,\"#ed7953\"],[0.7777777777777778,\"#fb9f3a\"],[0.8888888888888888,\"#fdca26\"],[1.0,\"#f0f921\"]]}],\"heatmap\":[{\"type\":\"heatmap\",\"colorbar\":{\"outlinewidth\":0,\"ticks\":\"\"},\"colorscale\":[[0.0,\"#0d0887\"],[0.1111111111111111,\"#46039f\"],[0.2222222222222222,\"#7201a8\"],[0.3333333333333333,\"#9c179e\"],[0.4444444444444444,\"#bd3786\"],[0.5555555555555556,\"#d8576b\"],[0.6666666666666666,\"#ed7953\"],[0.7777777777777778,\"#fb9f3a\"],[0.8888888888888888,\"#fdca26\"],[1.0,\"#f0f921\"]]}],\"heatmapgl\":[{\"type\":\"heatmapgl\",\"colorbar\":{\"outlinewidth\":0,\"ticks\":\"\"},\"colorscale\":[[0.0,\"#0d0887\"],[0.1111111111111111,\"#46039f\"],[0.2222222222222222,\"#7201a8\"],[0.3333333333333333,\"#9c179e\"],[0.4444444444444444,\"#bd3786\"],[0.5555555555555556,\"#d8576b\"],[0.6666666666666666,\"#ed7953\"],[0.7777777777777778,\"#fb9f3a\"],[0.8888888888888888,\"#fdca26\"],[1.0,\"#f0f921\"]]}],\"contourcarpet\":[{\"type\":\"contourcarpet\",\"colorbar\":{\"outlinewidth\":0,\"ticks\":\"\"}}],\"contour\":[{\"type\":\"contour\",\"colorbar\":{\"outlinewidth\":0,\"ticks\":\"\"},\"colorscale\":[[0.0,\"#0d0887\"],[0.1111111111111111,\"#46039f\"],[0.2222222222222222,\"#7201a8\"],[0.3333333333333333,\"#9c179e\"],[0.4444444444444444,\"#bd3786\"],[0.5555555555555556,\"#d8576b\"],[0.6666666666666666,\"#ed7953\"],[0.7777777777777778,\"#fb9f3a\"],[0.8888888888888888,\"#fdca26\"],[1.0,\"#f0f921\"]]}],\"surface\":[{\"type\":\"surface\",\"colorbar\":{\"outlinewidth\":0,\"ticks\":\"\"},\"colorscale\":[[0.0,\"#0d0887\"],[0.1111111111111111,\"#46039f\"],[0.2222222222222222,\"#7201a8\"],[0.3333333333333333,\"#9c179e\"],[0.4444444444444444,\"#bd3786\"],[0.5555555555555556,\"#d8576b\"],[0.6666666666666666,\"#ed7953\"],[0.7777777777777778,\"#fb9f3a\"],[0.8888888888888888,\"#fdca26\"],[1.0,\"#f0f921\"]]}],\"mesh3d\":[{\"type\":\"mesh3d\",\"colorbar\":{\"outlinewidth\":0,\"ticks\":\"\"}}],\"scatter\":[{\"fillpattern\":{\"fillmode\":\"overlay\",\"size\":10,\"solidity\":0.2},\"type\":\"scatter\"}],\"parcoords\":[{\"type\":\"parcoords\",\"line\":{\"colorbar\":{\"outlinewidth\":0,\"ticks\":\"\"}}}],\"scatterpolargl\":[{\"type\":\"scatterpolargl\",\"marker\":{\"colorbar\":{\"outlinewidth\":0,\"ticks\":\"\"}}}],\"bar\":[{\"error_x\":{\"color\":\"#2a3f5f\"},\"error_y\":{\"color\":\"#2a3f5f\"},\"marker\":{\"line\":{\"color\":\"#E5ECF6\",\"width\":0.5},\"pattern\":{\"fillmode\":\"overlay\",\"size\":10,\"solidity\":0.2}},\"type\":\"bar\"}],\"scattergeo\":[{\"type\":\"scattergeo\",\"marker\":{\"colorbar\":{\"outlinewidth\":0,\"ticks\":\"\"}}}],\"scatterpolar\":[{\"type\":\"scatterpolar\",\"marker\":{\"colorbar\":{\"outlinewidth\":0,\"ticks\":\"\"}}}],\"histogram\":[{\"marker\":{\"pattern\":{\"fillmode\":\"overlay\",\"size\":10,\"solidity\":0.2}},\"type\":\"histogram\"}],\"scattergl\":[{\"type\":\"scattergl\",\"marker\":{\"colorbar\":{\"outlinewidth\":0,\"ticks\":\"\"}}}],\"scatter3d\":[{\"type\":\"scatter3d\",\"line\":{\"colorbar\":{\"outlinewidth\":0,\"ticks\":\"\"}},\"marker\":{\"colorbar\":{\"outlinewidth\":0,\"ticks\":\"\"}}}],\"scattermapbox\":[{\"type\":\"scattermapbox\",\"marker\":{\"colorbar\":{\"outlinewidth\":0,\"ticks\":\"\"}}}],\"scatterternary\":[{\"type\":\"scatterternary\",\"marker\":{\"colorbar\":{\"outlinewidth\":0,\"ticks\":\"\"}}}],\"scattercarpet\":[{\"type\":\"scattercarpet\",\"marker\":{\"colorbar\":{\"outlinewidth\":0,\"ticks\":\"\"}}}],\"carpet\":[{\"aaxis\":{\"endlinecolor\":\"#2a3f5f\",\"gridcolor\":\"white\",\"linecolor\":\"white\",\"minorgridcolor\":\"white\",\"startlinecolor\":\"#2a3f5f\"},\"baxis\":{\"endlinecolor\":\"#2a3f5f\",\"gridcolor\":\"white\",\"linecolor\":\"white\",\"minorgridcolor\":\"white\",\"startlinecolor\":\"#2a3f5f\"},\"type\":\"carpet\"}],\"table\":[{\"cells\":{\"fill\":{\"color\":\"#EBF0F8\"},\"line\":{\"color\":\"white\"}},\"header\":{\"fill\":{\"color\":\"#C8D4E3\"},\"line\":{\"color\":\"white\"}},\"type\":\"table\"}],\"barpolar\":[{\"marker\":{\"line\":{\"color\":\"#E5ECF6\",\"width\":0.5},\"pattern\":{\"fillmode\":\"overlay\",\"size\":10,\"solidity\":0.2}},\"type\":\"barpolar\"}],\"pie\":[{\"automargin\":true,\"type\":\"pie\"}]},\"layout\":{\"autotypenumbers\":\"strict\",\"colorway\":[\"#636efa\",\"#EF553B\",\"#00cc96\",\"#ab63fa\",\"#FFA15A\",\"#19d3f3\",\"#FF6692\",\"#B6E880\",\"#FF97FF\",\"#FECB52\"],\"font\":{\"color\":\"#2a3f5f\"},\"hovermode\":\"closest\",\"hoverlabel\":{\"align\":\"left\"},\"paper_bgcolor\":\"white\",\"plot_bgcolor\":\"#E5ECF6\",\"polar\":{\"bgcolor\":\"#E5ECF6\",\"angularaxis\":{\"gridcolor\":\"white\",\"linecolor\":\"white\",\"ticks\":\"\"},\"radialaxis\":{\"gridcolor\":\"white\",\"linecolor\":\"white\",\"ticks\":\"\"}},\"ternary\":{\"bgcolor\":\"#E5ECF6\",\"aaxis\":{\"gridcolor\":\"white\",\"linecolor\":\"white\",\"ticks\":\"\"},\"baxis\":{\"gridcolor\":\"white\",\"linecolor\":\"white\",\"ticks\":\"\"},\"caxis\":{\"gridcolor\":\"white\",\"linecolor\":\"white\",\"ticks\":\"\"}},\"coloraxis\":{\"colorbar\":{\"outlinewidth\":0,\"ticks\":\"\"}},\"colorscale\":{\"sequential\":[[0.0,\"#0d0887\"],[0.1111111111111111,\"#46039f\"],[0.2222222222222222,\"#7201a8\"],[0.3333333333333333,\"#9c179e\"],[0.4444444444444444,\"#bd3786\"],[0.5555555555555556,\"#d8576b\"],[0.6666666666666666,\"#ed7953\"],[0.7777777777777778,\"#fb9f3a\"],[0.8888888888888888,\"#fdca26\"],[1.0,\"#f0f921\"]],\"sequentialminus\":[[0.0,\"#0d0887\"],[0.1111111111111111,\"#46039f\"],[0.2222222222222222,\"#7201a8\"],[0.3333333333333333,\"#9c179e\"],[0.4444444444444444,\"#bd3786\"],[0.5555555555555556,\"#d8576b\"],[0.6666666666666666,\"#ed7953\"],[0.7777777777777778,\"#fb9f3a\"],[0.8888888888888888,\"#fdca26\"],[1.0,\"#f0f921\"]],\"diverging\":[[0,\"#8e0152\"],[0.1,\"#c51b7d\"],[0.2,\"#de77ae\"],[0.3,\"#f1b6da\"],[0.4,\"#fde0ef\"],[0.5,\"#f7f7f7\"],[0.6,\"#e6f5d0\"],[0.7,\"#b8e186\"],[0.8,\"#7fbc41\"],[0.9,\"#4d9221\"],[1,\"#276419\"]]},\"xaxis\":{\"gridcolor\":\"white\",\"linecolor\":\"white\",\"ticks\":\"\",\"title\":{\"standoff\":15},\"zerolinecolor\":\"white\",\"automargin\":true,\"zerolinewidth\":2},\"yaxis\":{\"gridcolor\":\"white\",\"linecolor\":\"white\",\"ticks\":\"\",\"title\":{\"standoff\":15},\"zerolinecolor\":\"white\",\"automargin\":true,\"zerolinewidth\":2},\"scene\":{\"xaxis\":{\"backgroundcolor\":\"#E5ECF6\",\"gridcolor\":\"white\",\"linecolor\":\"white\",\"showbackground\":true,\"ticks\":\"\",\"zerolinecolor\":\"white\",\"gridwidth\":2},\"yaxis\":{\"backgroundcolor\":\"#E5ECF6\",\"gridcolor\":\"white\",\"linecolor\":\"white\",\"showbackground\":true,\"ticks\":\"\",\"zerolinecolor\":\"white\",\"gridwidth\":2},\"zaxis\":{\"backgroundcolor\":\"#E5ECF6\",\"gridcolor\":\"white\",\"linecolor\":\"white\",\"showbackground\":true,\"ticks\":\"\",\"zerolinecolor\":\"white\",\"gridwidth\":2}},\"shapedefaults\":{\"line\":{\"color\":\"#2a3f5f\"}},\"annotationdefaults\":{\"arrowcolor\":\"#2a3f5f\",\"arrowhead\":0,\"arrowwidth\":1},\"geo\":{\"bgcolor\":\"white\",\"landcolor\":\"#E5ECF6\",\"subunitcolor\":\"white\",\"showland\":true,\"showlakes\":true,\"lakecolor\":\"white\"},\"title\":{\"x\":0.05},\"mapbox\":{\"style\":\"light\"}}},\"scene\":{\"xaxis\":{\"title\":{\"text\":\"Dimension 1\"}},\"yaxis\":{\"title\":{\"text\":\"Dimension 2\"}},\"zaxis\":{\"title\":{\"text\":\"Dimension 3\"}}},\"title\":{\"text\":\"Interactive 3D Sentence Embeddings Visualization\"}},                        {\"responsive\": true}                    ).then(function(){\n",
       "                            \n",
       "var gd = document.getElementById('ea2583e3-e2d3-422b-8eaa-01d2b5c87597');\n",
       "var x = new MutationObserver(function (mutations, observer) {{\n",
       "        var display = window.getComputedStyle(gd).display;\n",
       "        if (!display || display === 'none') {{\n",
       "            console.log([gd, 'removed!']);\n",
       "            Plotly.purge(gd);\n",
       "            observer.disconnect();\n",
       "        }}\n",
       "}});\n",
       "\n",
       "// Listen for the removal of the full notebook cells\n",
       "var notebookContainer = gd.closest('#notebook-container');\n",
       "if (notebookContainer) {{\n",
       "    x.observe(notebookContainer, {childList: true});\n",
       "}}\n",
       "\n",
       "// Listen for the clearing of the current output cell\n",
       "var outputEl = gd.closest('.output');\n",
       "if (outputEl) {{\n",
       "    x.observe(outputEl, {childList: true});\n",
       "}}\n",
       "\n",
       "                        })                };                });            </script>        </div>"
      ]
     },
     "metadata": {},
     "output_type": "display_data"
    }
   ],
   "source": [
    "#La même chose en 3D\n",
    "import plotly.graph_objects as go\n",
    "\n",
    "# Assuming you have the model loaded and ready\n",
    "\n",
    "# Tokenize and pad the sentences\n",
    "from tensorflow.keras.preprocessing.text import Tokenizer\n",
    "from tensorflow.keras.preprocessing.sequence import pad_sequences\n",
    "\n",
    "tokenizer = Tokenizer()\n",
    "tokenizer.fit_on_texts(sentences)\n",
    "total_words = len(tokenizer.word_index) + 1\n",
    "\n",
    "# Convert sentences to sequences\n",
    "sequences = tokenizer.texts_to_sequences(sentences)\n",
    "\n",
    "# Pad sequences to have consistent length\n",
    "max_sequence_length = max([len(seq) for seq in sequences])\n",
    "padded_sequences = pad_sequences(sequences, maxlen=max_sequence_length, padding='post')\n",
    "\n",
    "# Generate embeddings using the model\n",
    "embeddings = model.layers[0].get_weights()[0]\n",
    "\n",
    "# Create a 3D scatter plot with plotly\n",
    "fig = go.Figure()\n",
    "\n",
    "for i, sentence in enumerate(sentences):\n",
    "    fig.add_trace(go.Scatter3d(\n",
    "        x=[embeddings[i, 0]],\n",
    "        y=[embeddings[i, 1]],\n",
    "        z=[embeddings[i, 2]],\n",
    "        text=[sentence],\n",
    "        mode='markers',\n",
    "        marker=dict(\n",
    "            size=8,\n",
    "            color=i,  # You can use a color scale if needed\n",
    "            opacity=0.8\n",
    "        ),\n",
    "        name=sentence\n",
    "    ))\n",
    "\n",
    "fig.update_layout(\n",
    "    scene=dict(\n",
    "        xaxis_title='Dimension 1',\n",
    "        yaxis_title='Dimension 2',\n",
    "        zaxis_title='Dimension 3',\n",
    "    ),\n",
    "    title='Interactive 3D Sentence Embeddings Visualization'\n",
    ")\n",
    "\n",
    "# Display the plot in the notebook\n",
    "fig.show()\n",
    "\n",
    "# Save the plot as an HTML file\n",
    "fig.write_html(\"interactive_3d_plot.html\")\n"
   ]
  },
  {
   "cell_type": "code",
   "execution_count": 35,
   "id": "84c01965-4e9e-434a-9554-dc0126c27494",
   "metadata": {},
   "outputs": [
    {
     "name": "stdout",
     "output_type": "stream",
     "text": [
      "1/1 [==============================] - 1s 634ms/step\n"
     ]
    },
    {
     "data": {
      "image/png": "[encoded data removed]",
      "text/plain": [
       "<Figure size 864x432 with 4 Axes>"
      ]
     },
     "metadata": {
      "needs_background": "light"
     },
     "output_type": "display_data"
    }
   ],
   "source": [
    "import matplotlib.pyplot as plt\n",
    "import numpy as np\n",
    "\n",
    "# Assuming you have a model with LSTM layers\n",
    "# You may need to modify this based on your actual model architecture\n",
    "\n",
    "# Tokenize and pad the sentences\n",
    "from tensorflow.keras.preprocessing.text import Tokenizer\n",
    "from tensorflow.keras.preprocessing.sequence import pad_sequences\n",
    "\n",
    "# Get the activations of LSTM layers\n",
    "activation_model = Model(inputs=model.input, outputs=[model.get_layer('lstm').output, model.get_layer('lstm_1').output])\n",
    "# lstm1_activations, lstm2_activations = activation_model.predict(input_padded)\n",
    "# print(lstm1_activations)\n",
    "lstm1_activations, lstm2_activations = activation_model.predict(padded_sequences)\n",
    "\n",
    "\n",
    "# Plot the activations with a colorbar\n",
    "plt.figure(figsize=(12, 6))\n",
    "\n",
    "plt.subplot(1, 2, 1)\n",
    "plt.imshow(lstm1_activations[0].T, interpolation='nearest', cmap='viridis', aspect='auto')\n",
    "plt.title('LSTM 1 Activations')\n",
    "plt.xlabel('Time Step')\n",
    "plt.ylabel('Hidden Unit Index')\n",
    "plt.colorbar(label='Activation Value')\n",
    "\n",
    "plt.subplot(1, 2, 2)\n",
    "plt.imshow(lstm2_activations[:20].T, interpolation='nearest', cmap='viridis', aspect='auto')\n",
    "plt.title('LSTM 2 Activations')\n",
    "plt.xlabel('Time Step')\n",
    "plt.ylabel('Hidden Unit Index')\n",
    "plt.colorbar(label='Activation Value')\n",
    "\n",
    "\n",
    "plt.tight_layout()\n",
    "plt.show()\n"
   ]
  },
  {
   "cell_type": "code",
   "execution_count": 52,
   "id": "814b9691-62a5-41f8-a11f-0cd8c19a1a2e",
   "metadata": {},
   "outputs": [
    {
     "name": "stdout",
     "output_type": "stream",
     "text": [
      "Topic #1:\n",
      "['sodoma', 'mercurium', 'mancipo', 'situs', 'auxilium', 'aer', 'collum', 'prodigium', 'alternus', 'stupor', 'dominium', 'incuso', 'trepido', 'leuo', 'eicio', 'contristo', '±', 'socio', 'carnifex', 'statua', 'quamdiu', 'exsero', 'parento', 'agape', 'pressura', 'idea', 'inuito', 'demiurgus', 'sidus', 'sciscitor', 'intellectualis', 'aditus', 'imploro', 'medicina', 'continens', 'appello', 'assero', 'remunerator', 'nuncupo', 'assideo', 'monstruosus', 'miser', 'satisfacio', 'uulgaris', 'suffragium', 'rigor', 'laetus', 'cubile', 'cauterius', 'superduco']\n",
      "Topic #2:\n",
      "['aequum', 'luna', 'sex', 'arx', 'singularis', 'praeiudico', 'consumo', 'idololatres', 'huiusmodi', 'adiuuo', 'expugno', 'pignus', 'deditus', 'necne', 'intestinus', 'comprehendo', 'depositum', 'abominor', 'subtilitas', 'ruina', 'suspicor', 'nibil', 'substantiuus', 'affingo', 'uitulus', 'deseruio', 'sublimo', 'profundus', 'decursus', 'exaggero', 'dominator', 'macto', 'infatuo', 'currus', 'suspiro', 'praeministro', 'mollis', 'illuc', 'militia', 'submoueo', 'tiberium', 'contemptor', 'modicus', 'dissimulatio', 'isralis', 'nutus', 'accingo', 'incolatus', 'clam', 'circumduco']\n",
      "Topic #3:\n",
      "['stultus', 'distinctio', 'narratio', 'refragor', 'numen', 'querela', 'sepelio', 'reprobus', 'oblique', 'aetas', 'benedico', 'caedo', 'loquela', 'praestigium', 'introeo', 'officina', 'dominatio', 'doctor', 'necdum', 'sapio', 'misericors', 'conuerto', 'auctrix', 'parabola', 'zacharia', 'ieiuno', 'langueo', 'monumentum', 'luca', 'renouo', 'deprehendo', 'abdico', 'dionysius', 'hora', 'diffusus', 'rapina', 'perspicio', 'aufero', 'reddo', 'uicinus', 'testamentum', 'dauid', 'glorior', 'mensis', 'trucido', 'consequens', 'praesumo', 'agglutino', 'humanus', 'misericordia']\n"
     ]
    }
   ],
   "source": [
    "from sklearn.decomposition import NMF\n",
    "import numpy as np\n",
    "\n",
    "# Assuming 'word_embeddings' is your word embeddings matrix\n",
    "# 'word_embeddings' should be a 2D array with dimensions (vocab_size, embedding_dim)\n",
    "\n",
    "# Ensure all values are non-negative (replace negative values with zero)\n",
    "word_embeddings_non_negative = np.maximum(word_embeddings, 0)\n",
    "\n",
    "# Number of topics you want to extract\n",
    "num_topics = 3\n",
    "\n",
    "# # Create and fit NMF model\n",
    "# nmf = NMF(n_components=num_topics, random_state=42)\n",
    "# nmf.fit(word_embeddings_non_negative.T)\n",
    "\n",
    "# Create and fit LDA model\n",
    "lda = LatentDirichletAllocation(n_components=num_topics, random_state=42)\n",
    "lda.fit(word_embeddings_non_negative.T)\n",
    "\n",
    "# Get the topic distributions for each word\n",
    "word_topic_distributions = lda.transform(word_embeddings_non_negative.T)\n",
    "# Print the top words for each topic\n",
    "id_already_used_words=[]\n",
    "for topic_idx, topic in enumerate(lda.components_):\n",
    "    top_words_idx = topic.argsort()[:-word_embeddings_non_negative.shape[0]:-1]  # Get indices of top 10 words\n",
    "    top_words=[]\n",
    "    nb_id=0\n",
    "    for id in top_words_idx:\n",
    "        if not  id == 0:\n",
    "            #Ici le 50 gère le nombre de mots que l'on veut dans le sujet\n",
    "            if nb_id >=50:\n",
    "                break\n",
    "            if not id in id_already_used_words:\n",
    "                top_words.append(next(word for word, index in word_index.items() if index == id))\n",
    "                id_already_used_words.append(id)\n",
    "                nb_id+=1\n",
    "    print(f\"Topic #{topic_idx + 1}:\")\n",
    "    print(top_words)"
   ]
  },
  {
   "cell_type": "code",
   "execution_count": null,
   "id": "5cd82778-6ab9-433e-a7b9-3a123481b585",
   "metadata": {},
   "outputs": [],
   "source": []
  }
 ],
 "metadata": {
  "kernelspec": {
   "display_name": "Python 3 (ipykernel)",
   "language": "python",
   "name": "python3"
  },
  "language_info": {
   "codemirror_mode": {
    "name": "ipython",
    "version": 3
   },
   "file_extension": ".py",
   "mimetype": "text/x-python",
   "name": "python",
   "nbconvert_exporter": "python",
   "pygments_lexer": "ipython3",
   "version": "3.9.7"
  }
 },
 "nbformat": 4,
 "nbformat_minor": 5
}
