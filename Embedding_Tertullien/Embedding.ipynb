{
 "cells": [
  {
   "cell_type": "markdown",
   "id": "41a54899-41a8-4c3d-9884-18878d47c118",
   "metadata": {},
   "source": [
    "# Preprocessing"
   ]
  },
  {
   "cell_type": "code",
   "execution_count": 1,
   "id": "ea9d1d6a-8ddf-4ef2-b2b1-34a533fda16a",
   "metadata": {},
   "outputs": [
    {
     "data": {
      "text/html": [
       "        <script type=\"text/javascript\">\n",
       "        window.PlotlyConfig = {MathJaxConfig: 'local'};\n",
       "        if (window.MathJax && window.MathJax.Hub && window.MathJax.Hub.Config) {window.MathJax.Hub.Config({SVG: {font: \"STIX-Web\"}});}\n",
       "        if (typeof require !== 'undefined') {\n",
       "        require.undef(\"plotly\");\n",
       "        requirejs.config({\n",
       "            paths: {\n",
       "                'plotly': ['https://cdn.plot.ly/plotly-2.27.0.min']\n",
       "            }\n",
       "        });\n",
       "        require(['plotly'], function(Plotly) {\n",
       "            window._Plotly = Plotly;\n",
       "        });\n",
       "        }\n",
       "        </script>\n",
       "        "
      ]
     },
     "metadata": {},
     "output_type": "display_data"
    }
   ],
   "source": [
    "from plotly.offline import init_notebook_mode, iplot\n",
    "init_notebook_mode(connected=True)"
   ]
  },
  {
   "cell_type": "code",
   "execution_count": 2,
   "id": "fb21ae9c-d183-4ba6-8a96-0d30f72144b6",
   "metadata": {},
   "outputs": [
    {
     "name": "stderr",
     "output_type": "stream",
     "text": [
      "D:\\anaconda3\\lib\\site-packages\\scipy\\__init__.py:146: UserWarning:\n",
      "\n",
      "A NumPy version >=1.16.5 and <1.23.0 is required for this version of SciPy (detected version 1.24.3\n",
      "\n"
     ]
    }
   ],
   "source": [
    "import numpy as np\n",
    "from tensorflow.keras.datasets import imdb\n",
    "import tensorflow as tf\n",
    "import torch\n",
    "from tensorflow.keras import backend as K\n",
    "from tensorflow.keras import Model\n",
    "from tensorflow.keras.models import Sequential\n",
    "from tensorflow.keras.preprocessing import sequence\n",
    "from tensorflow.keras.layers import Dense, Activation, Embedding, Dropout, Input, LSTM, Reshape, Lambda, RepeatVector, Flatten\n",
    "from keras.preprocessing.sequence import pad_sequences\n",
    "import string\n",
    "import re"
   ]
  },
  {
   "cell_type": "code",
   "execution_count": 3,
   "id": "85ba99d4-f346-455f-a5a7-a76757f1fc39",
   "metadata": {},
   "outputs": [],
   "source": [
    "# #I added code to work on gpu if it is possible\n",
    "# if torch.cuda.is_available():\n",
    "#   device= 'cuda'\n",
    "# else:\n",
    "#   device='cpu'"
   ]
  },
  {
   "cell_type": "code",
   "execution_count": 4,
   "id": "e14cc23e-fb08-4670-b27c-c9ebb6954a45",
   "metadata": {},
   "outputs": [],
   "source": [
    "# # Load your text data from the file\n",
    "# paragraphs=[]\n",
    "# with open('De_Pallio.txt', 'r') as file:\n",
    "#     paragraphs = [[paragraph.strip()] for paragraph in file.readlines()]\n",
    "\n",
    "# # Filter out empty paragraphs\n",
    "# paragraphs = [paragraph[0] for paragraph in paragraphs if paragraph[0]]\n",
    "# paragraphs = [[paragraph.strip()] for paragraph in paragraphs]"
   ]
  },
  {
   "cell_type": "code",
   "execution_count": 5,
   "id": "6203453d-d828-4322-affc-3faba50df15e",
   "metadata": {},
   "outputs": [],
   "source": [
    "with open('Stopwords_latin.txt', 'r') as stop_words_file:\n",
    "    stop_words = stop_words_file.read().splitlines()"
   ]
  },
  {
   "cell_type": "code",
   "execution_count": 6,
   "id": "b7695934-22f1-48cf-9c58-7e920f62ac0d",
   "metadata": {},
   "outputs": [],
   "source": [
    "# Load your text data from the file\n",
    "paragraphs=[]\n",
    "with open('Corpus.txt', 'r', encoding='utf-8') as file:\n",
    "    paragraphs = [[paragraph.strip()] for paragraph in file.readlines()]\n",
    "\n",
    "# Filter out empty paragraphs\n",
    "paragraphs = [paragraph[0] for paragraph in paragraphs if paragraph[0]]\n",
    "paragraphs = [[paragraph.strip()] for paragraph in paragraphs]"
   ]
  },
  {
   "cell_type": "code",
   "execution_count": 7,
   "id": "c68397a1-1f5f-4601-a176-f72ba6794e0a",
   "metadata": {},
   "outputs": [
    {
     "data": {
      "text/plain": [
       "[['Magnum de modico malum scorpio terra suppurat. Tot uenena quot et genera, tot pernicies quot et species, tot dolores quot et colores. Nicander scribit et pingit. Et tamen unus omnium uiolentiae gestus de cauda, non ore; quae cauda erit, quodcumque de postumo corporis propagatur et uerberat. * * * perinde scorpii: series illa nodorum uenenata intrinsecus uenula subtilis arcuato impetu insurgens hamatile spiculum in summo tormenti ratione stringit. [2] Vnde et bellicam machinam retractu tela uegetantem de scorpio nominant. Id spiculum et fistula est patula tenuitate et uirus, qua figit, in uulnus effundit. Familiare periculi tempus aestas; Austro et Africo saeuitia uelificat. In remediis naturalia plurimum; aliquid et magia circumligat; medicina cum ferro et poculo occurrit. [3] Nam et praebibunt quidam festinando tutelam; sed concubitus exhaurit, et denuo sitiunt. Nobis fides praesidium, si non et ipsa percutitur diffidentia signandi statim et adiurandi et iniciendi bestiae calcem. [4] Hoc denique modo etiam ethnicis saepe subuenimus, donati a deo ea potestate, quam apostolus dedicauit, cum morsum uiperae spreuit. Quid ergo promittit stilus iste, si fides de suo tuta est? Vt et alias de suo tuta sit, cum suos scorpios patitur. Acerba mediocritas et istis et genus uarium et uno modo armantur et certo tempore subornantur nec alio  quam ardoris. [5] Hoc apud Christianos persecutio est. Cum igitur fides aestuat et ecclesia exuritur de figura rubi, tunc Gnostici erumpunt, tunc Valentiniani proserpunt, tunc omnes martyriorum refragatores ebulliunt calentes et ipsi offendere, figere, occidere. Nam quod sciant multos simplices ac rudes tum infirmos, plerosque uero in uentum et si placuerit Christianos, numquam magis adeundos sapiunt, quam cum aditus animae formido laxauit, praesertim cum aliqua iam atrocitas fidem martyrum coronauit. [6] Itaque primo trahentes adhuc caudam de affectibus applicant aut quasi in uacuum flagellant: haeccine pati homines innocentes? Vt putes fratrem aut de melioribus ethnicum. [7] Siccine tractari sectam nemini molestam? Dehinc adigunt: perire homines sine causa. Perire enim, et sine causa, prima fixura. Exinde iam caedunt: sed nesciunt simplices animae, quid quomodo scriptum sit, ubi et quando et coram quibus confitendum, nisi quod nec simplicitas ista, sed uanitas, immo dementia pro deo mori, ut qui me saluum faciat. [8] Sic is occidet, qui saluum facere debebit? Semel Christus pro nobis obiit, semel occisus est, ne occideremur. Si uicem repetit, num et ille salutem de mea nece expectat? An deus hominum sanguinem flagitat, maxime si taurorum et hircorum recusat? Certe peccatoris paenitentiam manuult quam mortem. Et quomodo non peccatorum desiderat mortem? [9] Haec et si qua alia adinuenta haereticorum uenenorum quem non uel in scrupulum figant, si non in exitium, uel in bilem, si non in mortem? At tu, si fides uigilat, ibidem scorpio pro solea anathema inlidito et relinquito  in suo pure morientem. [10] Ceterum, si plagam satiauerit, intimatur uirus et properat in uiscera; statim omnes pristini sensus retorpescunt, sanguis animi gelascit, caro spiritus exolescit, nausea nominis inacrescit. Iam et ipsa mens sibi, quo uomat, quaerit, atque ita infirmitas, semel quae percussa est, sauciatam fidem uel in haeresin uel in saeculum expirat. Et nunc in praesentia rerum est medius ardor, ipsa canicula persecutionis, ab ipso scilicet cynocephalo. [11] Alios ignis, alios gladius, alios bestiae Christianos probauerunt, alii fustibus interim et ungulis insuper degustato martyrio in carcere esuriunt. Nos ipsi ut lepores, destinata uenatio, de longinquo obsedimur, et haeretici ex more grassantur. [12] Itaque tempus admonuit aduersus nostrates bestiolas nostratem [mederi] theriacam stilo temperare. Qui legeris, biberis. Nec amarum potio. Si eloquia domini dulcia super mella et fauos, inde pigmenta sunt. Si lacte et melle promissio dei manat, hoc sapiunt quae illuc faciunt. Vae autem qui dulce in amarum et lumen in tenebras conuertunt! [13] Perinde enim et qui martyriis refragantur salutem perditionem interpretantes tam dulce in amarum quam luceni in tenebras reformant atque ita miserrimam hanc uitam illi beatissimae praeuertendo tam amarum pro dulce quam tenebras pro luce supponunt.'],\n",
       " ['Sed nondum de bono martyri, nisi de debito primum, nec ante de utilitate eius, quam de necessitate discendum. Auctoritas diuina praecedit, an tale quid uoluerit atque mandauerit deus, ut qui negant bonum non suadeantur accommodum, nisi cum subacti fuerint. Ad officium haereticos  compelli non inlici dignum est. Duritia uincenda est, non suadenda. [2] Et utique satis optimum praeiudicabitur quod probabitur a deo constitutum atque praeceptum. Sustineant euangelia paulisper, dum radicem eorum exprimo legem, dum inde elicio dei uoluntatem unde et ipsum recognosco: ego sum, inquit, deus deus tuus, qui te eduxi de terra Aegypti. Non erunt tibi dii alii praeter me. Non facies tibi simulacrum eorum quae in caelo et quae in terra deorsum et quae in mari infra terram. Non adorabis ea, neque famulaberis eis. Ego enim dominus deus tuus. Item in eadem Exodo: ipsi uidistis, quod de caelo locutus ad uos sim. Non facietis uobis deos argenteos, et deos aureos non facietis uobis. [3] Secundum haec et in Deuteronomio: audi Israel, dominus deus tuus unus est, et diliges dominum deum tuum ex toto corde tuo et totis uiribus tuis et ex tota anima tua. Et rursus: nec obliuiscaris domini dei tui, qui te eduxit de terra Aegypti ex domo seruitutis. Dominum deum tuum timebis et illi famulaberis soli et illi adglutinaberis et in nomine eius deierabis. [4] Non ibitis post deos alienos ex deis nationum, quae circum uos, quia aemulatur deus deus tuus in te, et ne iratus indignetur et exterminet te a facie terrae. [5] Sed et proponens benedictiones et maledictiones: benedictiones, inquit, si audieritis praecepta domini dei uestri, quaecumque ego praecipio uobis hodie, et non erraueritis de uia quam mandaui uobis, ut abeuntes semiatis deis aliis, quos non scitis. [6] De quibus omnifariam extirpandis: perditione perdetis, inquit, omnia loca, in quibus seruierunt nationes deis suis, quas uos possidebitis hereditate, super montes et colles et sub arbores densas, quasque effodietis aras eorum, euertetis et comminuetis staticula eorum et excidetis lucos eorum  et sculptilia ipsorum deorum concremabitis igni et disperdetis nomen eorum de loco illo. [7] Adhuc ingerit, cum introissent terram promissionis et exterminassent nationes eius: caue tibi, ne sequaris eas posteaquam exterminatae fuerint a facie tua, ne requisieris deos illarum dicens, quemadmodum faciunt nationes deis suis, ut et ego ita faciam. [8] Sed et, si ipse prophetes, inquit, exsurrexerit in te aut somnium somnians et dederit tibi signum uel ostentum et uenerit et dixerit, eamus et seruiamus diis aliis, quos non scitis, ne audiatis sermonem prophetae aut somniatoris illius, quia temptat uos dominus deus uester, an ex toto corde uestro et ex tota anima uestra timeatis deum. Post dominum deum uestrum abibitis et hunc timebitis et praecepta eius custodietis et uocem eius audietis et illi seruietis et illi adiciemini. Prophetes autem uel somniator ille morietur; locutus enim est ad seducendum te a domino deo tuo. [9] Sed et alio titulo: si autem rogauerit te frater tuus ex patre uel matre aut filius tuus aut filia tua aut mulier quae in gremio tuo est aut amicus qui animae tuae par est clam dicens, eamus et seruiamus diis aliis, quos non scis, nec patres tui, ex deis nationum, quae circum te proxime aut longe, ne uelis ire cum illo, et ne audieris eum. [10] Non parcet oculus tuus super eum nec desiderabis nec saluabis eum; adnuntians adnuntiabis de eo. Manus tuae erunt in eum in primis ad occidendum, et manus populi tui in nouissimis, et lapidabitis illum, et morietur, quoniam quaesiuit auertere te a domino deo tuo. [11] Subicit etiam de ciuitatibus, si quam ex his constitisset suasu iniquorum hominum transisse ad deos alios, ut interficerentur omnes incolentes eam, et deuotamenta fierent uniuersa eius, et colligerentur omnia spolia eius in omnes  exitus eius et igni cremarentur cum omnibus uasibus suis et cum omni populo in conspectu domini dei, et non erit habitabilis, inquit, in aeternum, non reaedificabitur amplius nec adhaerebit quicquam manibus tuis ex deuotamento eius, uti auertatur dominus ab indignatione irae suae. [12] Maledictionum quoque ordinem ab idolorum execratione commisit: maledictus homo qui fecerit sculptile aut fusile aspernamentum, opus manuum artificis, et collocauerit illud in abscondito. In Leuitico uero: ne sequimini, inquit, idola et deos fusiles non facietis uobis. Ego dominus deus uester. Et alibi: filii Israel famuli pueri mei. Hi sunt quos eduxi de terra Aegypti. Ego dominus deus uester. Non facietis uobis manu facta nec sculptile staticulum statuetis uobis. Nec lapidem scopum ponetis in terra uestra. Ego dominus deus uester. [13] Et haec quidem prima per Moysen dicta sunt ad omnes utique pertinentia, quoscumque dominus deus Israelis perinde de Aegypto superstitiosissimi saeculi et de domo humanae seruitutis eduxerit. [14] Sed et deinceps omne os prophetarum eiusdem dei uocibus sonat eandem legem suam eorundem praeceptorum instauratione cumulantis nec aliud primum tam principaliter denuntiantis, quam ab omni factura atque cultura idolorum cauere; ut per Dauid: dii nationum argentum et aurum, oculos habent nec uident, aures habent nec audiunt, nares habent nec odorantur, os nec locuntur, manus nec contrectant, pedes nec ingrediuntur. Similes erunt illis, qui ea faciunt et qui fidunt in illis.'],\n",
       " ['Nec putem disceptandum, an digne deus prohibeat nomen et honorem suum mendacio addici, an digne quos ab errore superstitionis auulserit rursus in Aegyptum regredi nolit, an digne a se non patiatur absistere quos sibi adlegit.  Ita nec illud expectabitur retractari a nobis, an obseruari uoluerit disciplinam quam uoluit instituere et an merito ulciscatur desertam quam uoluit obseruatam, quando frustra instituisset, si obseruari eam noluisset, et frustra obseruari uoluisset, si uindicare noluisset. [2] Sequitur enim, ut has definitiones dei aduersus superstitiones tam euictas quam etiam uindicatas probem, quoniam ex his tota martyriorum ratio constabit. Aberat apud deum in monte Moyses, cum populus tam necessariam absentiam eius impatiens deos sibi producere quaerit, quo se potius ipse perdiderit. [3] Vrgetur Aaron, et iubet inaures feminarum suarum in ignem conferri. Amissuri enim erant in iudicium sibi uera ornamenta aurium, dei uoces. Sapiens ignis effigiem uituli defundit illis suggillans illic cor habentes ubi et thesaurum, apud Aegyptum scilicet, inter cetera animalia bouis etiam cuiusdam consecratricem. [4] Itaque tria milia hominum a parentibus proximis caesa, quia tam proximum parentem deum offenderant, transgressionis et primordia et merita dedicauerunt. In Arithmis cum diuertisset Israel apud Sethim, abeunt libidinatum ad filias Moab, inuitantur ad idola, ut et spiritu fornicarentur, edunt denique de pollutis eorum, dehinc et adorant deos gentis et Beelphegor initiantur. [5] Ob hanc quoque idololatrian moechiae sororem uiginti tria milia domesticis obtruncata gladiis diuinae irae litauerunt. Defuncto Iesu Naue derelincunt deum patrum suorum et seruiunt idolis Baalim et Astartis, et iratus dominus tradidit eos in manibus diripientium, et diripiebantur ab illis et uenumdabantur inimicis, nec poterant omnino subsistere a facie inimicorum suorum. [6] Quocumque processerant, manus erat super illos in mala, et conpressati  sunt ualde. Post quae instituit super illos deus Critas, quos Censores intellegimus. Sed nec istis obaudire perseuerauerunt. Vt quis critarum obierat, illi ad delinquendum supra quam patres eorum, abeundo post deos aliorum et seruiendo et adorando eos. [7] Itaque dominus iratus, quoniam quidem, ait, transgressi sunt gens ista pactum meum, quod disposui patribus eorum, et non audierunt uocem meam, et ego non aduertam ad auferendum uirum a facie eorum ex nationibus, quas reliquit decedens Iesus. Atque ita per omnes paene annales critarum et deinceps regum reseruatis gentium circumcolarum uiribus bello et captiuitate et iugo allophylorum iram dei pensauit Israel, quotienscumque ab illo maxime in idololatrian exorbitauerunt.']]"
      ]
     },
     "execution_count": 7,
     "metadata": {},
     "output_type": "execute_result"
    }
   ],
   "source": [
    "paragraphs[:3]"
   ]
  },
  {
   "cell_type": "code",
   "execution_count": 8,
   "id": "9e7515a0-5954-429f-a59a-0552033136bc",
   "metadata": {},
   "outputs": [],
   "source": [
    "data=[]\n",
    "for i in range(len(paragraphs)):\n",
    "    for j in range(len(paragraphs[i])):\n",
    "        text = paragraphs[i][j].translate(str.maketrans('', '', string.punctuation))\n",
    "        text = text.lower()\n",
    "\n",
    "        # Suppression des nombres\n",
    "        text = re.sub(r'\\d+', '', text)\n",
    "\n",
    "        # Tokenisation du texte\n",
    "        words = text.split()\n",
    "    \n",
    "        #Suppresion des stop-words\n",
    "        words = [word for word in words if word not in stop_words]\n",
    "        # data.append(paragraphs[i][j].split())\n",
    "        data.append(words)"
   ]
  },
  {
   "cell_type": "code",
   "execution_count": 9,
   "id": "5f853d46-ca7a-4709-b2a7-8b4e433b8972",
   "metadata": {},
   "outputs": [],
   "source": [
    "paragraphs=data"
   ]
  },
  {
   "cell_type": "code",
   "execution_count": null,
   "id": "2cf06e79-9e52-4e80-84ce-5989af057ab3",
   "metadata": {},
   "outputs": [],
   "source": [
    "paragraphs"
   ]
  },
  {
   "cell_type": "code",
   "execution_count": 13,
   "id": "7f0f215c-035e-49a1-91c7-97f1d71aaa65",
   "metadata": {},
   "outputs": [],
   "source": [
    "from keras.preprocessing.text import Tokenizer\n",
    "# max_words = 1000  # Adjust this number based on your preference\n",
    "# tokenizer = Tokenizer(num_words=max_words, oov_token=\"<unknown>\")\n",
    "# tokenizer.fit_on_texts(paragraphs)\n",
    "\n",
    "min_word_frequency = 10  # Adjust this based on your preference\n",
    "tokenizer = Tokenizer()\n",
    "tokenizer.fit_on_texts(paragraphs)\n",
    "\n",
    "# Filter out less frequent words\n",
    "word_counts = tokenizer.word_counts\n",
    "tokenizer.word_index = {word: index for word, index in tokenizer.word_index.items() if word_counts[word] >= min_word_frequency}\n",
    "tokenizer.word_index[tokenizer.oov_token] = len(tokenizer.word_index) + 1  # Add \"unknown\" token\n",
    "total_words = len(tokenizer.word_index) + 1\n",
    "\n",
    "# Create sequences\n",
    "sequences = tokenizer.texts_to_sequences(paragraphs)\n",
    "\n",
    "# Pad sequences\n",
    "padded_sequences = sequence.pad_sequences(\n",
    "                  sequences, #Use our train dataset\n",
    "                  maxlen=max(len(seq) for seq in sequences), #Max length\n",
    "                  dtype='int32',\n",
    "                  padding='post',  #Add zeros if needed to the max length\n",
    "                  truncating='post', # Truncate sequence that are too long\n",
    "                  value=0.0 # Value to add at the end of the sequence if it is too short\n",
    "              )"
   ]
  },
  {
   "cell_type": "code",
   "execution_count": 12,
   "id": "b55981f4-bae1-4b15-a910-197d933466f0",
   "metadata": {},
   "outputs": [
    {
     "data": {
      "text/plain": [
       "255"
      ]
     },
     "execution_count": 12,
     "metadata": {},
     "output_type": "execute_result"
    }
   ],
   "source": [
    "max(len(seq) for seq in sequences)"
   ]
  },
  {
   "cell_type": "code",
   "execution_count": 13,
   "id": "edb7cbb4-83fb-4b8a-b85e-295185660400",
   "metadata": {},
   "outputs": [
    {
     "data": {
      "text/plain": [
       "array([[ 257, 1848,   61, ...,    0,    0,    0],\n",
       "       [ 216,  459,  617, ...,    0,    0,    0],\n",
       "       [2220, 1686,    2, ...,    0,    0,    0],\n",
       "       ...,\n",
       "       [ 528,  509,    3, ...,    0,    0,    0],\n",
       "       [ 438, 1873,  481, ...,    0,    0,    0],\n",
       "       [ 124, 1692,   58, ...,  240, 2507,   38]])"
      ]
     },
     "execution_count": 13,
     "metadata": {},
     "output_type": "execute_result"
    }
   ],
   "source": [
    "padded_sequences[:10]"
   ]
  },
  {
   "cell_type": "code",
   "execution_count": 14,
   "id": "5e248674-4bfe-48f8-94db-760edb412af8",
   "metadata": {},
   "outputs": [],
   "source": [
    "# Generate random labels\n",
    "labels = np.random.randint(2, size=(len(padded_sequences),))"
   ]
  },
  {
   "cell_type": "code",
   "execution_count": 15,
   "id": "486fd825-6a44-4d30-b171-ed7754461156",
   "metadata": {},
   "outputs": [
    {
     "data": {
      "text/plain": [
       "array([0, 0, 1, ..., 1, 0, 1])"
      ]
     },
     "execution_count": 15,
     "metadata": {},
     "output_type": "execute_result"
    }
   ],
   "source": [
    "labels"
   ]
  },
  {
   "cell_type": "code",
   "execution_count": 16,
   "id": "81a85796-46c7-4584-99ab-f8298c84f694",
   "metadata": {},
   "outputs": [],
   "source": [
    "from sklearn.model_selection import train_test_split\n",
    "\n",
    "X_train,X_test,y_train,y_test = train_test_split(padded_sequences, labels,test_size=0.33,random_state=46)"
   ]
  },
  {
   "cell_type": "markdown",
   "id": "f5896c90-59fc-482b-8858-fb938320c4fc",
   "metadata": {},
   "source": [
    "# Embedding"
   ]
  },
  {
   "cell_type": "code",
   "execution_count": 17,
   "id": "1a29a529-368d-4823-9491-c4f9c6efdf4a",
   "metadata": {},
   "outputs": [],
   "source": [
    "K.clear_session()\n",
    "top_words = len(tokenizer.word_index) + 1\n",
    "embedding_dim = 10"
   ]
  },
  {
   "cell_type": "code",
   "execution_count": 18,
   "id": "8adb614a-f0d3-4ebf-84cf-fb7eb5068306",
   "metadata": {},
   "outputs": [
    {
     "data": {
      "text/plain": [
       "2769"
      ]
     },
     "execution_count": 18,
     "metadata": {},
     "output_type": "execute_result"
    }
   ],
   "source": [
    "top_words"
   ]
  },
  {
   "cell_type": "code",
   "execution_count": 20,
   "id": "a4bb01af-0804-424d-b08b-1a3be86f696b",
   "metadata": {},
   "outputs": [
    {
     "name": "stdout",
     "output_type": "stream",
     "text": [
      "Architecture of our model using the Sequential API\n",
      "Model: \"sequential_1\"\n",
      "_________________________________________________________________\n",
      " Layer (type)                Output Shape              Param #   \n",
      "=================================================================\n",
      " embedding_1 (Embedding)     (None, None, 10)          27690     \n",
      "                                                                 \n",
      " lstm_2 (LSTM)               (None, None, 50)          12200     \n",
      "                                                                 \n",
      " lstm_3 (LSTM)               (None, None, 30)          9720      \n",
      "                                                                 \n",
      " lstm_4 (LSTM)               (None, 10)                1640      \n",
      "                                                                 \n",
      " dense_1 (Dense)             (None, 1)                 11        \n",
      "                                                                 \n",
      "=================================================================\n",
      "Total params: 51261 (200.24 KB)\n",
      "Trainable params: 51261 (200.24 KB)\n",
      "Non-trainable params: 0 (0.00 Byte)\n",
      "_________________________________________________________________\n",
      "None\n"
     ]
    }
   ],
   "source": [
    "# --- Using the Sequential API\n",
    "model = Sequential()\n",
    "model.add(Embedding(top_words,embedding_dim)) #To embed the inputs\n",
    "model.add(LSTM(50,dropout=0.2,recurrent_dropout=0.2,return_sequences=True)) # Use a LSTM with dropout\n",
    "model.add(LSTM(30,dropout=0.2,recurrent_dropout=0.2,return_sequences=True)) # Use a LSTM with dropout\n",
    "model.add(LSTM(10,dropout=0.2,recurrent_dropout=0.2)) # Use a LSTM with dropout\n",
    "model.add(Dense(1,activation=\"sigmoid\")) #Perform a binary classification\n",
    "print(f\"Architecture of our model using the Sequential API\")\n",
    "print(model.summary())\n",
    "# --- END CODE HERE"
   ]
  },
  {
   "cell_type": "code",
   "execution_count": 21,
   "id": "438d69a0-ac20-4d1a-92b3-6fb57b623016",
   "metadata": {},
   "outputs": [
    {
     "name": "stdout",
     "output_type": "stream",
     "text": [
      "Epoch 1/2\n",
      "337/337 [==============================] - 184s 527ms/step - loss: 0.6933 - accuracy: 0.4986 - val_loss: 0.6932 - val_accuracy: 0.4982\n",
      "Epoch 2/2\n",
      "337/337 [==============================] - 194s 577ms/step - loss: 0.6932 - accuracy: 0.5006 - val_loss: 0.6932 - val_accuracy: 0.4982\n"
     ]
    },
    {
     "name": "stderr",
     "output_type": "stream",
     "text": [
      "D:\\anaconda3\\lib\\site-packages\\keras\\src\\engine\\training.py:3000: UserWarning:\n",
      "\n",
      "You are saving your model as an HDF5 file via `model.save()`. This file format is considered legacy. We recommend using instead the native Keras format, e.g. `model.save('my_model.keras')`.\n",
      "\n"
     ]
    }
   ],
   "source": [
    "# --- compile and fit the model\n",
    "###### With the Sequential API\n",
    "model.compile(loss='binary_crossentropy', optimizer='adam', metrics=['accuracy'])\n",
    "model.fit(X_train, y_train, epochs=2, batch_size=64, validation_data=(X_test, y_test))\n",
    "#Save model\n",
    "model.save('test.h5')\n",
    "# model.fit(padded_sequences, labels, epochs=3, batch_size=64, validation_data=(X_test, y_test))"
   ]
  },
  {
   "cell_type": "code",
   "execution_count": 70,
   "id": "9b8317d1-3516-4a06-a660-af8b8b7dae32",
   "metadata": {},
   "outputs": [],
   "source": [
    "# from keras.models import load_model\n",
    "# # Load the model\n",
    "# model = load_model('your_model.h5')"
   ]
  },
  {
   "cell_type": "code",
   "execution_count": 71,
   "id": "f4d93937-2261-4677-8533-dbd30a7783ec",
   "metadata": {},
   "outputs": [],
   "source": [
    "# # --- Final evaluation of the model\n",
    "# ###### With the Sequential API\n",
    "# scores = model.evaluate(X_test, y_test, verbose=0)\n",
    "# print(\"Accuracy: %.2f%%\" % (scores[1]*100))"
   ]
  },
  {
   "cell_type": "code",
   "execution_count": 22,
   "id": "5a8b47e7-8daf-4448-ad58-8971421911c8",
   "metadata": {},
   "outputs": [
    {
     "name": "stdout",
     "output_type": "stream",
     "text": [
      "The word at index 25 is: dominum\n"
     ]
    }
   ],
   "source": [
    "# Get the word_index dictionary\n",
    "word_index = tokenizer.word_index\n",
    "# Get the word for a specific index\n",
    "index_to_lookup = 25\n",
    "word_at_index = next(word for word, index in word_index.items() if index == index_to_lookup)\n",
    "\n",
    "print(f\"The word at index {index_to_lookup} is: {word_at_index}\")"
   ]
  },
  {
   "cell_type": "code",
   "execution_count": 23,
   "id": "9fb4e591-2311-4135-9297-1eb2b6bcaa58",
   "metadata": {},
   "outputs": [],
   "source": [
    "def extract_closest_word(word):\n",
    "    # Get the word_index dictionary\n",
    "    word_index = tokenizer.word_index\n",
    "    # Get the index of a specific word\n",
    "    word_to_lookup = word\n",
    "    index_of_word = word_index.get(word_to_lookup, None)\n",
    "    \n",
    "    if index_of_word is not None:\n",
    "        print(f\"The index of '{word_to_lookup}' is: {index_of_word}\")\n",
    "    else:\n",
    "        print(f\"'{word_to_lookup}' not found in the vocabulary.\")\n",
    "        \n",
    "    # Get the embedding matrix\n",
    "    embedding_matrix = model.layers[0].get_weights()[0]\n",
    "\n",
    "    print(\"Embedding Matrix Shape:\" +str(embedding_matrix.shape) + \"\\n\")\n",
    "    \n",
    "    # --- START CODE HERE (04)\n",
    "    embedding_weights = embedding_matrix # Get the weights of the embedding layer\n",
    "    index_great = index_of_word # Get the index of the word \"great\"\n",
    "    word_embedding_great=embedding_weights[index_great,:] # Get the embedding of the word great\n",
    "    # print(f\"The embedding of the word {word_to_lookup} is :\")\n",
    "    # print(word_embedding_great)\n",
    "\n",
    "\n",
    "    dist_v= tf.norm(embedding_weights - embedding_weights[index_great], axis=1) # euclidean norm by default\n",
    "\n",
    "\n",
    "    for i in np.argsort(dist_v)[1:20]: print(str(next(word for word, index in word_index.items() if index == i)) \n",
    "                                               + \" | Distance : \" + str(dist_v[i].numpy()))"
   ]
  },
  {
   "cell_type": "code",
   "execution_count": 26,
   "id": "7d50b74f-d0d2-42c9-a80a-33932af37930",
   "metadata": {},
   "outputs": [
    {
     "name": "stdout",
     "output_type": "stream",
     "text": [
      "The index of 'caro' is: 15\n",
      "Embedding Matrix Shape:(2769, 10)\n",
      "\n",
      "stabit | Distance : 0.04753286\n",
      "delictorum | Distance : 0.051853217\n",
      "perditionis | Distance : 0.05218937\n",
      "voluntate | Distance : 0.05506863\n",
      "prophetes | Distance : 0.061316058\n",
      "belli | Distance : 0.062474955\n",
      "veritatis | Distance : 0.063147865\n",
      "prophetarum | Distance : 0.06332726\n",
      "spectaculum | Distance : 0.06347345\n",
      "colitis | Distance : 0.065103896\n",
      "praeiudicatum | Distance : 0.065265104\n",
      "utpote | Distance : 0.06554925\n",
      "tempori | Distance : 0.06593648\n",
      "proprietatem | Distance : 0.06670224\n",
      "extranei | Distance : 0.068008065\n",
      "sortem | Distance : 0.071364954\n",
      "ambitio | Distance : 0.07142244\n",
      "incesti | Distance : 0.07170341\n",
      "marcionem | Distance : 0.07290262\n"
     ]
    }
   ],
   "source": [
    "extract_closest_word(\"caro\")"
   ]
  },
  {
   "cell_type": "code",
   "execution_count": 27,
   "id": "05b21d00-82db-479f-9ca9-865c32a25af7",
   "metadata": {},
   "outputs": [
    {
     "data": {
      "text/plain": [
       "array([[2744,    0,    0, ...,    0,    0,    0],\n",
       "       [ 842,    0,    0, ...,    0,    0,    0],\n",
       "       [1139,    5,    0, ...,    0,    0,    0],\n",
       "       ...,\n",
       "       [   4,  252,  102, ...,    0,    0,    0],\n",
       "       [ 168,    0,    0, ...,    0,    0,    0],\n",
       "       [ 253,    1,    5, ...,    0,    0,    0]])"
      ]
     },
     "execution_count": 27,
     "metadata": {},
     "output_type": "execute_result"
    }
   ],
   "source": [
    "X_train[:10]"
   ]
  },
  {
   "cell_type": "markdown",
   "id": "03366509-c03d-4efb-92a9-2a2eeebc9777",
   "metadata": {},
   "source": [
    "## Visualisation"
   ]
  },
  {
   "cell_type": "code",
   "execution_count": 28,
   "id": "c3d4fff1-20ac-4645-8155-22677c67bd62",
   "metadata": {},
   "outputs": [
    {
     "data": {
      "text/plain": [
       "'dei'"
      ]
     },
     "execution_count": 28,
     "metadata": {},
     "output_type": "execute_result"
    }
   ],
   "source": [
    "next(word for word, index in word_index.items() if index == 1)"
   ]
  },
  {
   "cell_type": "code",
   "execution_count": 39,
   "id": "38f117c1-935d-400b-8ddc-9a39bf9d174a",
   "metadata": {},
   "outputs": [
    {
     "data": {
      "image/png": "[encoded data removed]",
      "text/plain": [
       "<Figure size 864x720 with 1 Axes>"
      ]
     },
     "metadata": {
      "needs_background": "light"
     },
     "output_type": "display_data"
    }
   ],
   "source": [
    "import matplotlib.pyplot as plt\n",
    "from sklearn.manifold import TSNE\n",
    "import numpy as np\n",
    "from sklearn.metrics import pairwise_distances\n",
    "\n",
    "minimum = 200\n",
    "\n",
    "# Assuming word_embeddings is your embedding matrix and labels is a list of corresponding labels\n",
    "# Replace these with your actual data\n",
    "word_embeddings = model.layers[0].get_weights()[0]  # Your word embeddings matrix\n",
    "# Your list of labels\n",
    "\n",
    "# Apply t-SNE to reduce dimensionality to 2D\n",
    "tsne = TSNE(n_components=2, random_state=42)\n",
    "embedded_words = tsne.fit_transform(word_embeddings)\n",
    "\n",
    "# Calculate pairwise distances between embedded words\n",
    "distances = pairwise_distances(embedded_words)\n",
    "\n",
    "# Plot the t-SNE visualization with labels for the top words\n",
    "plt.figure(figsize=(12, 10))\n",
    "\n",
    "# Get word frequencies and select words that occur more than 10 times\n",
    "selected_words = [word for word, count in tokenizer.word_counts.items() if count > minimum]\n",
    "\n",
    "# Define a colormap for the selected words based on distances\n",
    "colors = plt.cm.rainbow(np.linspace(0, 1, len(selected_words)))\n",
    "\n",
    "for i, word in enumerate(selected_words):\n",
    "    index = tokenizer.word_index.get(word)\n",
    "    if index is not None:\n",
    "        x, y = embedded_words[index, :]\n",
    "        color = colors[i]\n",
    "        plt.scatter(x, y, label=word, color=color)\n",
    "        plt.text(x, y, word, fontsize=8, ha='right', va='bottom', color='black')\n",
    "\n",
    "plt.title(f't-SNE Visualization of Word Embeddings for Words Occurring > {minimum} Times')\n",
    "plt.legend(title='Selected Words', loc='center left', bbox_to_anchor=(1, 0.5), fontsize='small')\n",
    "plt.show()\n"
   ]
  },
  {
   "cell_type": "code",
   "execution_count": 40,
   "id": "ba9fa720-400a-47b5-92c4-10a4bf9d6d5b",
   "metadata": {},
   "outputs": [
    {
     "data": {
      "image/png": "[encoded data removed]",
      "text/plain": [
       "<Figure size 720x576 with 1 Axes>"
      ]
     },
     "metadata": {
      "needs_background": "light"
     },
     "output_type": "display_data"
    }
   ],
   "source": [
    "# Assuming you have a list of sentences\n",
    "sentences = [\"Poeta puellis multas litteras scribit quia eam amat\",\n",
    "            \"Virgo amicae narrat poetam ei multas litteras scribere. Utique cor pulsat.\",\n",
    "            \"Proxime factum est. Vt fama refert, puella Carthiginiensis versus cuidam poetae accepit.\",\n",
    "            \"Gaudeat, puella quam Virgilius amat ! Musae comam eius coronis floreis ornant, sicut Venus optat.\",\n",
    "            \"Seruus asinus agrum ducit.\"]  # Replace with your actual list of sentences\n",
    "\n",
    "\n",
    "import numpy as np\n",
    "import matplotlib.pyplot as plt\n",
    "\n",
    "# Assuming you have the model loaded and ready\n",
    "\n",
    "# Tokenize and pad the sentences\n",
    "from tensorflow.keras.preprocessing.text import Tokenizer\n",
    "from tensorflow.keras.preprocessing.sequence import pad_sequences\n",
    "\n",
    "tokenizer = Tokenizer()\n",
    "tokenizer.fit_on_texts(sentences)\n",
    "total_words = len(tokenizer.word_index) + 1\n",
    "\n",
    "# Convert sentences to sequences\n",
    "sequences = tokenizer.texts_to_sequences(sentences)\n",
    "\n",
    "# Pad sequences to have consistent length\n",
    "max_sequence_length = max([len(seq) for seq in sequences])\n",
    "padded_sequences = pad_sequences(sequences, maxlen=max_sequence_length, padding='post')\n",
    "\n",
    "# Generate embeddings using the model\n",
    "embeddings = model.layers[0].get_weights()[0]\n",
    "\n",
    "# Function to calculate the Euclidean distance between two vectors\n",
    "def euclidean_distance(vec1, vec2):\n",
    "    return np.linalg.norm(vec1 - vec2)\n",
    "\n",
    "# Function to visualize embeddings with legend on the right and outside the plot\n",
    "def visualize_embeddings_with_legend(embeddings, sentences, title):\n",
    "    plt.figure(figsize=(10, 8))\n",
    "    for i, sentence in enumerate(sentences):\n",
    "        plt.scatter(embeddings[i, 0], embeddings[i, 1], label=sentence)\n",
    "\n",
    "    plt.title(title)\n",
    "    plt.legend(bbox_to_anchor=(1.05, 1), loc='upper left')\n",
    "    plt.show()\n",
    "\n",
    "# Visualize embeddings with legend on the right and outside the plot\n",
    "visualize_embeddings_with_legend(embeddings[:, :2], sentences, \"Sentence Embeddings Visualization\")"
   ]
  },
  {
   "cell_type": "code",
   "execution_count": 41,
   "id": "705b8a34-ce01-4a6e-91fe-c79c9e3c6dc1",
   "metadata": {},
   "outputs": [
    {
     "data": {
      "image/png": "[encoded data removed]",
      "text/plain": [
       "<Figure size 720x576 with 1 Axes>"
      ]
     },
     "metadata": {
      "needs_background": "light"
     },
     "output_type": "display_data"
    }
   ],
   "source": [
    "from sklearn.manifold import TSNE\n",
    "embeddings_tsne = TSNE(n_components=2).fit_transform(embeddings)\n",
    "visualize_embeddings_with_legend(embeddings_tsne, sentences, \"Word Embeddings Visualization\")"
   ]
  },
  {
   "cell_type": "code",
   "execution_count": 42,
   "id": "b66af5e6-99b7-4946-82c9-40f6f4f2f027",
   "metadata": {},
   "outputs": [
    {
     "data": {
      "application/vnd.plotly.v1+json": {
       "config": {
        "plotlyServerURL": "https://plot.ly"
       },
       "data": [
        {
         "marker": {
          "color": 0,
          "opacity": 0.8,
          "size": 8
         },
         "mode": "markers",
         "name": "Poeta puellis multas litteras scribit quia eam amat",
         "text": [
          "Poeta puellis multas litteras scribit quia eam amat"
         ],
         "type": "scatter3d",
         "x": [
          0.024761857464909554
         ],
         "y": [
          0.014117863029241562
         ],
         "z": [
          0.012923458591103554
         ]
        },
        {
         "marker": {
          "color": 1,
          "opacity": 0.8,
          "size": 8
         },
         "mode": "markers",
         "name": "Virgo amicae narrat poetam ei multas litteras scribere. Utique cor pulsat.",
         "text": [
          "Virgo amicae narrat poetam ei multas litteras scribere. Utique cor pulsat."
         ],
         "type": "scatter3d",
         "x": [
          0.03450378403067589
         ],
         "y": [
          0.010975935496389866
         ],
         "z": [
          0.029469391331076622
         ]
        },
        {
         "marker": {
          "color": 2,
          "opacity": 0.8,
          "size": 8
         },
         "mode": "markers",
         "name": "Proxime factum est. Vt fama refert, puella Carthiginiensis versus cuidam poetae accepit.",
         "text": [
          "Proxime factum est. Vt fama refert, puella Carthiginiensis versus cuidam poetae accepit."
         ],
         "type": "scatter3d",
         "x": [
          -0.033896178007125854
         ],
         "y": [
          -0.012500128708779812
         ],
         "z": [
          -0.01721225306391716
         ]
        },
        {
         "marker": {
          "color": 3,
          "opacity": 0.8,
          "size": 8
         },
         "mode": "markers",
         "name": "Gaudeat, puella quam Virgilius amat ! Musae comam eius coronis floreis ornant, sicut Venus optat.",
         "text": [
          "Gaudeat, puella quam Virgilius amat ! Musae comam eius coronis floreis ornant, sicut Venus optat."
         ],
         "type": "scatter3d",
         "x": [
          -0.03640339523553848
         ],
         "y": [
          -4.0164581150747836e-05
         ],
         "z": [
          0.006642531603574753
         ]
        },
        {
         "marker": {
          "color": 4,
          "opacity": 0.8,
          "size": 8
         },
         "mode": "markers",
         "name": "Seruus asinus agrum ducit.",
         "text": [
          "Seruus asinus agrum ducit."
         ],
         "type": "scatter3d",
         "x": [
          0.03166855499148369
         ],
         "y": [
          0.04149482026696205
         ],
         "z": [
          0.016904782503843307
         ]
        }
       ],
       "layout": {
        "autosize": true,
        "scene": {
         "aspectmode": "auto",
         "aspectratio": {
          "x": 1.258810564655602,
          "y": 0.958568834807534,
          "z": 0.8287362118762707
         },
         "xaxis": {
          "title": {
           "text": "Dimension 1"
          },
          "type": "linear"
         },
         "yaxis": {
          "title": {
           "text": "Dimension 2"
          },
          "type": "linear"
         },
         "zaxis": {
          "title": {
           "text": "Dimension 3"
          },
          "type": "linear"
         }
        },
        "template": {
         "data": {
          "bar": [
           {
            "error_x": {
             "color": "#2a3f5f"
            },
            "error_y": {
             "color": "#2a3f5f"
            },
            "marker": {
             "line": {
              "color": "#E5ECF6",
              "width": 0.5
             },
             "pattern": {
              "fillmode": "overlay",
              "size": 10,
              "solidity": 0.2
             }
            },
            "type": "bar"
           }
          ],
          "barpolar": [
           {
            "marker": {
             "line": {
              "color": "#E5ECF6",
              "width": 0.5
             },
             "pattern": {
              "fillmode": "overlay",
              "size": 10,
              "solidity": 0.2
             }
            },
            "type": "barpolar"
           }
          ],
          "carpet": [
           {
            "aaxis": {
             "endlinecolor": "#2a3f5f",
             "gridcolor": "white",
             "linecolor": "white",
             "minorgridcolor": "white",
             "startlinecolor": "#2a3f5f"
            },
            "baxis": {
             "endlinecolor": "#2a3f5f",
             "gridcolor": "white",
             "linecolor": "white",
             "minorgridcolor": "white",
             "startlinecolor": "#2a3f5f"
            },
            "type": "carpet"
           }
          ],
          "choropleth": [
           {
            "colorbar": {
             "outlinewidth": 0,
             "ticks": ""
            },
            "type": "choropleth"
           }
          ],
          "contour": [
           {
            "colorbar": {
             "outlinewidth": 0,
             "ticks": ""
            },
            "colorscale": [
             [
              0,
              "#0d0887"
             ],
             [
              0.1111111111111111,
              "#46039f"
             ],
             [
              0.2222222222222222,
              "#7201a8"
             ],
             [
              0.3333333333333333,
              "#9c179e"
             ],
             [
              0.4444444444444444,
              "#bd3786"
             ],
             [
              0.5555555555555556,
              "#d8576b"
             ],
             [
              0.6666666666666666,
              "#ed7953"
             ],
             [
              0.7777777777777778,
              "#fb9f3a"
             ],
             [
              0.8888888888888888,
              "#fdca26"
             ],
             [
              1,
              "#f0f921"
             ]
            ],
            "type": "contour"
           }
          ],
          "contourcarpet": [
           {
            "colorbar": {
             "outlinewidth": 0,
             "ticks": ""
            },
            "type": "contourcarpet"
           }
          ],
          "heatmap": [
           {
            "colorbar": {
             "outlinewidth": 0,
             "ticks": ""
            },
            "colorscale": [
             [
              0,
              "#0d0887"
             ],
             [
              0.1111111111111111,
              "#46039f"
             ],
             [
              0.2222222222222222,
              "#7201a8"
             ],
             [
              0.3333333333333333,
              "#9c179e"
             ],
             [
              0.4444444444444444,
              "#bd3786"
             ],
             [
              0.5555555555555556,
              "#d8576b"
             ],
             [
              0.6666666666666666,
              "#ed7953"
             ],
             [
              0.7777777777777778,
              "#fb9f3a"
             ],
             [
              0.8888888888888888,
              "#fdca26"
             ],
             [
              1,
              "#f0f921"
             ]
            ],
            "type": "heatmap"
           }
          ],
          "heatmapgl": [
           {
            "colorbar": {
             "outlinewidth": 0,
             "ticks": ""
            },
            "colorscale": [
             [
              0,
              "#0d0887"
             ],
             [
              0.1111111111111111,
              "#46039f"
             ],
             [
              0.2222222222222222,
              "#7201a8"
             ],
             [
              0.3333333333333333,
              "#9c179e"
             ],
             [
              0.4444444444444444,
              "#bd3786"
             ],
             [
              0.5555555555555556,
              "#d8576b"
             ],
             [
              0.6666666666666666,
              "#ed7953"
             ],
             [
              0.7777777777777778,
              "#fb9f3a"
             ],
             [
              0.8888888888888888,
              "#fdca26"
             ],
             [
              1,
              "#f0f921"
             ]
            ],
            "type": "heatmapgl"
           }
          ],
          "histogram": [
           {
            "marker": {
             "pattern": {
              "fillmode": "overlay",
              "size": 10,
              "solidity": 0.2
             }
            },
            "type": "histogram"
           }
          ],
          "histogram2d": [
           {
            "colorbar": {
             "outlinewidth": 0,
             "ticks": ""
            },
            "colorscale": [
             [
              0,
              "#0d0887"
             ],
             [
              0.1111111111111111,
              "#46039f"
             ],
             [
              0.2222222222222222,
              "#7201a8"
             ],
             [
              0.3333333333333333,
              "#9c179e"
             ],
             [
              0.4444444444444444,
              "#bd3786"
             ],
             [
              0.5555555555555556,
              "#d8576b"
             ],
             [
              0.6666666666666666,
              "#ed7953"
             ],
             [
              0.7777777777777778,
              "#fb9f3a"
             ],
             [
              0.8888888888888888,
              "#fdca26"
             ],
             [
              1,
              "#f0f921"
             ]
            ],
            "type": "histogram2d"
           }
          ],
          "histogram2dcontour": [
           {
            "colorbar": {
             "outlinewidth": 0,
             "ticks": ""
            },
            "colorscale": [
             [
              0,
              "#0d0887"
             ],
             [
              0.1111111111111111,
              "#46039f"
             ],
             [
              0.2222222222222222,
              "#7201a8"
             ],
             [
              0.3333333333333333,
              "#9c179e"
             ],
             [
              0.4444444444444444,
              "#bd3786"
             ],
             [
              0.5555555555555556,
              "#d8576b"
             ],
             [
              0.6666666666666666,
              "#ed7953"
             ],
             [
              0.7777777777777778,
              "#fb9f3a"
             ],
             [
              0.8888888888888888,
              "#fdca26"
             ],
             [
              1,
              "#f0f921"
             ]
            ],
            "type": "histogram2dcontour"
           }
          ],
          "mesh3d": [
           {
            "colorbar": {
             "outlinewidth": 0,
             "ticks": ""
            },
            "type": "mesh3d"
           }
          ],
          "parcoords": [
           {
            "line": {
             "colorbar": {
              "outlinewidth": 0,
              "ticks": ""
             }
            },
            "type": "parcoords"
           }
          ],
          "pie": [
           {
            "automargin": true,
            "type": "pie"
           }
          ],
          "scatter": [
           {
            "fillpattern": {
             "fillmode": "overlay",
             "size": 10,
             "solidity": 0.2
            },
            "type": "scatter"
           }
          ],
          "scatter3d": [
           {
            "line": {
             "colorbar": {
              "outlinewidth": 0,
              "ticks": ""
             }
            },
            "marker": {
             "colorbar": {
              "outlinewidth": 0,
              "ticks": ""
             }
            },
            "type": "scatter3d"
           }
          ],
          "scattercarpet": [
           {
            "marker": {
             "colorbar": {
              "outlinewidth": 0,
              "ticks": ""
             }
            },
            "type": "scattercarpet"
           }
          ],
          "scattergeo": [
           {
            "marker": {
             "colorbar": {
              "outlinewidth": 0,
              "ticks": ""
             }
            },
            "type": "scattergeo"
           }
          ],
          "scattergl": [
           {
            "marker": {
             "colorbar": {
              "outlinewidth": 0,
              "ticks": ""
             }
            },
            "type": "scattergl"
           }
          ],
          "scattermapbox": [
           {
            "marker": {
             "colorbar": {
              "outlinewidth": 0,
              "ticks": ""
             }
            },
            "type": "scattermapbox"
           }
          ],
          "scatterpolar": [
           {
            "marker": {
             "colorbar": {
              "outlinewidth": 0,
              "ticks": ""
             }
            },
            "type": "scatterpolar"
           }
          ],
          "scatterpolargl": [
           {
            "marker": {
             "colorbar": {
              "outlinewidth": 0,
              "ticks": ""
             }
            },
            "type": "scatterpolargl"
           }
          ],
          "scatterternary": [
           {
            "marker": {
             "colorbar": {
              "outlinewidth": 0,
              "ticks": ""
             }
            },
            "type": "scatterternary"
           }
          ],
          "surface": [
           {
            "colorbar": {
             "outlinewidth": 0,
             "ticks": ""
            },
            "colorscale": [
             [
              0,
              "#0d0887"
             ],
             [
              0.1111111111111111,
              "#46039f"
             ],
             [
              0.2222222222222222,
              "#7201a8"
             ],
             [
              0.3333333333333333,
              "#9c179e"
             ],
             [
              0.4444444444444444,
              "#bd3786"
             ],
             [
              0.5555555555555556,
              "#d8576b"
             ],
             [
              0.6666666666666666,
              "#ed7953"
             ],
             [
              0.7777777777777778,
              "#fb9f3a"
             ],
             [
              0.8888888888888888,
              "#fdca26"
             ],
             [
              1,
              "#f0f921"
             ]
            ],
            "type": "surface"
           }
          ],
          "table": [
           {
            "cells": {
             "fill": {
              "color": "#EBF0F8"
             },
             "line": {
              "color": "white"
             }
            },
            "header": {
             "fill": {
              "color": "#C8D4E3"
             },
             "line": {
              "color": "white"
             }
            },
            "type": "table"
           }
          ]
         },
         "layout": {
          "annotationdefaults": {
           "arrowcolor": "#2a3f5f",
           "arrowhead": 0,
           "arrowwidth": 1
          },
          "autotypenumbers": "strict",
          "coloraxis": {
           "colorbar": {
            "outlinewidth": 0,
            "ticks": ""
           }
          },
          "colorscale": {
           "diverging": [
            [
             0,
             "#8e0152"
            ],
            [
             0.1,
             "#c51b7d"
            ],
            [
             0.2,
             "#de77ae"
            ],
            [
             0.3,
             "#f1b6da"
            ],
            [
             0.4,
             "#fde0ef"
            ],
            [
             0.5,
             "#f7f7f7"
            ],
            [
             0.6,
             "#e6f5d0"
            ],
            [
             0.7,
             "#b8e186"
            ],
            [
             0.8,
             "#7fbc41"
            ],
            [
             0.9,
             "#4d9221"
            ],
            [
             1,
             "#276419"
            ]
           ],
           "sequential": [
            [
             0,
             "#0d0887"
            ],
            [
             0.1111111111111111,
             "#46039f"
            ],
            [
             0.2222222222222222,
             "#7201a8"
            ],
            [
             0.3333333333333333,
             "#9c179e"
            ],
            [
             0.4444444444444444,
             "#bd3786"
            ],
            [
             0.5555555555555556,
             "#d8576b"
            ],
            [
             0.6666666666666666,
             "#ed7953"
            ],
            [
             0.7777777777777778,
             "#fb9f3a"
            ],
            [
             0.8888888888888888,
             "#fdca26"
            ],
            [
             1,
             "#f0f921"
            ]
           ],
           "sequentialminus": [
            [
             0,
             "#0d0887"
            ],
            [
             0.1111111111111111,
             "#46039f"
            ],
            [
             0.2222222222222222,
             "#7201a8"
            ],
            [
             0.3333333333333333,
             "#9c179e"
            ],
            [
             0.4444444444444444,
             "#bd3786"
            ],
            [
             0.5555555555555556,
             "#d8576b"
            ],
            [
             0.6666666666666666,
             "#ed7953"
            ],
            [
             0.7777777777777778,
             "#fb9f3a"
            ],
            [
             0.8888888888888888,
             "#fdca26"
            ],
            [
             1,
             "#f0f921"
            ]
           ]
          },
          "colorway": [
           "#636efa",
           "#EF553B",
           "#00cc96",
           "#ab63fa",
           "#FFA15A",
           "#19d3f3",
           "#FF6692",
           "#B6E880",
           "#FF97FF",
           "#FECB52"
          ],
          "font": {
           "color": "#2a3f5f"
          },
          "geo": {
           "bgcolor": "white",
           "lakecolor": "white",
           "landcolor": "#E5ECF6",
           "showlakes": true,
           "showland": true,
           "subunitcolor": "white"
          },
          "hoverlabel": {
           "align": "left"
          },
          "hovermode": "closest",
          "mapbox": {
           "style": "light"
          },
          "paper_bgcolor": "white",
          "plot_bgcolor": "#E5ECF6",
          "polar": {
           "angularaxis": {
            "gridcolor": "white",
            "linecolor": "white",
            "ticks": ""
           },
           "bgcolor": "#E5ECF6",
           "radialaxis": {
            "gridcolor": "white",
            "linecolor": "white",
            "ticks": ""
           }
          },
          "scene": {
           "xaxis": {
            "backgroundcolor": "#E5ECF6",
            "gridcolor": "white",
            "gridwidth": 2,
            "linecolor": "white",
            "showbackground": true,
            "ticks": "",
            "zerolinecolor": "white"
           },
           "yaxis": {
            "backgroundcolor": "#E5ECF6",
            "gridcolor": "white",
            "gridwidth": 2,
            "linecolor": "white",
            "showbackground": true,
            "ticks": "",
            "zerolinecolor": "white"
           },
           "zaxis": {
            "backgroundcolor": "#E5ECF6",
            "gridcolor": "white",
            "gridwidth": 2,
            "linecolor": "white",
            "showbackground": true,
            "ticks": "",
            "zerolinecolor": "white"
           }
          },
          "shapedefaults": {
           "line": {
            "color": "#2a3f5f"
           }
          },
          "ternary": {
           "aaxis": {
            "gridcolor": "white",
            "linecolor": "white",
            "ticks": ""
           },
           "baxis": {
            "gridcolor": "white",
            "linecolor": "white",
            "ticks": ""
           },
           "bgcolor": "#E5ECF6",
           "caxis": {
            "gridcolor": "white",
            "linecolor": "white",
            "ticks": ""
           }
          },
          "title": {
           "x": 0.05
          },
          "xaxis": {
           "automargin": true,
           "gridcolor": "white",
           "linecolor": "white",
           "ticks": "",
           "title": {
            "standoff": 15
           },
           "zerolinecolor": "white",
           "zerolinewidth": 2
          },
          "yaxis": {
           "automargin": true,
           "gridcolor": "white",
           "linecolor": "white",
           "ticks": "",
           "title": {
            "standoff": 15
           },
           "zerolinecolor": "white",
           "zerolinewidth": 2
          }
         }
        },
        "title": {
         "text": "Interactive 3D Sentence Embeddings Visualization"
        }
       }
      },
      "image/png": "[encoded data removed]",
      "text/html": [
       "<div>                            <div id=\"49d408ca-4336-4ab8-b643-812d08471133\" class=\"plotly-graph-div\" style=\"height:525px; width:100%;\"></div>            <script type=\"text/javascript\">                require([\"plotly\"], function(Plotly) {                    window.PLOTLYENV=window.PLOTLYENV || {};                                    if (document.getElementById(\"49d408ca-4336-4ab8-b643-812d08471133\")) {                    Plotly.newPlot(                        \"49d408ca-4336-4ab8-b643-812d08471133\",                        [{\"marker\":{\"color\":0,\"opacity\":0.8,\"size\":8},\"mode\":\"markers\",\"name\":\"Poeta puellis multas litteras scribit quia eam amat\",\"text\":[\"Poeta puellis multas litteras scribit quia eam amat\"],\"x\":[0.024761857464909554],\"y\":[0.014117863029241562],\"z\":[0.012923458591103554],\"type\":\"scatter3d\"},{\"marker\":{\"color\":1,\"opacity\":0.8,\"size\":8},\"mode\":\"markers\",\"name\":\"Virgo amicae narrat poetam ei multas litteras scribere. Utique cor pulsat.\",\"text\":[\"Virgo amicae narrat poetam ei multas litteras scribere. Utique cor pulsat.\"],\"x\":[0.03450378403067589],\"y\":[0.010975935496389866],\"z\":[0.029469391331076622],\"type\":\"scatter3d\"},{\"marker\":{\"color\":2,\"opacity\":0.8,\"size\":8},\"mode\":\"markers\",\"name\":\"Proxime factum est. Vt fama refert, puella Carthiginiensis versus cuidam poetae accepit.\",\"text\":[\"Proxime factum est. Vt fama refert, puella Carthiginiensis versus cuidam poetae accepit.\"],\"x\":[-0.033896178007125854],\"y\":[-0.012500128708779812],\"z\":[-0.01721225306391716],\"type\":\"scatter3d\"},{\"marker\":{\"color\":3,\"opacity\":0.8,\"size\":8},\"mode\":\"markers\",\"name\":\"Gaudeat, puella quam Virgilius amat ! Musae comam eius coronis floreis ornant, sicut Venus optat.\",\"text\":[\"Gaudeat, puella quam Virgilius amat ! Musae comam eius coronis floreis ornant, sicut Venus optat.\"],\"x\":[-0.03640339523553848],\"y\":[-4.0164581150747836e-05],\"z\":[0.006642531603574753],\"type\":\"scatter3d\"},{\"marker\":{\"color\":4,\"opacity\":0.8,\"size\":8},\"mode\":\"markers\",\"name\":\"Seruus asinus agrum ducit.\",\"text\":[\"Seruus asinus agrum ducit.\"],\"x\":[0.03166855499148369],\"y\":[0.04149482026696205],\"z\":[0.016904782503843307],\"type\":\"scatter3d\"}],                        {\"template\":{\"data\":{\"histogram2dcontour\":[{\"type\":\"histogram2dcontour\",\"colorbar\":{\"outlinewidth\":0,\"ticks\":\"\"},\"colorscale\":[[0.0,\"#0d0887\"],[0.1111111111111111,\"#46039f\"],[0.2222222222222222,\"#7201a8\"],[0.3333333333333333,\"#9c179e\"],[0.4444444444444444,\"#bd3786\"],[0.5555555555555556,\"#d8576b\"],[0.6666666666666666,\"#ed7953\"],[0.7777777777777778,\"#fb9f3a\"],[0.8888888888888888,\"#fdca26\"],[1.0,\"#f0f921\"]]}],\"choropleth\":[{\"type\":\"choropleth\",\"colorbar\":{\"outlinewidth\":0,\"ticks\":\"\"}}],\"histogram2d\":[{\"type\":\"histogram2d\",\"colorbar\":{\"outlinewidth\":0,\"ticks\":\"\"},\"colorscale\":[[0.0,\"#0d0887\"],[0.1111111111111111,\"#46039f\"],[0.2222222222222222,\"#7201a8\"],[0.3333333333333333,\"#9c179e\"],[0.4444444444444444,\"#bd3786\"],[0.5555555555555556,\"#d8576b\"],[0.6666666666666666,\"#ed7953\"],[0.7777777777777778,\"#fb9f3a\"],[0.8888888888888888,\"#fdca26\"],[1.0,\"#f0f921\"]]}],\"heatmap\":[{\"type\":\"heatmap\",\"colorbar\":{\"outlinewidth\":0,\"ticks\":\"\"},\"colorscale\":[[0.0,\"#0d0887\"],[0.1111111111111111,\"#46039f\"],[0.2222222222222222,\"#7201a8\"],[0.3333333333333333,\"#9c179e\"],[0.4444444444444444,\"#bd3786\"],[0.5555555555555556,\"#d8576b\"],[0.6666666666666666,\"#ed7953\"],[0.7777777777777778,\"#fb9f3a\"],[0.8888888888888888,\"#fdca26\"],[1.0,\"#f0f921\"]]}],\"heatmapgl\":[{\"type\":\"heatmapgl\",\"colorbar\":{\"outlinewidth\":0,\"ticks\":\"\"},\"colorscale\":[[0.0,\"#0d0887\"],[0.1111111111111111,\"#46039f\"],[0.2222222222222222,\"#7201a8\"],[0.3333333333333333,\"#9c179e\"],[0.4444444444444444,\"#bd3786\"],[0.5555555555555556,\"#d8576b\"],[0.6666666666666666,\"#ed7953\"],[0.7777777777777778,\"#fb9f3a\"],[0.8888888888888888,\"#fdca26\"],[1.0,\"#f0f921\"]]}],\"contourcarpet\":[{\"type\":\"contourcarpet\",\"colorbar\":{\"outlinewidth\":0,\"ticks\":\"\"}}],\"contour\":[{\"type\":\"contour\",\"colorbar\":{\"outlinewidth\":0,\"ticks\":\"\"},\"colorscale\":[[0.0,\"#0d0887\"],[0.1111111111111111,\"#46039f\"],[0.2222222222222222,\"#7201a8\"],[0.3333333333333333,\"#9c179e\"],[0.4444444444444444,\"#bd3786\"],[0.5555555555555556,\"#d8576b\"],[0.6666666666666666,\"#ed7953\"],[0.7777777777777778,\"#fb9f3a\"],[0.8888888888888888,\"#fdca26\"],[1.0,\"#f0f921\"]]}],\"surface\":[{\"type\":\"surface\",\"colorbar\":{\"outlinewidth\":0,\"ticks\":\"\"},\"colorscale\":[[0.0,\"#0d0887\"],[0.1111111111111111,\"#46039f\"],[0.2222222222222222,\"#7201a8\"],[0.3333333333333333,\"#9c179e\"],[0.4444444444444444,\"#bd3786\"],[0.5555555555555556,\"#d8576b\"],[0.6666666666666666,\"#ed7953\"],[0.7777777777777778,\"#fb9f3a\"],[0.8888888888888888,\"#fdca26\"],[1.0,\"#f0f921\"]]}],\"mesh3d\":[{\"type\":\"mesh3d\",\"colorbar\":{\"outlinewidth\":0,\"ticks\":\"\"}}],\"scatter\":[{\"fillpattern\":{\"fillmode\":\"overlay\",\"size\":10,\"solidity\":0.2},\"type\":\"scatter\"}],\"parcoords\":[{\"type\":\"parcoords\",\"line\":{\"colorbar\":{\"outlinewidth\":0,\"ticks\":\"\"}}}],\"scatterpolargl\":[{\"type\":\"scatterpolargl\",\"marker\":{\"colorbar\":{\"outlinewidth\":0,\"ticks\":\"\"}}}],\"bar\":[{\"error_x\":{\"color\":\"#2a3f5f\"},\"error_y\":{\"color\":\"#2a3f5f\"},\"marker\":{\"line\":{\"color\":\"#E5ECF6\",\"width\":0.5},\"pattern\":{\"fillmode\":\"overlay\",\"size\":10,\"solidity\":0.2}},\"type\":\"bar\"}],\"scattergeo\":[{\"type\":\"scattergeo\",\"marker\":{\"colorbar\":{\"outlinewidth\":0,\"ticks\":\"\"}}}],\"scatterpolar\":[{\"type\":\"scatterpolar\",\"marker\":{\"colorbar\":{\"outlinewidth\":0,\"ticks\":\"\"}}}],\"histogram\":[{\"marker\":{\"pattern\":{\"fillmode\":\"overlay\",\"size\":10,\"solidity\":0.2}},\"type\":\"histogram\"}],\"scattergl\":[{\"type\":\"scattergl\",\"marker\":{\"colorbar\":{\"outlinewidth\":0,\"ticks\":\"\"}}}],\"scatter3d\":[{\"type\":\"scatter3d\",\"line\":{\"colorbar\":{\"outlinewidth\":0,\"ticks\":\"\"}},\"marker\":{\"colorbar\":{\"outlinewidth\":0,\"ticks\":\"\"}}}],\"scattermapbox\":[{\"type\":\"scattermapbox\",\"marker\":{\"colorbar\":{\"outlinewidth\":0,\"ticks\":\"\"}}}],\"scatterternary\":[{\"type\":\"scatterternary\",\"marker\":{\"colorbar\":{\"outlinewidth\":0,\"ticks\":\"\"}}}],\"scattercarpet\":[{\"type\":\"scattercarpet\",\"marker\":{\"colorbar\":{\"outlinewidth\":0,\"ticks\":\"\"}}}],\"carpet\":[{\"aaxis\":{\"endlinecolor\":\"#2a3f5f\",\"gridcolor\":\"white\",\"linecolor\":\"white\",\"minorgridcolor\":\"white\",\"startlinecolor\":\"#2a3f5f\"},\"baxis\":{\"endlinecolor\":\"#2a3f5f\",\"gridcolor\":\"white\",\"linecolor\":\"white\",\"minorgridcolor\":\"white\",\"startlinecolor\":\"#2a3f5f\"},\"type\":\"carpet\"}],\"table\":[{\"cells\":{\"fill\":{\"color\":\"#EBF0F8\"},\"line\":{\"color\":\"white\"}},\"header\":{\"fill\":{\"color\":\"#C8D4E3\"},\"line\":{\"color\":\"white\"}},\"type\":\"table\"}],\"barpolar\":[{\"marker\":{\"line\":{\"color\":\"#E5ECF6\",\"width\":0.5},\"pattern\":{\"fillmode\":\"overlay\",\"size\":10,\"solidity\":0.2}},\"type\":\"barpolar\"}],\"pie\":[{\"automargin\":true,\"type\":\"pie\"}]},\"layout\":{\"autotypenumbers\":\"strict\",\"colorway\":[\"#636efa\",\"#EF553B\",\"#00cc96\",\"#ab63fa\",\"#FFA15A\",\"#19d3f3\",\"#FF6692\",\"#B6E880\",\"#FF97FF\",\"#FECB52\"],\"font\":{\"color\":\"#2a3f5f\"},\"hovermode\":\"closest\",\"hoverlabel\":{\"align\":\"left\"},\"paper_bgcolor\":\"white\",\"plot_bgcolor\":\"#E5ECF6\",\"polar\":{\"bgcolor\":\"#E5ECF6\",\"angularaxis\":{\"gridcolor\":\"white\",\"linecolor\":\"white\",\"ticks\":\"\"},\"radialaxis\":{\"gridcolor\":\"white\",\"linecolor\":\"white\",\"ticks\":\"\"}},\"ternary\":{\"bgcolor\":\"#E5ECF6\",\"aaxis\":{\"gridcolor\":\"white\",\"linecolor\":\"white\",\"ticks\":\"\"},\"baxis\":{\"gridcolor\":\"white\",\"linecolor\":\"white\",\"ticks\":\"\"},\"caxis\":{\"gridcolor\":\"white\",\"linecolor\":\"white\",\"ticks\":\"\"}},\"coloraxis\":{\"colorbar\":{\"outlinewidth\":0,\"ticks\":\"\"}},\"colorscale\":{\"sequential\":[[0.0,\"#0d0887\"],[0.1111111111111111,\"#46039f\"],[0.2222222222222222,\"#7201a8\"],[0.3333333333333333,\"#9c179e\"],[0.4444444444444444,\"#bd3786\"],[0.5555555555555556,\"#d8576b\"],[0.6666666666666666,\"#ed7953\"],[0.7777777777777778,\"#fb9f3a\"],[0.8888888888888888,\"#fdca26\"],[1.0,\"#f0f921\"]],\"sequentialminus\":[[0.0,\"#0d0887\"],[0.1111111111111111,\"#46039f\"],[0.2222222222222222,\"#7201a8\"],[0.3333333333333333,\"#9c179e\"],[0.4444444444444444,\"#bd3786\"],[0.5555555555555556,\"#d8576b\"],[0.6666666666666666,\"#ed7953\"],[0.7777777777777778,\"#fb9f3a\"],[0.8888888888888888,\"#fdca26\"],[1.0,\"#f0f921\"]],\"diverging\":[[0,\"#8e0152\"],[0.1,\"#c51b7d\"],[0.2,\"#de77ae\"],[0.3,\"#f1b6da\"],[0.4,\"#fde0ef\"],[0.5,\"#f7f7f7\"],[0.6,\"#e6f5d0\"],[0.7,\"#b8e186\"],[0.8,\"#7fbc41\"],[0.9,\"#4d9221\"],[1,\"#276419\"]]},\"xaxis\":{\"gridcolor\":\"white\",\"linecolor\":\"white\",\"ticks\":\"\",\"title\":{\"standoff\":15},\"zerolinecolor\":\"white\",\"automargin\":true,\"zerolinewidth\":2},\"yaxis\":{\"gridcolor\":\"white\",\"linecolor\":\"white\",\"ticks\":\"\",\"title\":{\"standoff\":15},\"zerolinecolor\":\"white\",\"automargin\":true,\"zerolinewidth\":2},\"scene\":{\"xaxis\":{\"backgroundcolor\":\"#E5ECF6\",\"gridcolor\":\"white\",\"linecolor\":\"white\",\"showbackground\":true,\"ticks\":\"\",\"zerolinecolor\":\"white\",\"gridwidth\":2},\"yaxis\":{\"backgroundcolor\":\"#E5ECF6\",\"gridcolor\":\"white\",\"linecolor\":\"white\",\"showbackground\":true,\"ticks\":\"\",\"zerolinecolor\":\"white\",\"gridwidth\":2},\"zaxis\":{\"backgroundcolor\":\"#E5ECF6\",\"gridcolor\":\"white\",\"linecolor\":\"white\",\"showbackground\":true,\"ticks\":\"\",\"zerolinecolor\":\"white\",\"gridwidth\":2}},\"shapedefaults\":{\"line\":{\"color\":\"#2a3f5f\"}},\"annotationdefaults\":{\"arrowcolor\":\"#2a3f5f\",\"arrowhead\":0,\"arrowwidth\":1},\"geo\":{\"bgcolor\":\"white\",\"landcolor\":\"#E5ECF6\",\"subunitcolor\":\"white\",\"showland\":true,\"showlakes\":true,\"lakecolor\":\"white\"},\"title\":{\"x\":0.05},\"mapbox\":{\"style\":\"light\"}}},\"scene\":{\"xaxis\":{\"title\":{\"text\":\"Dimension 1\"}},\"yaxis\":{\"title\":{\"text\":\"Dimension 2\"}},\"zaxis\":{\"title\":{\"text\":\"Dimension 3\"}}},\"title\":{\"text\":\"Interactive 3D Sentence Embeddings Visualization\"}},                        {\"responsive\": true}                    ).then(function(){\n",
       "                            \n",
       "var gd = document.getElementById('49d408ca-4336-4ab8-b643-812d08471133');\n",
       "var x = new MutationObserver(function (mutations, observer) {{\n",
       "        var display = window.getComputedStyle(gd).display;\n",
       "        if (!display || display === 'none') {{\n",
       "            console.log([gd, 'removed!']);\n",
       "            Plotly.purge(gd);\n",
       "            observer.disconnect();\n",
       "        }}\n",
       "}});\n",
       "\n",
       "// Listen for the removal of the full notebook cells\n",
       "var notebookContainer = gd.closest('#notebook-container');\n",
       "if (notebookContainer) {{\n",
       "    x.observe(notebookContainer, {childList: true});\n",
       "}}\n",
       "\n",
       "// Listen for the clearing of the current output cell\n",
       "var outputEl = gd.closest('.output');\n",
       "if (outputEl) {{\n",
       "    x.observe(outputEl, {childList: true});\n",
       "}}\n",
       "\n",
       "                        })                };                });            </script>        </div>"
      ]
     },
     "metadata": {},
     "output_type": "display_data"
    }
   ],
   "source": [
    "import plotly.graph_objects as go\n",
    "\n",
    "# Assuming you have the model loaded and ready\n",
    "\n",
    "# Tokenize and pad the sentences\n",
    "from tensorflow.keras.preprocessing.text import Tokenizer\n",
    "from tensorflow.keras.preprocessing.sequence import pad_sequences\n",
    "\n",
    "tokenizer = Tokenizer()\n",
    "tokenizer.fit_on_texts(sentences)\n",
    "total_words = len(tokenizer.word_index) + 1\n",
    "\n",
    "# Convert sentences to sequences\n",
    "sequences = tokenizer.texts_to_sequences(sentences)\n",
    "\n",
    "# Pad sequences to have consistent length\n",
    "max_sequence_length = max([len(seq) for seq in sequences])\n",
    "padded_sequences = pad_sequences(sequences, maxlen=max_sequence_length, padding='post')\n",
    "\n",
    "# Generate embeddings using the model\n",
    "embeddings = model.layers[0].get_weights()[0]\n",
    "\n",
    "# Create a 3D scatter plot with plotly\n",
    "fig = go.Figure()\n",
    "\n",
    "for i, sentence in enumerate(sentences):\n",
    "    fig.add_trace(go.Scatter3d(\n",
    "        x=[embeddings[i, 0]],\n",
    "        y=[embeddings[i, 1]],\n",
    "        z=[embeddings[i, 2]],\n",
    "        text=[sentence],\n",
    "        mode='markers',\n",
    "        marker=dict(\n",
    "            size=8,\n",
    "            color=i,  # You can use a color scale if needed\n",
    "            opacity=0.8\n",
    "        ),\n",
    "        name=sentence\n",
    "    ))\n",
    "\n",
    "fig.update_layout(\n",
    "    scene=dict(\n",
    "        xaxis_title='Dimension 1',\n",
    "        yaxis_title='Dimension 2',\n",
    "        zaxis_title='Dimension 3',\n",
    "    ),\n",
    "    title='Interactive 3D Sentence Embeddings Visualization'\n",
    ")\n",
    "\n",
    "# Display the plot in the notebook\n",
    "fig.show()\n",
    "\n",
    "# Save the plot as an HTML file\n",
    "fig.write_html(\"interactive_3d_plot.html\")\n"
   ]
  },
  {
   "cell_type": "code",
   "execution_count": 45,
   "id": "84c01965-4e9e-434a-9554-dc0126c27494",
   "metadata": {},
   "outputs": [
    {
     "name": "stdout",
     "output_type": "stream",
     "text": [
      "1/1 [==============================] - 0s 402ms/step\n"
     ]
    },
    {
     "data": {
      "image/png": "[encoded data removed]",
      "text/plain": [
       "<Figure size 864x432 with 4 Axes>"
      ]
     },
     "metadata": {
      "needs_background": "light"
     },
     "output_type": "display_data"
    }
   ],
   "source": [
    "import matplotlib.pyplot as plt\n",
    "import numpy as np\n",
    "\n",
    "# Assuming you have a model with LSTM layers\n",
    "# You may need to modify this based on your actual model architecture\n",
    "\n",
    "# Tokenize and pad the sentences\n",
    "from tensorflow.keras.preprocessing.text import Tokenizer\n",
    "from tensorflow.keras.preprocessing.sequence import pad_sequences\n",
    "\n",
    "tokenizer = Tokenizer()\n",
    "tokenizer.fit_on_texts(sentences)\n",
    "total_words = len(tokenizer.word_index) + 1\n",
    "\n",
    "# Convert a specific sentence to sequences\n",
    "input_sentence = \"Poeta puellis multas litteras scribit quia eam amat\"\n",
    "input_sequence = tokenizer.texts_to_sequences([input_sentence])\n",
    "input_padded = pad_sequences(input_sequence, maxlen=max_sequence_length, padding='post')\n",
    "\n",
    "# Get the activations of LSTM layers\n",
    "activation_model = Model(inputs=model.input, outputs=[model.get_layer('lstm_2').output, model.get_layer('lstm_3').output])\n",
    "lstm1_activations, lstm2_activations = activation_model.predict(input_padded)\n",
    "\n",
    "# Plot the activations with a colorbar\n",
    "plt.figure(figsize=(12, 6))\n",
    "\n",
    "plt.subplot(1, 2, 1)\n",
    "plt.imshow(lstm1_activations.T, interpolation='nearest', cmap='viridis', aspect='auto')\n",
    "plt.title('LSTM 1 Activations')\n",
    "plt.xlabel('Time Step')\n",
    "plt.ylabel('Hidden Unit Index')\n",
    "plt.colorbar(label='Activation Value')\n",
    "\n",
    "plt.subplot(1, 2, 2)\n",
    "plt.imshow(lstm2_activations.T, interpolation='nearest', cmap='viridis', aspect='auto')\n",
    "plt.title('LSTM 2 Activations')\n",
    "plt.xlabel('Time Step')\n",
    "plt.ylabel('Hidden Unit Index')\n",
    "plt.colorbar(label='Activation Value')\n",
    "\n",
    "plt.tight_layout()\n",
    "plt.show()\n"
   ]
  },
  {
   "cell_type": "code",
   "execution_count": 46,
   "id": "814b9691-62a5-41f8-a11f-0cd8c19a1a2e",
   "metadata": {},
   "outputs": [
    {
     "name": "stdout",
     "output_type": "stream",
     "text": [
      "Topic #1:\n",
      "['creatoris', 'deus', 'deum', 'christum', 'dominus', 'spiritus', 'christus', 'deo', 'dei']\n",
      "Topic #2:\n",
      "['christus', 'deum', 'christum', 'dominus', 'creatoris', 'spiritus', 'deo', 'deus', 'dei']\n",
      "Topic #3:\n",
      "['deo', 'deus', 'dominus', 'deum', 'christum', 'creatoris', 'spiritus', 'christus', 'dei']\n",
      "Topic #4:\n",
      "['dei', 'dominus', 'christum', 'deum', 'creatoris', 'spiritus', 'christus', 'deo', 'deus']\n",
      "Topic #5:\n",
      "['spiritus', 'christum', 'dominus', 'creatoris', 'christus', 'deum', 'deo', 'deus', 'dei']\n"
     ]
    },
    {
     "name": "stderr",
     "output_type": "stream",
     "text": [
      "D:\\anaconda3\\lib\\site-packages\\sklearn\\decomposition\\_nmf.py:1710: ConvergenceWarning:\n",
      "\n",
      "Maximum number of iterations 200 reached. Increase it to improve convergence.\n",
      "\n"
     ]
    }
   ],
   "source": [
    "from sklearn.decomposition import NMF\n",
    "import numpy as np\n",
    "\n",
    "# Assuming 'word_embeddings' is your word embeddings matrix\n",
    "# 'word_embeddings' should be a 2D array with dimensions (vocab_size, embedding_dim)\n",
    "\n",
    "# Ensure all values are non-negative (replace negative values with zero)\n",
    "word_embeddings_non_negative = np.maximum(word_embeddings, 0)\n",
    "\n",
    "# Number of topics you want to extract\n",
    "num_topics = 5\n",
    "\n",
    "# Create and fit NMF model\n",
    "nmf = NMF(n_components=num_topics, random_state=42)\n",
    "nmf.fit(word_embeddings_non_negative)\n",
    "\n",
    "# Get the topic distributions for each word\n",
    "word_topic_distributions = nmf.transform(word_embeddings_non_negative)\n",
    "\n",
    "# Print the top words for each topic\n",
    "feature_names = [str(i) for i in range(word_embeddings.shape[1])]\n",
    "for topic_idx, topic in enumerate(nmf.components_):\n",
    "    top_words_idx = topic.argsort()[:-10 - 1:-1]  # Get indices of top 10 words\n",
    "    top_words=[]\n",
    "    for id in top_words_idx:\n",
    "        if not  id == 0:\n",
    "            top_words.append(next(word for word, index in word_index.items() if index == id))\n",
    "    print(f\"Topic #{topic_idx + 1}:\")\n",
    "    print(top_words)"
   ]
  },
  {
   "cell_type": "code",
   "execution_count": null,
   "id": "d23c8d48-2b07-4825-9fd2-1d04cb722a28",
   "metadata": {},
   "outputs": [],
   "source": []
  }
 ],
 "metadata": {
  "kernelspec": {
   "display_name": "Python 3 (ipykernel)",
   "language": "python",
   "name": "python3"
  },
  "language_info": {
   "codemirror_mode": {
    "name": "ipython",
    "version": 3
   },
   "file_extension": ".py",
   "mimetype": "text/x-python",
   "name": "python",
   "nbconvert_exporter": "python",
   "pygments_lexer": "ipython3",
   "version": "3.9.7"
  }
 },
 "nbformat": 4,
 "nbformat_minor": 5
}
